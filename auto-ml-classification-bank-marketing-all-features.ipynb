{
  "cells": [
    {
      "cell_type": "markdown",
      "source": [
        "Copyright (c) Microsoft Corporation. All rights reserved.\n",
        "\n",
        "Licensed under the MIT License."
      ],
      "metadata": {}
    },
    {
      "cell_type": "markdown",
      "source": [
        "![Impressions](https://PixelServer20190423114238.azurewebsites.net/api/impressions/MachineLearningNotebooks/how-to-use-azureml/automated-machine-learning/classification-bank-marketing-all-features/auto-ml-classification-bank-marketing.png)"
      ],
      "metadata": {}
    },
    {
      "cell_type": "markdown",
      "source": [
        "# 自动机器学习 AutoML\r\n",
        "_**使用银行营销数据集进行分类和部署**_\r\n",
        "\r\n",
        "## 内容\r\n",
        "1. [Introduction](#Introduction)\r\n",
        "1. [Setup](#Setup)\r\n",
        "1. [Train](#Train)\r\n",
        "1. [Results](#Results)\r\n",
        "1. [Deploy](#Deploy)\r\n",
        "1. [Test](#Test)\r\n",
        "1. [Acknowledgements](#Acknowledgements)"
      ],
      "metadata": {}
    },
    {
      "cell_type": "markdown",
      "source": [
        "## Introduction\r\n",
        "\r\n",
        "在本例中，我们使用UCI银行营销数据集展示如何使用AutoML解决分类问题，并将其部署到Azure容器实例（ACI）。分类的目标是预测客户是否会向银行认购定期存款。\r\n",
        "\r\n",
        "如果您使用的是Azure机器学习计算实例，则已设置完毕。否则，如果尚未建立到AzureML工作区的连接，请先查看[配置]（https://github.com/Azure/MachineLearningNotebooks/blob/master/configuration.ipynb）笔记本。\r\n",
        "\r\n",
        "请在[此处](https://github.com/onnx/onnx)查找ONNX相关文档\r\n",
        "\r\n",
        "在本笔记本中，您将学习如何：\r\n",
        "1. 使用现有工作区创建实验。\r\n",
        "1. 使用“AutoMLConfig”配置AutoML。\r\n",
        "1. 使用ONNX兼容配置打开的本地计算来训练模型。\r\n",
        "1. 探索结果、特征化透明度选项并保存ONNX模型\r\n",
        "1. 使用ONNX模型进行推理。\r\n",
        "1. 注册模型。\r\n",
        "1. 创建容器映像。\r\n",
        "1. 创建Azure容器实例（ACI）服务。\r\n",
        "1. 测试ACI服务。\r\n",
        "\r\n",
        "此外，此笔记本显示以下功能\r\n",
        "-**阻止**某些管道执行\r\n",
        "- 指定**目标指标**表示停止标准\r\n",
        "- 处理数据源的**缺失数据**"
      ],
      "metadata": {}
    },
    {
      "cell_type": "markdown",
      "source": [
        "## Setup\r\n",
        "\r\n",
        "作为设置的一部分，您已经创建了Azure ML`Workspace`对象。对于AutoML，您需要创建一个“实验”对象，它是用于运行实验的“工作区”中的命名对象。"
      ],
      "metadata": {}
    },
    {
      "cell_type": "code",
      "execution_count": null,
      "source": [
        "import logging\r\n",
        "\r\n",
        "from matplotlib import pyplot as plt\r\n",
        "import pandas as pd\r\n",
        "import os\r\n",
        "\r\n",
        "import azureml.core\r\n",
        "from azureml.core.experiment import Experiment\r\n",
        "from azureml.core.workspace import Workspace\r\n",
        "from azureml.automl.core.featurization import FeaturizationConfig\r\n",
        "from azureml.core.dataset import Dataset\r\n",
        "from azureml.train.automl import AutoMLConfig\r\n",
        "from azureml.interpret import ExplanationClient"
      ],
      "outputs": [],
      "metadata": {}
    },
    {
      "cell_type": "markdown",
      "source": [
        "此示例笔记本可能使用Azure ML SDK早期版本中不可用的功能。"
      ],
      "metadata": {}
    },
    {
      "cell_type": "code",
      "execution_count": null,
      "source": [
        "print(\"This notebook was created using version 1.32.0 of the Azure ML SDK\")\r\n",
        "print(\"You are currently using version\", azureml.core.VERSION, \"of the Azure ML SDK\")"
      ],
      "outputs": [],
      "metadata": {}
    },
    {
      "cell_type": "markdown",
      "source": [
        "访问Azure ML工作区需要使用Azure进行身份验证。\r\n",
        "\r\n",
        "默认身份验证是使用默认租户的交互式身份验证。执行下面单元格中的`ws=Workspace.from_config()`行将在第一次运行时提示进行身份验证。\r\n",
        "\r\n",
        "如果您有多个Azure租户，可以通过将下面单元格中的`ws=Workspace.from_config()`行替换为以下内容来指定租户：\r\n",
        "\r\n",
        "```\r\n",
        "from azureml.core.authentication import InteractiveLoginAuthentication\r\n",
        "auth = InteractiveLoginAuthentication(tenant_id = 'mytenantid')\r\n",
        "ws = Workspace.from_config(auth = auth)\r\n",
        "```\r\n",
        "\r\n",
        "如果需要在无法进行交互式登录的环境中运行，可以使用服务主体身份验证，方法是将下面单元格中的`ws=Workspace.from_config()`行替换为以下内容：\r\n",
        "\r\n",
        "```\r\n",
        "from azureml.core.authentication import ServicePrincipalAuthentication\r\n",
        "auth = auth = ServicePrincipalAuthentication('mytenantid', 'myappid', 'mypassword')\r\n",
        "ws = Workspace.from_config(auth = auth)\r\n",
        "```\r\n",
        "有关详细信息，请参阅[aka.ms/aml-notebook-auth](http://aka.ms/aml-notebook-auth)"
      ],
      "metadata": {}
    },
    {
      "cell_type": "code",
      "execution_count": null,
      "source": [
        "ws = Workspace.from_config()\r\n",
        "\r\n",
        "# choose a name for experiment\r\n",
        "experiment_name = 'automl-classification-bmarketing-all'\r\n",
        "\r\n",
        "experiment=Experiment(ws, experiment_name)\r\n",
        "\r\n",
        "output = {}\r\n",
        "output['Subscription ID'] = ws.subscription_id\r\n",
        "output['Workspace'] = ws.name\r\n",
        "output['Resource Group'] = ws.resource_group\r\n",
        "output['Location'] = ws.location\r\n",
        "output['Experiment Name'] = experiment.name\r\n",
        "pd.set_option('display.max_colwidth', -1)\r\n",
        "outputDf = pd.DataFrame(data = output, index = [''])\r\n",
        "outputDf.T"
      ],
      "outputs": [],
      "metadata": {}
    },
    {
      "cell_type": "markdown",
      "source": [
        "## 创建或附加现有AmlCompute\r\n",
        "您需要为AutoML运行创建一个计算目标。在本教程中，您将创建AmlCompute作为培训计算资源。\r\n",
        "\r\n",
        "> 请注意，如果您具有AzureML数据科学家角色，您将没有创建计算资源的权限。如果本节中描述的计算目标不存在，请与您的工作区或IT管理员联系，以创建这些目标。\r\n",
        "\r\n",
        "#### 创建AmlCompute大约需要5分钟。\r\n",
        "如果具有该名称的AmlCompute已在您的工作区中，则此代码将跳过创建过程。\r\n",
        "与其他Azure服务一样，与Azure机器学习服务相关的某些资源（如AmlCompute）也有限制。请阅读[本文](https://docs.microsoft.com/en-us/azure/machine-learning/service/how-to-manage-quotas)关于默认限制以及如何请求更多配额。"
      ],
      "metadata": {}
    },
    {
      "cell_type": "code",
      "execution_count": null,
      "source": [
        "from azureml.core.compute import ComputeTarget, AmlCompute\r\n",
        "from azureml.core.compute_target import ComputeTargetException\r\n",
        "\r\n",
        "# Choose a name for your CPU cluster\r\n",
        "# cpu_cluster_name = \"cpu-cluster-4\"\r\n",
        "cpu_cluster_name = \"zhzhen1\"\r\n",
        "\r\n",
        "# Verify that cluster does not exist already\r\n",
        "try:\r\n",
        "    compute_target = ComputeTarget(workspace=ws, name=cpu_cluster_name)\r\n",
        "    print('Found existing cluster, use it.')\r\n",
        "except ComputeTargetException:\r\n",
        "    compute_config = AmlCompute.provisioning_configuration(vm_size='STANDARD_DS12_V2',\r\n",
        "                                                           max_nodes=6)\r\n",
        "    compute_target = ComputeTarget.create(ws, cpu_cluster_name, compute_config)\r\n",
        "\r\n",
        "compute_target.wait_for_completion(show_output=True)"
      ],
      "outputs": [],
      "metadata": {}
    },
    {
      "cell_type": "markdown",
      "source": [
        "# Data"
      ],
      "metadata": {}
    },
    {
      "cell_type": "markdown",
      "source": [
        "### Load Data -> 加载数据\r\n",
        "\r\n",
        "利用azure compute将银行营销数据集作为表格数据集加载到数据集变量中。"
      ],
      "metadata": {}
    },
    {
      "cell_type": "markdown",
      "source": [
        "### Training Data"
      ],
      "metadata": {}
    },
    {
      "cell_type": "code",
      "execution_count": null,
      "source": [
        "data = pd.read_csv(\"https://automlsamplenotebookdata.blob.core.windows.net/automl-sample-notebook-data/bankmarketing_train.csv\")\r\n",
        "data.head()"
      ],
      "outputs": [],
      "metadata": {}
    },
    {
      "cell_type": "code",
      "execution_count": null,
      "source": [
        "# Add missing values in 75% of the lines. -> 在75%的行中添加缺少的值。\r\n",
        "import numpy as np\r\n",
        "\r\n",
        "missing_rate = 0.75\r\n",
        "n_missing_samples = int(np.floor(data.shape[0] * missing_rate))\r\n",
        "missing_samples = np.hstack((np.zeros(data.shape[0] - n_missing_samples, dtype=np.bool), np.ones(n_missing_samples, dtype=np.bool)))\r\n",
        "rng = np.random.RandomState(0)\r\n",
        "rng.shuffle(missing_samples)\r\n",
        "missing_features = rng.randint(0, data.shape[1], n_missing_samples)\r\n",
        "data.values[np.where(missing_samples)[0], missing_features] = np.nan"
      ],
      "outputs": [],
      "metadata": {}
    },
    {
      "cell_type": "code",
      "execution_count": null,
      "source": [
        "if not os.path.isdir('data'):\r\n",
        "    os.mkdir('data')\r\n",
        "    \r\n",
        "# Save the train data to a csv to be uploaded to the datastore -> 将列车数据保存到csv，以上载到数据存储\r\n",
        "pd.DataFrame(data).to_csv(\"data/train_data.csv\", index=False)\r\n",
        "\r\n",
        "ds = ws.get_default_datastore()\r\n",
        "ds.upload(src_dir='./data', target_path='bankmarketing', overwrite=True, show_progress=True)\r\n",
        "\r\n",
        " \r\n",
        "\r\n",
        "# Upload the training data as a tabular dataset for access during training on remote compute -> 将培训数据上传为表格数据集，以便在远程计算培训期间访问\r\n",
        "train_data = Dataset.Tabular.from_delimited_files(path=ds.path('bankmarketing/train_data.csv'))\r\n",
        "label = \"y\""
      ],
      "outputs": [],
      "metadata": {}
    },
    {
      "cell_type": "markdown",
      "source": [
        "### Validation Data"
      ],
      "metadata": {}
    },
    {
      "cell_type": "code",
      "execution_count": null,
      "source": [
        "validation_data = \"https://automlsamplenotebookdata.blob.core.windows.net/automl-sample-notebook-data/bankmarketing_validate.csv\"\r\n",
        "validation_dataset = Dataset.Tabular.from_delimited_files(validation_data)"
      ],
      "outputs": [],
      "metadata": {}
    },
    {
      "cell_type": "markdown",
      "source": [
        "### Test Data"
      ],
      "metadata": {}
    },
    {
      "cell_type": "code",
      "execution_count": null,
      "source": [
        "test_data = \"https://automlsamplenotebookdata.blob.core.windows.net/automl-sample-notebook-data/bankmarketing_test.csv\"\r\n",
        "test_dataset = Dataset.Tabular.from_delimited_files(test_data)"
      ],
      "outputs": [],
      "metadata": {}
    },
    {
      "cell_type": "markdown",
      "source": [
        "## Train\r\n",
        "\r\n",
        "实例化AutoMLConfig对象。这定义了用于运行实验的设置和数据。\r\n",
        "\r\n",
        "|Property|Description|\r\n",
        "|-|-|\r\n",
        "|**task**|classification or regression or forecasting|\r\n",
        "|**primary_metric**|这是您要优化的指标。Classification支持以下主要指标: <br><i>accuracy</i><br><i>AUC_weighted</i><br><i>average_precision_score_weighted</i><br><i>norm_macro_recall</i><br><i>precision_score_weighted</i>|\r\n",
        "|**iteration_timeout_minutes**|Time limit in minutes for each iteration.|\r\n",
        "|**blocked_models** | *List* of *strings* indicating machine learning algorithms for AutoML to avoid in this run. <br><br> Allowed values for **Classification**<br><i>LogisticRegression</i><br><i>SGD</i><br><i>MultinomialNaiveBayes</i><br><i>BernoulliNaiveBayes</i><br><i>SVM</i><br><i>LinearSVM</i><br><i>KNN</i><br><i>DecisionTree</i><br><i>RandomForest</i><br><i>ExtremeRandomTrees</i><br><i>LightGBM</i><br><i>GradientBoosting</i><br><i>TensorFlowDNN</i><br><i>TensorFlowLinearClassifier</i><br><br>Allowed values for **Regression**<br><i>ElasticNet</i><br><i>GradientBoosting</i><br><i>DecisionTree</i><br><i>KNN</i><br><i>LassoLars</i><br><i>SGD</i><br><i>RandomForest</i><br><i>ExtremeRandomTrees</i><br><i>LightGBM</i><br><i>TensorFlowLinearRegressor</i><br><i>TensorFlowDNN</i><br><br>Allowed values for **Forecasting**<br><i>ElasticNet</i><br><i>GradientBoosting</i><br><i>DecisionTree</i><br><i>KNN</i><br><i>LassoLars</i><br><i>SGD</i><br><i>RandomForest</i><br><i>ExtremeRandomTrees</i><br><i>LightGBM</i><br><i>TensorFlowLinearRegressor</i><br><i>TensorFlowDNN</i><br><i>Arima</i><br><i>Prophet</i>|\r\n",
        "|**allowed_models** | 表示AutoML在此运行中使用的机器学习算法的*字符串列表*。上面列出的相同值适用于 **blocked_models**  允许的**allowed_models**。|\r\n",
        "|**experiment_exit_score**| 指示*primary_metric*目标的值<br>一旦超过目标，运行将终止。|\r\n",
        "|**experiment_timeout_hours**| 在实验终止之前，所有迭代组合所能花费的最大时间（小时）。|\r\n",
        "|**enable_early_stopping**| 如果分数在短期内没有改善，则表明可以提前终止。|\r\n",
        "|**featurization**| 'auto' / 'off'  是否应自动完成特征化步骤的指示器。注意：如果输入数据稀疏，则无法启用特征化。|\r\n",
        "|**n_cross_validations**| 交叉验证拆分的数目。|\r\n",
        "|**training_data**|输入数据集，包含要素和标签列。|\r\n",
        "|**label_column_name**|标签列的名称。|\r\n",
        "\r\n",
        "**_您可以找到有关主要指标(primary metrics)的更多信息_** [here](https://docs.microsoft.com/en-us/azure/machine-learning/service/how-to-configure-auto-train#primary-metric)"
      ],
      "metadata": {}
    },
    {
      "cell_type": "code",
      "execution_count": null,
      "source": [
        "automl_settings = {\r\n",
        "    \"experiment_timeout_hours\" : 0.3,\r\n",
        "    \"enable_early_stopping\" : True,\r\n",
        "    \"iteration_timeout_minutes\": 5,\r\n",
        "    \"max_concurrent_iterations\": 4,\r\n",
        "    \"max_cores_per_iteration\": -1,\r\n",
        "    #\"n_cross_validations\": 2,\r\n",
        "    \"primary_metric\": 'AUC_weighted',\r\n",
        "    \"featurization\": 'auto',\r\n",
        "    \"verbosity\": logging.INFO,\r\n",
        "}\r\n",
        "\r\n",
        "automl_config = AutoMLConfig(task = 'classification',\r\n",
        "                             debug_log = 'automl_errors.log',\r\n",
        "                             compute_target=compute_target,\r\n",
        "                             experiment_exit_score = 0.9984,\r\n",
        "                             blocked_models = ['KNN','LinearSVM'],\r\n",
        "                             enable_onnx_compatible_models=True,\r\n",
        "                             training_data = train_data,\r\n",
        "                             label_column_name = label,\r\n",
        "                             validation_data = validation_dataset,\r\n",
        "                             **automl_settings\r\n",
        "                            )"
      ],
      "outputs": [],
      "metadata": {}
    },
    {
      "cell_type": "markdown",
      "source": [
        "对实验对象调用'submit'方法并输入运行配置。本地运行的执行是同步的。取决于数据和迭代次数，这可能要运行一段时间。设置“show_output=True”时，将显示验证错误和当前状态，并且执行将是同步的。"
      ],
      "metadata": {}
    },
    {
      "cell_type": "code",
      "execution_count": null,
      "source": [
        "remote_run = experiment.submit(automl_config, show_output = False)"
      ],
      "outputs": [],
      "metadata": {}
    },
    {
      "cell_type": "markdown",
      "source": [
        "运行以下单元格以访问以前的运行。取消对下面单元格的注释并更新运行id。"
      ],
      "metadata": {}
    },
    {
      "cell_type": "code",
      "execution_count": null,
      "source": [
        "# from azureml.train.automl.run import AutoMLRun\r\n",
        "# remote_run = AutoMLRun(experiment=experiment, run_id='AutoML_56941284-2658-46cd-9230-e0592db0fcef')\r\n",
        "# remote_run"
      ],
      "outputs": [],
      "metadata": {}
    },
    {
      "cell_type": "code",
      "execution_count": null,
      "source": [
        "# Wait for the remote run to complete -> 等待远程运行完成\r\n",
        "remote_run.wait_for_completion()"
      ],
      "outputs": [],
      "metadata": {}
    },
    {
      "cell_type": "code",
      "execution_count": null,
      "source": [
        "best_run_customized, fitted_model_customized = remote_run.get_output()"
      ],
      "outputs": [],
      "metadata": {}
    },
    {
      "cell_type": "markdown",
      "source": [
        "## Transparency\r\n",
        "\r\n",
        "查看更新的特征化摘要"
      ],
      "metadata": {}
    },
    {
      "cell_type": "code",
      "execution_count": null,
      "source": [
        "custom_featurizer = fitted_model_customized.named_steps['datatransformer']\r\n",
        "df = custom_featurizer.get_featurization_summary()\r\n",
        "pd.DataFrame(data=df)"
      ],
      "outputs": [],
      "metadata": {}
    },
    {
      "cell_type": "markdown",
      "source": [
        "设置`is_user_friendly=False`以获取所应用转换的更详细摘要。"
      ],
      "metadata": {}
    },
    {
      "cell_type": "code",
      "execution_count": null,
      "source": [
        "df = custom_featurizer.get_featurization_summary(is_user_friendly=False)\r\n",
        "pd.DataFrame(data=df)"
      ],
      "outputs": [],
      "metadata": {}
    },
    {
      "cell_type": "code",
      "execution_count": null,
      "source": [
        "df = custom_featurizer.get_stats_feature_type_summary()\r\n",
        "pd.DataFrame(data=df)"
      ],
      "outputs": [],
      "metadata": {}
    },
    {
      "cell_type": "markdown",
      "source": [
        "## Results"
      ],
      "metadata": {}
    },
    {
      "cell_type": "code",
      "execution_count": null,
      "source": [
        "from azureml.widgets import RunDetails\r\n",
        "RunDetails(remote_run).show() "
      ],
      "outputs": [],
      "metadata": {}
    },
    {
      "cell_type": "markdown",
      "source": [
        "### 检索最佳模型的解释\r\n",
        "从最佳_运行中检索解释，其中包括工程特性和原始特性的解释。确保为最佳模型生成解释的运行已完成。"
      ],
      "metadata": {}
    },
    {
      "cell_type": "code",
      "execution_count": null,
      "source": [
        "# Wait for the best model explanation run to complete\r\n",
        "from azureml.core.run import Run\r\n",
        "model_explainability_run_id = remote_run.id + \"_\" + \"ModelExplain\"\r\n",
        "print(model_explainability_run_id)\r\n",
        "model_explainability_run = Run(experiment=experiment, run_id=model_explainability_run_id)\r\n",
        "model_explainability_run.wait_for_completion()\r\n",
        "\r\n",
        "# Get the best run object\r\n",
        "best_run, fitted_model = remote_run.get_output()"
      ],
      "outputs": [],
      "metadata": {}
    },
    {
      "cell_type": "markdown",
      "source": [
        "#### Download engineered feature importance from artifact store -> 从工件库下载工程特征影响的重要性\r\n",
        "您可以使用ExplanationClient从最佳运行的工件库下载工程特性解释。"
      ],
      "metadata": {}
    },
    {
      "cell_type": "code",
      "execution_count": null,
      "source": [
        "client = ExplanationClient.from_run(best_run)\r\n",
        "engineered_explanations = client.download_model_explanation(raw=False)\r\n",
        "exp_data = engineered_explanations.get_feature_importance_dict()\r\n",
        "exp_data"
      ],
      "outputs": [],
      "metadata": {}
    },
    {
      "cell_type": "markdown",
      "source": [
        "#### Download raw feature importance from artifact store -> 从工件库下载原始特性重要性\r\n",
        "您可以使用ExplanationClient从最佳运行的工件库下载原始特性解释。"
      ],
      "metadata": {}
    },
    {
      "cell_type": "code",
      "execution_count": null,
      "source": [
        "client = ExplanationClient.from_run(best_run)\r\n",
        "engineered_explanations = client.download_model_explanation(raw=True)\r\n",
        "exp_data = engineered_explanations.get_feature_importance_dict()\r\n",
        "exp_data"
      ],
      "outputs": [],
      "metadata": {}
    },
    {
      "cell_type": "markdown",
      "source": [
        "### 获取最佳ONNX模型\r\n",
        "\r\n",
        "下面我们从迭代中选择最佳候选方案。`get_output`方法返回最佳运行和拟合模型。该模型包括管道和任何预处理。`get_output`上的重载允许您检索*任何*记录度量或特定*迭代*的最佳运行和拟合模型。\r\n",
        "\r\n",
        "设置参数return_onnx_model=True以检索最佳的ONNX模型，而不是Python模型。"
      ],
      "metadata": {}
    },
    {
      "cell_type": "code",
      "execution_count": null,
      "source": [
        "best_run, onnx_mdl = remote_run.get_output(return_onnx_model=True)"
      ],
      "outputs": [],
      "metadata": {}
    },
    {
      "cell_type": "markdown",
      "source": [
        "### Save the best ONNX model"
      ],
      "metadata": {}
    },
    {
      "cell_type": "code",
      "execution_count": null,
      "source": [
        "from azureml.automl.runtime.onnx_convert import OnnxConverter\r\n",
        "onnx_fl_path = \"./best_model.onnx\"\r\n",
        "OnnxConverter.save_onnx_model(onnx_mdl, onnx_fl_path)"
      ],
      "outputs": [],
      "metadata": {}
    },
    {
      "cell_type": "markdown",
      "source": [
        "### Predict with the ONNX model, using onnxruntime package -> 使用ONNX运行时包，来用ONNX模型进行预测"
      ],
      "metadata": {}
    },
    {
      "cell_type": "code",
      "execution_count": null,
      "source": [
        "import sys\r\n",
        "import json\r\n",
        "from azureml.automl.core.onnx_convert import OnnxConvertConstants\r\n",
        "from azureml.train.automl import constants\r\n",
        "\r\n",
        "if sys.version_info < OnnxConvertConstants.OnnxIncompatiblePythonVersion:\r\n",
        "    python_version_compatible = True\r\n",
        "else:\r\n",
        "    python_version_compatible = False\r\n",
        "\r\n",
        "import onnxruntime\r\n",
        "from azureml.automl.runtime.onnx_convert import OnnxInferenceHelper\r\n",
        "\r\n",
        "def get_onnx_res(run):\r\n",
        "    res_path = 'onnx_resource.json'\r\n",
        "    run.download_file(name=constants.MODEL_RESOURCE_PATH_ONNX, output_file_path=res_path)\r\n",
        "    with open(res_path) as f:\r\n",
        "        onnx_res = json.load(f)\r\n",
        "    return onnx_res\r\n",
        "\r\n",
        "if python_version_compatible:\r\n",
        "    test_df = test_dataset.to_pandas_dataframe()\r\n",
        "    mdl_bytes = onnx_mdl.SerializeToString()\r\n",
        "    onnx_res = get_onnx_res(best_run)\r\n",
        "\r\n",
        "    onnxrt_helper = OnnxInferenceHelper(mdl_bytes, onnx_res)\r\n",
        "    pred_onnx, pred_prob_onnx = onnxrt_helper.predict(test_df)\r\n",
        "\r\n",
        "    print(pred_onnx)\r\n",
        "    print(pred_prob_onnx)\r\n",
        "else:\r\n",
        "    print('Please use Python version 3.6 or 3.7 to run the inference helper.')"
      ],
      "outputs": [],
      "metadata": {}
    },
    {
      "cell_type": "markdown",
      "source": [
        "## Deploy\r\n",
        "\r\n",
        "### 获取最佳模型\r\n",
        "\r\n",
        "下面我们从迭代中选择最佳管道。`get_output`方法返回最佳运行和拟合模型。`get_output`上的重载允许您检索*任何*记录度量或特定*迭代*的最佳运行和拟合模型。"
      ],
      "metadata": {}
    },
    {
      "cell_type": "markdown",
      "source": [
        "#### Widget for Monitoring Runs -> 用于监视运行的小部件\r\n",
        "\r\n",
        "小部件将在运行第一次迭代时首先报告“加载”状态。完成第一次迭代后，将显示一个自动更新的图表。该小部件将每分钟刷新一次，因此您应该在子项运行完成时看到图形更新。\r\n",
        "\r\n",
        "**提示：**小部件在底部显示一个链接。使用此链接打开web界面，以浏览各个运行详细信息"
      ],
      "metadata": {}
    },
    {
      "cell_type": "code",
      "execution_count": null,
      "source": [
        "best_run, fitted_model = remote_run.get_output()"
      ],
      "outputs": [],
      "metadata": {}
    },
    {
      "cell_type": "code",
      "execution_count": null,
      "source": [
        "model_name = best_run.properties['model_name']\r\n",
        "\r\n",
        "script_file_name = 'inference/score.py'\r\n",
        "\r\n",
        "best_run.download_file('outputs/scoring_file_v_1_0_0.py', 'inference/score.py')"
      ],
      "outputs": [],
      "metadata": {}
    },
    {
      "cell_type": "markdown",
      "source": [
        "### Register the Fitted Model for Deployment -> 注册最佳的模型，为部署准备\r\n",
        "如果在`register_model`调用中既没有指定`metric`也没有指定`iteration`，则会注册具有最佳主度量的迭代。"
      ],
      "metadata": {}
    },
    {
      "cell_type": "code",
      "execution_count": null,
      "source": [
        "description = 'AutoML Model trained on bank marketing data to predict if a client will subscribe to a term deposit'\r\n",
        "tags = None\r\n",
        "model = remote_run.register_model(model_name = model_name, description = description, tags = tags)\r\n",
        "\r\n",
        "print(remote_run.model_id) # This will be written to the script file later in the notebook. -> 这将在稍后的笔记本中写入脚本文件。"
      ],
      "outputs": [],
      "metadata": {}
    },
    {
      "cell_type": "markdown",
      "source": [
        "### Deploy the model as a Web Service on Azure Container Instance"
      ],
      "metadata": {}
    },
    {
      "cell_type": "code",
      "execution_count": null,
      "source": [
        "from azureml.core.model import InferenceConfig\r\n",
        "from azureml.core.webservice import AciWebservice\r\n",
        "from azureml.core.webservice import Webservice\r\n",
        "from azureml.core.model import Model\r\n",
        "from azureml.core.environment import Environment\r\n",
        "\r\n",
        "inference_config = InferenceConfig(entry_script=script_file_name)\r\n",
        "\r\n",
        "aciconfig = AciWebservice.deploy_configuration(cpu_cores = 1, \r\n",
        "                                               memory_gb = 1, \r\n",
        "                                               tags = {'area': \"bmData\", 'type': \"automl_classification\"}, \r\n",
        "                                               description = 'sample service for Automl Classification')\r\n",
        "\r\n",
        "aci_service_name = 'automl-sample-bankmarketing-all'\r\n",
        "print(aci_service_name)\r\n",
        "aci_service = Model.deploy(ws, aci_service_name, [model], inference_config, aciconfig)\r\n",
        "aci_service.wait_for_deployment(True)\r\n",
        "print(aci_service.state)"
      ],
      "outputs": [],
      "metadata": {}
    },
    {
      "cell_type": "markdown",
      "source": [
        "### Get Logs from a Deployed Web Service -> 从部署的Web服务获取日志\r\n",
        "\r\n",
        "从部署的Web服务获取日志"
      ],
      "metadata": {}
    },
    {
      "cell_type": "code",
      "execution_count": null,
      "source": [
        "#aci_service.get_logs()"
      ],
      "outputs": [],
      "metadata": {}
    },
    {
      "cell_type": "markdown",
      "source": [
        "## Test\r\n",
        "\r\n",
        "现在模型已经训练好，通过训练好的模型运行测试数据以获得预测值。这将调用ACI web服务来进行预测。\r\n",
        "\r\n",
        "请注意，传递给ACI web服务的JSON是一个数据行数组。每一行应该是一个值数组，其顺序与用于培训的值相同，或者是一个字典，其中键与用于培训的列名相同。下面的示例使用字典行。"
      ],
      "metadata": {}
    },
    {
      "cell_type": "code",
      "execution_count": null,
      "source": [
        "# Load the bank marketing datasets. -> 加载银行营销数据集。\r\n",
        "from numpy import array"
      ],
      "outputs": [],
      "metadata": {}
    },
    {
      "cell_type": "code",
      "execution_count": null,
      "source": [
        "X_test = test_dataset.drop_columns(columns=['y'])\r\n",
        "y_test = test_dataset.keep_columns(columns=['y'], validate=True)\r\n",
        "test_dataset.take(5).to_pandas_dataframe()"
      ],
      "outputs": [],
      "metadata": {}
    },
    {
      "cell_type": "code",
      "execution_count": null,
      "source": [
        "X_test = X_test.to_pandas_dataframe()\r\n",
        "y_test = y_test.to_pandas_dataframe()"
      ],
      "outputs": [],
      "metadata": {}
    },
    {
      "cell_type": "code",
      "execution_count": null,
      "source": [
        "import json\r\n",
        "import requests\r\n",
        "\r\n",
        "X_test_json = X_test.to_json(orient='records')\r\n",
        "data = \"{\\\"data\\\": \" + X_test_json +\"}\"\r\n",
        "headers = {'Content-Type': 'application/json'}\r\n",
        "\r\n",
        "resp = requests.post(aci_service.scoring_uri, data, headers=headers)\r\n",
        "\r\n",
        "y_pred = json.loads(json.loads(resp.text))['result']"
      ],
      "outputs": [],
      "metadata": {}
    },
    {
      "cell_type": "code",
      "execution_count": null,
      "source": [
        "actual = array(y_test)\r\n",
        "actual = actual[:,0]\r\n",
        "print(len(y_pred), \" \", len(actual))"
      ],
      "outputs": [],
      "metadata": {}
    },
    {
      "cell_type": "markdown",
      "source": [
        "### Calculate metrics for the prediction -> 计算预测的指标\r\n",
        "\r\n",
        "现在将数据可视化为混淆矩阵，将预测值与实际值进行比较。\r\n"
      ],
      "metadata": {}
    },
    {
      "cell_type": "code",
      "execution_count": null,
      "source": [
        "%matplotlib notebook\r\n",
        "from sklearn.metrics import confusion_matrix\r\n",
        "import numpy as np\r\n",
        "import itertools\r\n",
        "\r\n",
        "cf =confusion_matrix(actual,y_pred)\r\n",
        "plt.imshow(cf,cmap=plt.cm.Blues,interpolation='nearest')\r\n",
        "plt.colorbar()\r\n",
        "plt.title('Confusion Matrix')\r\n",
        "plt.xlabel('Predicted')\r\n",
        "plt.ylabel('Actual')\r\n",
        "class_labels = ['no','yes']\r\n",
        "tick_marks = np.arange(len(class_labels))\r\n",
        "plt.xticks(tick_marks,class_labels)\r\n",
        "plt.yticks([-0.5,0,1,1.5],['','no','yes',''])\r\n",
        "# plotting text value inside cells\r\n",
        "thresh = cf.max() / 2.\r\n",
        "for i,j in itertools.product(range(cf.shape[0]),range(cf.shape[1])):\r\n",
        "    plt.text(j,i,format(cf[i,j],'d'),horizontalalignment='center',color='white' if cf[i,j] >thresh else 'black')\r\n",
        "plt.show()"
      ],
      "outputs": [],
      "metadata": {}
    },
    {
      "cell_type": "code",
      "execution_count": null,
      "source": [
        "%matplotlib notebook\r\n",
        "import tensorflow as tf \r\n",
        "import numpy as np \r\n",
        "import matplotlib.pyplot as plt\r\n",
        "from matplotlib import animation\r\n",
        "fig, ax = plt.subplots()\r\n",
        "x =np.arange(0,2*np.pi,0.01)\r\n",
        "# 返回的是个列表\r\n",
        "line , = ax.plot(x,np.sin(x))\r\n",
        "def animate(i):\r\n",
        "  # xdata 保持不变， ydata 更新成另外一批数据\r\n",
        "  # 将0-100都传进去更新一下，i变化时，y也会变化，更新图像\r\n",
        "  line.set_ydata(np.sin(x+i/10))\r\n",
        "  return line,\r\n",
        "\r\n",
        "def init():\r\n",
        "  line.set_ydata(np.sin(x))\r\n",
        "  return line,\r\n",
        "\r\n",
        "# interval 是更新的频率，隔多少毫秒更新一次，这里是隔20ms更新一次\r\n",
        "# blit=True,只更新有变化的点\r\n",
        "ani = animation.FuncAnimation(fig=fig,func=animate,frames =100,init_func=init,interval =20,blit=False)\r\n",
        "plt.show()"
      ],
      "outputs": [],
      "metadata": {}
    },
    {
      "cell_type": "markdown",
      "source": [
        "### Delete a Web Service\r\n",
        "\r\n",
        "删除指定的web服务。"
      ],
      "metadata": {}
    },
    {
      "cell_type": "code",
      "execution_count": null,
      "source": [
        "aci_service.delete()"
      ],
      "outputs": [],
      "metadata": {}
    },
    {
      "cell_type": "markdown",
      "source": [
        "**注意** 这是一个翻译的版本，原始的notebook在这里: https://github.com/Azure/MachineLearningNotebooks/tree/master/how-to-use-azureml/automated-machine-learning/classification-bank-marketing-all-features"
      ],
      "metadata": {}
    },
    {
      "cell_type": "markdown",
      "source": [
        "## Acknowledgements"
      ],
      "metadata": {}
    },
    {
      "cell_type": "markdown",
      "source": [
        "This Bank Marketing dataset is made available under the Creative Commons (CCO: Public Domain) License: https://creativecommons.org/publicdomain/zero/1.0/. Any rights in individual contents of the database are licensed under the Database Contents License: https://creativecommons.org/publicdomain/zero/1.0/ and is available at: https://www.kaggle.com/janiobachmann/bank-marketing-dataset .\r\n",
        "\r\n",
        "_**Acknowledgements**_\r\n",
        "This data set is originally available within the UCI Machine Learning Database: https://archive.ics.uci.edu/ml/datasets/bank+marketing\r\n",
        "\r\n",
        "[Moro et al., 2014] S. Moro, P. Cortez and P. Rita. A Data-Driven Approach to Predict the Success of Bank Telemarketing. Decision Support Systems, Elsevier, 62:22-31, June 2014"
      ],
      "metadata": {}
    }
  ],
  "metadata": {
    "authors": [
      {
        "name": "ratanase"
      }
    ],
    "category": "tutorial",
    "compute": [
      "AML"
    ],
    "datasets": [
      "Bankmarketing"
    ],
    "deployment": [
      "ACI"
    ],
    "exclude_from_index": false,
    "framework": [
      "None"
    ],
    "friendly_name": "Automated ML run with basic edition features.",
    "index_order": 5,
    "kernelspec": {
      "name": "python38-azureml",
      "display_name": "Python 3.8 - AzureML",
      "language": "python"
    },
    "tags": [
      "featurization",
      "explainability",
      "remote_run",
      "AutomatedML"
    ],
    "task": "Classification",
    "interpreter": {
      "hash": "72f4582a62926de9b2f652a69f5b3b9dfb8ffef716c254f5d7af0a75c3789cbb"
    },
    "language_info": {
      "name": "python",
      "version": "3.8.1",
      "mimetype": "text/x-python",
      "codemirror_mode": {
        "name": "ipython",
        "version": 3
      },
      "pygments_lexer": "ipython3",
      "nbconvert_exporter": "python",
      "file_extension": ".py"
    }
  },
  "nbformat": 4,
  "nbformat_minor": 2
}