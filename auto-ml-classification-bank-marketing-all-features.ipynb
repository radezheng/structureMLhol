{
  "cells": [
    {
      "cell_type": "markdown",
      "source": [
        "Copyright (c) Microsoft Corporation. All rights reserved.\n",
        "\n",
        "Licensed under the MIT License."
      ],
      "metadata": {}
    },
    {
      "cell_type": "markdown",
      "source": [
        "![Impressions](https://PixelServer20190423114238.azurewebsites.net/api/impressions/MachineLearningNotebooks/how-to-use-azureml/automated-machine-learning/classification-bank-marketing-all-features/auto-ml-classification-bank-marketing.png)"
      ],
      "metadata": {}
    },
    {
      "cell_type": "markdown",
      "source": [
        "# 自动机器学习 AutoML\r\n",
        "_**使用银行营销数据集进行分类和部署**_\r\n",
        "\r\n",
        "## 内容\r\n",
        "1. [Introduction](#Introduction)\r\n",
        "1. [Setup](#Setup)\r\n",
        "1. [Train](#Train)\r\n",
        "1. [Results](#Results)\r\n",
        "1. [Deploy](#Deploy)\r\n",
        "1. [Test](#Test)\r\n",
        "1. [Acknowledgements](#Acknowledgements)"
      ],
      "metadata": {}
    },
    {
      "cell_type": "markdown",
      "source": [
        "## Introduction\r\n",
        "\r\n",
        "在本例中，我们使用UCI银行营销数据集展示如何使用AutoML解决分类问题，并将其部署到Azure容器实例（ACI）。分类的目标是预测客户是否会向银行认购定期存款。\r\n",
        "\r\n",
        "如果您使用的是Azure机器学习计算实例，则已设置完毕。否则，如果尚未建立到AzureML工作区的连接，请先查看[配置]（https://github.com/Azure/MachineLearningNotebooks/blob/master/configuration.ipynb）笔记本。\r\n",
        "\r\n",
        "请在[此处](https://github.com/onnx/onnx)查找ONNX相关文档\r\n",
        "\r\n",
        "在本笔记本中，您将学习如何：\r\n",
        "1. 使用现有工作区创建实验。\r\n",
        "1. 使用“AutoMLConfig”配置AutoML。\r\n",
        "1. 使用ONNX兼容配置打开的本地计算来训练模型。\r\n",
        "1. 探索结果、特征化透明度选项并保存ONNX模型\r\n",
        "1. 使用ONNX模型进行推理。\r\n",
        "1. 注册模型。\r\n",
        "1. 创建容器映像。\r\n",
        "1. 创建Azure容器实例（ACI）服务。\r\n",
        "1. 测试ACI服务。\r\n",
        "\r\n",
        "此外，此笔记本显示以下功能\r\n",
        "-**阻止**某些管道执行\r\n",
        "- 指定**目标指标**表示停止标准\r\n",
        "- 处理数据源的**缺失数据**"
      ],
      "metadata": {}
    },
    {
      "cell_type": "markdown",
      "source": [
        "## Setup\r\n",
        "\r\n",
        "作为设置的一部分，您已经创建了Azure ML`Workspace`对象。对于AutoML，您需要创建一个“实验”对象，它是用于运行实验的“工作区”中的命名对象。"
      ],
      "metadata": {}
    },
    {
      "cell_type": "code",
      "execution_count": 41,
      "source": [
        "import logging\r\n",
        "\r\n",
        "from matplotlib import pyplot as plt\r\n",
        "import pandas as pd\r\n",
        "import os\r\n",
        "\r\n",
        "import azureml.core\r\n",
        "from azureml.core.experiment import Experiment\r\n",
        "from azureml.core.workspace import Workspace\r\n",
        "from azureml.automl.core.featurization import FeaturizationConfig\r\n",
        "from azureml.core.dataset import Dataset\r\n",
        "from azureml.train.automl import AutoMLConfig\r\n",
        "from azureml.interpret import ExplanationClient"
      ],
      "outputs": [],
      "metadata": {}
    },
    {
      "cell_type": "markdown",
      "source": [
        "此示例笔记本可能使用Azure ML SDK早期版本中不可用的功能。"
      ],
      "metadata": {}
    },
    {
      "cell_type": "code",
      "execution_count": 42,
      "source": [
        "print(\"This notebook was created using version 1.32.0 of the Azure ML SDK\")\r\n",
        "print(\"You are currently using version\", azureml.core.VERSION, \"of the Azure ML SDK\")"
      ],
      "outputs": [
        {
          "output_type": "stream",
          "name": "stdout",
          "text": [
            "This notebook was created using version 1.32.0 of the Azure ML SDK\n",
            "You are currently using version 1.32.0 of the Azure ML SDK\n"
          ]
        }
      ],
      "metadata": {}
    },
    {
      "cell_type": "markdown",
      "source": [
        "访问Azure ML工作区需要使用Azure进行身份验证。\r\n",
        "\r\n",
        "默认身份验证是使用默认租户的交互式身份验证。执行下面单元格中的`ws=Workspace.from_config()`行将在第一次运行时提示进行身份验证。\r\n",
        "\r\n",
        "如果您有多个Azure租户，可以通过将下面单元格中的`ws=Workspace.from_config()`行替换为以下内容来指定租户：\r\n",
        "\r\n",
        "```\r\n",
        "from azureml.core.authentication import InteractiveLoginAuthentication\r\n",
        "auth = InteractiveLoginAuthentication(tenant_id = 'mytenantid')\r\n",
        "ws = Workspace.from_config(auth = auth)\r\n",
        "```\r\n",
        "\r\n",
        "如果需要在无法进行交互式登录的环境中运行，可以使用服务主体身份验证，方法是将下面单元格中的`ws=Workspace.from_config()`行替换为以下内容：\r\n",
        "\r\n",
        "```\r\n",
        "from azureml.core.authentication import ServicePrincipalAuthentication\r\n",
        "auth = auth = ServicePrincipalAuthentication('mytenantid', 'myappid', 'mypassword')\r\n",
        "ws = Workspace.from_config(auth = auth)\r\n",
        "```\r\n",
        "有关详细信息，请参阅[aka.ms/aml-notebook-auth](http://aka.ms/aml-notebook-auth)"
      ],
      "metadata": {}
    },
    {
      "cell_type": "code",
      "execution_count": 43,
      "source": [
        "ws = Workspace.from_config()\r\n",
        "\r\n",
        "# choose a name for experiment\r\n",
        "experiment_name = 'automl-classification-bmarketing-all'\r\n",
        "\r\n",
        "experiment=Experiment(ws, experiment_name)\r\n",
        "\r\n",
        "output = {}\r\n",
        "output['Subscription ID'] = ws.subscription_id\r\n",
        "output['Workspace'] = ws.name\r\n",
        "output['Resource Group'] = ws.resource_group\r\n",
        "output['Location'] = ws.location\r\n",
        "output['Experiment Name'] = experiment.name\r\n",
        "pd.set_option('display.max_colwidth', -1)\r\n",
        "outputDf = pd.DataFrame(data = output, index = [''])\r\n",
        "outputDf.T"
      ],
      "outputs": [
        {
          "output_type": "execute_result",
          "data": {
            "text/plain": [
              "                                                     \n",
              "Subscription ID  1bab3e78-2764-4555-845d-297f7a7ca7c0\n",
              "Workspace        amlwsea                             \n",
              "Resource Group   aml                                 \n",
              "Location         eastasia                            \n",
              "Experiment Name  automl-classification-bmarketing-all"
            ],
            "text/html": [
              "<div>\n",
              "<style scoped>\n",
              "    .dataframe tbody tr th:only-of-type {\n",
              "        vertical-align: middle;\n",
              "    }\n",
              "\n",
              "    .dataframe tbody tr th {\n",
              "        vertical-align: top;\n",
              "    }\n",
              "\n",
              "    .dataframe thead th {\n",
              "        text-align: right;\n",
              "    }\n",
              "</style>\n",
              "<table border=\"1\" class=\"dataframe\">\n",
              "  <thead>\n",
              "    <tr style=\"text-align: right;\">\n",
              "      <th></th>\n",
              "      <th></th>\n",
              "    </tr>\n",
              "  </thead>\n",
              "  <tbody>\n",
              "    <tr>\n",
              "      <th>Subscription ID</th>\n",
              "      <td>1bab3e78-2764-4555-845d-297f7a7ca7c0</td>\n",
              "    </tr>\n",
              "    <tr>\n",
              "      <th>Workspace</th>\n",
              "      <td>amlwsea</td>\n",
              "    </tr>\n",
              "    <tr>\n",
              "      <th>Resource Group</th>\n",
              "      <td>aml</td>\n",
              "    </tr>\n",
              "    <tr>\n",
              "      <th>Location</th>\n",
              "      <td>eastasia</td>\n",
              "    </tr>\n",
              "    <tr>\n",
              "      <th>Experiment Name</th>\n",
              "      <td>automl-classification-bmarketing-all</td>\n",
              "    </tr>\n",
              "  </tbody>\n",
              "</table>\n",
              "</div>"
            ]
          },
          "metadata": {},
          "execution_count": 43
        }
      ],
      "metadata": {}
    },
    {
      "cell_type": "markdown",
      "source": [
        "## 创建或附加现有AmlCompute\r\n",
        "您需要为AutoML运行创建一个计算目标。在本教程中，您将创建AmlCompute作为培训计算资源。\r\n",
        "\r\n",
        "> 请注意，如果您具有AzureML数据科学家角色，您将没有创建计算资源的权限。如果本节中描述的计算目标不存在，请与您的工作区或IT管理员联系，以创建这些目标。\r\n",
        "\r\n",
        "#### 创建AmlCompute大约需要5分钟。\r\n",
        "如果具有该名称的AmlCompute已在您的工作区中，则此代码将跳过创建过程。\r\n",
        "与其他Azure服务一样，与Azure机器学习服务相关的某些资源（如AmlCompute）也有限制。请阅读[本文](https://docs.microsoft.com/en-us/azure/machine-learning/service/how-to-manage-quotas)关于默认限制以及如何请求更多配额。"
      ],
      "metadata": {}
    },
    {
      "cell_type": "code",
      "execution_count": 44,
      "source": [
        "from azureml.core.compute import ComputeTarget, AmlCompute\r\n",
        "from azureml.core.compute_target import ComputeTargetException\r\n",
        "\r\n",
        "# Choose a name for your CPU cluster\r\n",
        "# cpu_cluster_name = \"cpu-cluster-4\"\r\n",
        "cpu_cluster_name = \"zhzhen1\"\r\n",
        "\r\n",
        "# Verify that cluster does not exist already\r\n",
        "try:\r\n",
        "    compute_target = ComputeTarget(workspace=ws, name=cpu_cluster_name)\r\n",
        "    print('Found existing cluster, use it.')\r\n",
        "except ComputeTargetException:\r\n",
        "    compute_config = AmlCompute.provisioning_configuration(vm_size='STANDARD_DS12_V2',\r\n",
        "                                                           max_nodes=6)\r\n",
        "    compute_target = ComputeTarget.create(ws, cpu_cluster_name, compute_config)\r\n",
        "\r\n",
        "compute_target.wait_for_completion(show_output=True)"
      ],
      "outputs": [
        {
          "output_type": "stream",
          "name": "stdout",
          "text": [
            "Found existing cluster, use it.\n",
            "\n",
            "Running\n"
          ]
        }
      ],
      "metadata": {}
    },
    {
      "cell_type": "markdown",
      "source": [
        "# Data"
      ],
      "metadata": {}
    },
    {
      "cell_type": "markdown",
      "source": [
        "### Load Data -> 加载数据\r\n",
        "\r\n",
        "利用azure compute将银行营销数据集作为表格数据集加载到数据集变量中。"
      ],
      "metadata": {}
    },
    {
      "cell_type": "markdown",
      "source": [
        "### Training Data"
      ],
      "metadata": {}
    },
    {
      "cell_type": "code",
      "execution_count": 45,
      "source": [
        "data = pd.read_csv(\"https://automlsamplenotebookdata.blob.core.windows.net/automl-sample-notebook-data/bankmarketing_train.csv\")\r\n",
        "data.head()"
      ],
      "outputs": [
        {
          "output_type": "execute_result",
          "data": {
            "text/plain": [
              "   age          job  marital    education  default housing loan    contact  \\\n",
              "0  57   technician   married  high.school  no       no      yes  cellular    \n",
              "1  55   unknown      married  unknown      unknown  yes     no   telephone   \n",
              "2  33   blue-collar  married  basic.9y     no       no      no   cellular    \n",
              "3  36   admin.       married  high.school  no       no      no   telephone   \n",
              "4  27   housemaid    married  high.school  no       yes     no   cellular    \n",
              "\n",
              "  month day_of_week  ...  campaign  pdays  previous     poutcome emp.var.rate  \\\n",
              "0  may   mon         ...  1         999    1         failure     -1.80          \n",
              "1  may   thu         ...  2         999    0         nonexistent 1.10           \n",
              "2  may   fri         ...  1         999    1         failure     -1.80          \n",
              "3  jun   fri         ...  4         999    0         nonexistent 1.40           \n",
              "4  jul   fri         ...  2         999    0         nonexistent 1.40           \n",
              "\n",
              "   cons.price.idx  cons.conf.idx  euribor3m  nr.employed   y  \n",
              "0 92.89           -46.20         1.30       5099.10       no  \n",
              "1 93.99           -36.40         4.86       5191.00       no  \n",
              "2 92.89           -46.20         1.31       5099.10       no  \n",
              "3 94.47           -41.80         4.97       5228.10       no  \n",
              "4 93.92           -42.70         4.96       5228.10       no  \n",
              "\n",
              "[5 rows x 21 columns]"
            ],
            "text/html": [
              "<div>\n",
              "<style scoped>\n",
              "    .dataframe tbody tr th:only-of-type {\n",
              "        vertical-align: middle;\n",
              "    }\n",
              "\n",
              "    .dataframe tbody tr th {\n",
              "        vertical-align: top;\n",
              "    }\n",
              "\n",
              "    .dataframe thead th {\n",
              "        text-align: right;\n",
              "    }\n",
              "</style>\n",
              "<table border=\"1\" class=\"dataframe\">\n",
              "  <thead>\n",
              "    <tr style=\"text-align: right;\">\n",
              "      <th></th>\n",
              "      <th>age</th>\n",
              "      <th>job</th>\n",
              "      <th>marital</th>\n",
              "      <th>education</th>\n",
              "      <th>default</th>\n",
              "      <th>housing</th>\n",
              "      <th>loan</th>\n",
              "      <th>contact</th>\n",
              "      <th>month</th>\n",
              "      <th>day_of_week</th>\n",
              "      <th>...</th>\n",
              "      <th>campaign</th>\n",
              "      <th>pdays</th>\n",
              "      <th>previous</th>\n",
              "      <th>poutcome</th>\n",
              "      <th>emp.var.rate</th>\n",
              "      <th>cons.price.idx</th>\n",
              "      <th>cons.conf.idx</th>\n",
              "      <th>euribor3m</th>\n",
              "      <th>nr.employed</th>\n",
              "      <th>y</th>\n",
              "    </tr>\n",
              "  </thead>\n",
              "  <tbody>\n",
              "    <tr>\n",
              "      <th>0</th>\n",
              "      <td>57</td>\n",
              "      <td>technician</td>\n",
              "      <td>married</td>\n",
              "      <td>high.school</td>\n",
              "      <td>no</td>\n",
              "      <td>no</td>\n",
              "      <td>yes</td>\n",
              "      <td>cellular</td>\n",
              "      <td>may</td>\n",
              "      <td>mon</td>\n",
              "      <td>...</td>\n",
              "      <td>1</td>\n",
              "      <td>999</td>\n",
              "      <td>1</td>\n",
              "      <td>failure</td>\n",
              "      <td>-1.80</td>\n",
              "      <td>92.89</td>\n",
              "      <td>-46.20</td>\n",
              "      <td>1.30</td>\n",
              "      <td>5099.10</td>\n",
              "      <td>no</td>\n",
              "    </tr>\n",
              "    <tr>\n",
              "      <th>1</th>\n",
              "      <td>55</td>\n",
              "      <td>unknown</td>\n",
              "      <td>married</td>\n",
              "      <td>unknown</td>\n",
              "      <td>unknown</td>\n",
              "      <td>yes</td>\n",
              "      <td>no</td>\n",
              "      <td>telephone</td>\n",
              "      <td>may</td>\n",
              "      <td>thu</td>\n",
              "      <td>...</td>\n",
              "      <td>2</td>\n",
              "      <td>999</td>\n",
              "      <td>0</td>\n",
              "      <td>nonexistent</td>\n",
              "      <td>1.10</td>\n",
              "      <td>93.99</td>\n",
              "      <td>-36.40</td>\n",
              "      <td>4.86</td>\n",
              "      <td>5191.00</td>\n",
              "      <td>no</td>\n",
              "    </tr>\n",
              "    <tr>\n",
              "      <th>2</th>\n",
              "      <td>33</td>\n",
              "      <td>blue-collar</td>\n",
              "      <td>married</td>\n",
              "      <td>basic.9y</td>\n",
              "      <td>no</td>\n",
              "      <td>no</td>\n",
              "      <td>no</td>\n",
              "      <td>cellular</td>\n",
              "      <td>may</td>\n",
              "      <td>fri</td>\n",
              "      <td>...</td>\n",
              "      <td>1</td>\n",
              "      <td>999</td>\n",
              "      <td>1</td>\n",
              "      <td>failure</td>\n",
              "      <td>-1.80</td>\n",
              "      <td>92.89</td>\n",
              "      <td>-46.20</td>\n",
              "      <td>1.31</td>\n",
              "      <td>5099.10</td>\n",
              "      <td>no</td>\n",
              "    </tr>\n",
              "    <tr>\n",
              "      <th>3</th>\n",
              "      <td>36</td>\n",
              "      <td>admin.</td>\n",
              "      <td>married</td>\n",
              "      <td>high.school</td>\n",
              "      <td>no</td>\n",
              "      <td>no</td>\n",
              "      <td>no</td>\n",
              "      <td>telephone</td>\n",
              "      <td>jun</td>\n",
              "      <td>fri</td>\n",
              "      <td>...</td>\n",
              "      <td>4</td>\n",
              "      <td>999</td>\n",
              "      <td>0</td>\n",
              "      <td>nonexistent</td>\n",
              "      <td>1.40</td>\n",
              "      <td>94.47</td>\n",
              "      <td>-41.80</td>\n",
              "      <td>4.97</td>\n",
              "      <td>5228.10</td>\n",
              "      <td>no</td>\n",
              "    </tr>\n",
              "    <tr>\n",
              "      <th>4</th>\n",
              "      <td>27</td>\n",
              "      <td>housemaid</td>\n",
              "      <td>married</td>\n",
              "      <td>high.school</td>\n",
              "      <td>no</td>\n",
              "      <td>yes</td>\n",
              "      <td>no</td>\n",
              "      <td>cellular</td>\n",
              "      <td>jul</td>\n",
              "      <td>fri</td>\n",
              "      <td>...</td>\n",
              "      <td>2</td>\n",
              "      <td>999</td>\n",
              "      <td>0</td>\n",
              "      <td>nonexistent</td>\n",
              "      <td>1.40</td>\n",
              "      <td>93.92</td>\n",
              "      <td>-42.70</td>\n",
              "      <td>4.96</td>\n",
              "      <td>5228.10</td>\n",
              "      <td>no</td>\n",
              "    </tr>\n",
              "  </tbody>\n",
              "</table>\n",
              "<p>5 rows × 21 columns</p>\n",
              "</div>"
            ]
          },
          "metadata": {},
          "execution_count": 45
        }
      ],
      "metadata": {}
    },
    {
      "cell_type": "code",
      "execution_count": 46,
      "source": [
        "# Add missing values in 75% of the lines. -> 在75%的行中添加缺少的值。\r\n",
        "import numpy as np\r\n",
        "\r\n",
        "missing_rate = 0.75\r\n",
        "n_missing_samples = int(np.floor(data.shape[0] * missing_rate))\r\n",
        "missing_samples = np.hstack((np.zeros(data.shape[0] - n_missing_samples, dtype=np.bool), np.ones(n_missing_samples, dtype=np.bool)))\r\n",
        "rng = np.random.RandomState(0)\r\n",
        "rng.shuffle(missing_samples)\r\n",
        "missing_features = rng.randint(0, data.shape[1], n_missing_samples)\r\n",
        "data.values[np.where(missing_samples)[0], missing_features] = np.nan"
      ],
      "outputs": [],
      "metadata": {}
    },
    {
      "cell_type": "code",
      "execution_count": 47,
      "source": [
        "if not os.path.isdir('data'):\r\n",
        "    os.mkdir('data')\r\n",
        "    \r\n",
        "# Save the train data to a csv to be uploaded to the datastore -> 将列车数据保存到csv，以上载到数据存储\r\n",
        "pd.DataFrame(data).to_csv(\"data/train_data.csv\", index=False)\r\n",
        "\r\n",
        "ds = ws.get_default_datastore()\r\n",
        "ds.upload(src_dir='./data', target_path='bankmarketing', overwrite=True, show_progress=True)\r\n",
        "\r\n",
        " \r\n",
        "\r\n",
        "# Upload the training data as a tabular dataset for access during training on remote compute -> 将培训数据上传为表格数据集，以便在远程计算培训期间访问\r\n",
        "train_data = Dataset.Tabular.from_delimited_files(path=ds.path('bankmarketing/train_data.csv'))\r\n",
        "label = \"y\""
      ],
      "outputs": [
        {
          "output_type": "stream",
          "name": "stdout",
          "text": [
            "Uploading an estimated of 1 files\n",
            "Uploading ./data/train_data.csv\n",
            "Uploaded ./data/train_data.csv, 1 files out of an estimated total of 1\n",
            "Uploaded 1 files\n"
          ]
        }
      ],
      "metadata": {}
    },
    {
      "cell_type": "markdown",
      "source": [
        "### Validation Data"
      ],
      "metadata": {}
    },
    {
      "cell_type": "code",
      "execution_count": 48,
      "source": [
        "validation_data = \"https://automlsamplenotebookdata.blob.core.windows.net/automl-sample-notebook-data/bankmarketing_validate.csv\"\r\n",
        "validation_dataset = Dataset.Tabular.from_delimited_files(validation_data)"
      ],
      "outputs": [],
      "metadata": {}
    },
    {
      "cell_type": "markdown",
      "source": [
        "### Test Data"
      ],
      "metadata": {}
    },
    {
      "cell_type": "code",
      "execution_count": 49,
      "source": [
        "test_data = \"https://automlsamplenotebookdata.blob.core.windows.net/automl-sample-notebook-data/bankmarketing_test.csv\"\r\n",
        "test_dataset = Dataset.Tabular.from_delimited_files(test_data)"
      ],
      "outputs": [],
      "metadata": {}
    },
    {
      "cell_type": "markdown",
      "source": [
        "## Train\r\n",
        "\r\n",
        "实例化AutoMLConfig对象。这定义了用于运行实验的设置和数据。\r\n",
        "\r\n",
        "|Property|Description|\r\n",
        "|-|-|\r\n",
        "|**task**|classification or regression or forecasting|\r\n",
        "|**primary_metric**|这是您要优化的指标。Classification支持以下主要指标: <br><i>accuracy</i><br><i>AUC_weighted</i><br><i>average_precision_score_weighted</i><br><i>norm_macro_recall</i><br><i>precision_score_weighted</i>|\r\n",
        "|**iteration_timeout_minutes**|Time limit in minutes for each iteration.|\r\n",
        "|**blocked_models** | *List* of *strings* indicating machine learning algorithms for AutoML to avoid in this run. <br><br> Allowed values for **Classification**<br><i>LogisticRegression</i><br><i>SGD</i><br><i>MultinomialNaiveBayes</i><br><i>BernoulliNaiveBayes</i><br><i>SVM</i><br><i>LinearSVM</i><br><i>KNN</i><br><i>DecisionTree</i><br><i>RandomForest</i><br><i>ExtremeRandomTrees</i><br><i>LightGBM</i><br><i>GradientBoosting</i><br><i>TensorFlowDNN</i><br><i>TensorFlowLinearClassifier</i><br><br>Allowed values for **Regression**<br><i>ElasticNet</i><br><i>GradientBoosting</i><br><i>DecisionTree</i><br><i>KNN</i><br><i>LassoLars</i><br><i>SGD</i><br><i>RandomForest</i><br><i>ExtremeRandomTrees</i><br><i>LightGBM</i><br><i>TensorFlowLinearRegressor</i><br><i>TensorFlowDNN</i><br><br>Allowed values for **Forecasting**<br><i>ElasticNet</i><br><i>GradientBoosting</i><br><i>DecisionTree</i><br><i>KNN</i><br><i>LassoLars</i><br><i>SGD</i><br><i>RandomForest</i><br><i>ExtremeRandomTrees</i><br><i>LightGBM</i><br><i>TensorFlowLinearRegressor</i><br><i>TensorFlowDNN</i><br><i>Arima</i><br><i>Prophet</i>|\r\n",
        "|**allowed_models** | 表示AutoML在此运行中使用的机器学习算法的*字符串列表*。上面列出的相同值适用于 **blocked_models**  允许的**allowed_models**。|\r\n",
        "|**experiment_exit_score**| 指示*primary_metric*目标的值<br>一旦超过目标，运行将终止。|\r\n",
        "|**experiment_timeout_hours**| 在实验终止之前，所有迭代组合所能花费的最大时间（小时）。|\r\n",
        "|**enable_early_stopping**| 如果分数在短期内没有改善，则表明可以提前终止。|\r\n",
        "|**featurization**| 'auto' / 'off'  是否应自动完成特征化步骤的指示器。注意：如果输入数据稀疏，则无法启用特征化。|\r\n",
        "|**n_cross_validations**| 交叉验证拆分的数目。|\r\n",
        "|**training_data**|输入数据集，包含要素和标签列。|\r\n",
        "|**label_column_name**|标签列的名称。|\r\n",
        "\r\n",
        "**_您可以找到有关主要指标(primary metrics)的更多信息_** [here](https://docs.microsoft.com/en-us/azure/machine-learning/service/how-to-configure-auto-train#primary-metric)"
      ],
      "metadata": {}
    },
    {
      "cell_type": "code",
      "execution_count": 50,
      "source": [
        "automl_settings = {\r\n",
        "    \"experiment_timeout_hours\" : 0.3,\r\n",
        "    \"enable_early_stopping\" : True,\r\n",
        "    \"iteration_timeout_minutes\": 5,\r\n",
        "    \"max_concurrent_iterations\": 4,\r\n",
        "    \"max_cores_per_iteration\": -1,\r\n",
        "    #\"n_cross_validations\": 2,\r\n",
        "    \"primary_metric\": 'AUC_weighted',\r\n",
        "    \"featurization\": 'auto',\r\n",
        "    \"verbosity\": logging.INFO,\r\n",
        "}\r\n",
        "\r\n",
        "automl_config = AutoMLConfig(task = 'classification',\r\n",
        "                             debug_log = 'automl_errors.log',\r\n",
        "                             compute_target=compute_target,\r\n",
        "                             experiment_exit_score = 0.9984,\r\n",
        "                             blocked_models = ['KNN','LinearSVM'],\r\n",
        "                             enable_onnx_compatible_models=True,\r\n",
        "                             training_data = train_data,\r\n",
        "                             label_column_name = label,\r\n",
        "                             validation_data = validation_dataset,\r\n",
        "                             **automl_settings\r\n",
        "                            )"
      ],
      "outputs": [],
      "metadata": {}
    },
    {
      "cell_type": "markdown",
      "source": [
        "对实验对象调用'submit'方法并输入运行配置。本地运行的执行是同步的。取决于数据和迭代次数，这可能要运行一段时间。设置“show_output=True”时，将显示验证错误和当前状态，并且执行将是同步的。"
      ],
      "metadata": {}
    },
    {
      "cell_type": "code",
      "execution_count": null,
      "source": [
        "remote_run = experiment.submit(automl_config, show_output = False)"
      ],
      "outputs": [],
      "metadata": {}
    },
    {
      "cell_type": "markdown",
      "source": [
        "运行以下单元格以访问以前的运行。取消对下面单元格的注释并更新运行id。"
      ],
      "metadata": {}
    },
    {
      "cell_type": "code",
      "execution_count": 51,
      "source": [
        "# from azureml.train.automl.run import AutoMLRun\r\n",
        "# remote_run = AutoMLRun(experiment=experiment, run_id='AutoML_56941284-2658-46cd-9230-e0592db0fcef')\r\n",
        "# remote_run"
      ],
      "outputs": [
        {
          "output_type": "execute_result",
          "data": {
            "text/plain": [
              "Run(Experiment: automl-classification-bmarketing-all,\n",
              "Id: AutoML_56941284-2658-46cd-9230-e0592db0fcef,\n",
              "Type: automl,\n",
              "Status: Completed)"
            ],
            "text/html": [
              "<table style=\"width:100%\"><tr><th>Experiment</th><th>Id</th><th>Type</th><th>Status</th><th>Details Page</th><th>Docs Page</th></tr><tr><td>automl-classification-bmarketing-all</td><td>AutoML_56941284-2658-46cd-9230-e0592db0fcef</td><td>automl</td><td>Completed</td><td><a href=\"https://ml.azure.com/runs/AutoML_56941284-2658-46cd-9230-e0592db0fcef?wsid=/subscriptions/1bab3e78-2764-4555-845d-297f7a7ca7c0/resourcegroups/aml/workspaces/amlwsea&amp;tid=72f988bf-86f1-41af-91ab-2d7cd011db47\" target=\"_blank\" rel=\"noopener\">Link to Azure Machine Learning studio</a></td><td><a href=\"https://docs.microsoft.com/en-us/python/api/overview/azure/ml/intro?view=azure-ml-py\" target=\"_blank\" rel=\"noopener\">Link to Documentation</a></td></tr></table>"
            ]
          },
          "metadata": {},
          "execution_count": 51
        }
      ],
      "metadata": {}
    },
    {
      "cell_type": "code",
      "execution_count": null,
      "source": [
        "# Wait for the remote run to complete -> 等待远程运行完成\r\n",
        "remote_run.wait_for_completion()"
      ],
      "outputs": [],
      "metadata": {}
    },
    {
      "cell_type": "code",
      "execution_count": 52,
      "source": [
        "best_run_customized, fitted_model_customized = remote_run.get_output()"
      ],
      "outputs": [
        {
          "output_type": "stream",
          "name": "stderr",
          "text": [
            "WARNING:root:The version of the SDK does not match the version the model was trained on.\n",
            "WARNING:root:The consistency in the result may not be guaranteed.\n",
            "WARNING:root:Package:azureml-automl-core, training version:1.32.0, current version:1.18.0.post2\n",
            "Package:azureml-automl-runtime, training version:1.32.0, current version:1.18.0.post2\n",
            "Package:azureml-dataprep, training version:2.18.0, current version:2.4.5\n",
            "Package:azureml-dataprep-native, training version:36.0.0, current version:24.0.0\n",
            "Package:azureml-dataprep-rslex, training version:1.16.1, current version:1.2.3\n",
            "Package:azureml-dataset-runtime, training version:1.32.0, current version:1.18.0\n",
            "Package:azureml-defaults, training version:1.32.0, current version:1.18.0\n",
            "Package:azureml-interpret, training version:1.32.0, current version:1.18.0\n",
            "Package:azureml-mlflow, training version:1.32.0, current version:1.31.0\n",
            "Package:azureml-telemetry, training version:1.32.0, current version:1.18.0.post1\n",
            "Package:azureml-train-automl-client, training version:1.32.0, current version:1.18.0\n",
            "Package:azureml-train-automl-runtime, training version:1.32.0, current version:1.18.0.post1\n",
            "WARNING:root:Please ensure the version of your local conda dependencies match the version on which your model was trained in order to properly retrieve your model.\n"
          ]
        }
      ],
      "metadata": {}
    },
    {
      "cell_type": "markdown",
      "source": [
        "## Transparency\r\n",
        "\r\n",
        "查看更新的特征化摘要"
      ],
      "metadata": {}
    },
    {
      "cell_type": "code",
      "execution_count": 53,
      "source": [
        "custom_featurizer = fitted_model_customized.named_steps['datatransformer']\r\n",
        "df = custom_featurizer.get_featurization_summary()\r\n",
        "pd.DataFrame(data=df)"
      ],
      "outputs": [
        {
          "output_type": "execute_result",
          "data": {
            "text/plain": [
              "    RawFeatureName TypeDetected Dropped  EngineeredFeatureCount  \\\n",
              "0   age             Numeric      No      1                        \n",
              "1   duration        Numeric      No      1                        \n",
              "2   emp.var.rate    Numeric      No      1                        \n",
              "3   cons.price.idx  Numeric      No      1                        \n",
              "4   cons.conf.idx   Numeric      No      1                        \n",
              "5   euribor3m       Numeric      No      1                        \n",
              "6   nr.employed     Numeric      No      1                        \n",
              "7   job             Categorical  No      12                       \n",
              "8   marital         Categorical  No      4                        \n",
              "9   education       Categorical  No      8                        \n",
              "10  default         Categorical  No      3                        \n",
              "11  housing         Categorical  No      3                        \n",
              "12  loan            Categorical  No      3                        \n",
              "13  contact         Categorical  No      1                        \n",
              "14  month           Categorical  No      10                       \n",
              "15  day_of_week     Categorical  No      5                        \n",
              "16  campaign        Categorical  No      39                       \n",
              "17  pdays           Categorical  No      26                       \n",
              "18  previous        Categorical  No      8                        \n",
              "19  poutcome        Categorical  No      3                        \n",
              "\n",
              "                             Transformations  \n",
              "0   [MeanImputer]                             \n",
              "1   [MeanImputer]                             \n",
              "2   [MeanImputer]                             \n",
              "3   [MeanImputer]                             \n",
              "4   [MeanImputer]                             \n",
              "5   [MeanImputer]                             \n",
              "6   [MeanImputer]                             \n",
              "7   [StringCast-CharGramCountVectorizer]      \n",
              "8   [StringCast-CharGramCountVectorizer]      \n",
              "9   [StringCast-CharGramCountVectorizer]      \n",
              "10  [StringCast-CharGramCountVectorizer]      \n",
              "11  [StringCast-CharGramCountVectorizer]      \n",
              "12  [StringCast-CharGramCountVectorizer]      \n",
              "13  [ModeCatImputer-StringCast-LabelEncoder]  \n",
              "14  [StringCast-CharGramCountVectorizer]      \n",
              "15  [StringCast-CharGramCountVectorizer]      \n",
              "16  [StringCast-CharGramCountVectorizer]      \n",
              "17  [StringCast-CharGramCountVectorizer]      \n",
              "18  [StringCast-CharGramCountVectorizer]      \n",
              "19  [StringCast-CharGramCountVectorizer]      "
            ],
            "text/html": [
              "<div>\n",
              "<style scoped>\n",
              "    .dataframe tbody tr th:only-of-type {\n",
              "        vertical-align: middle;\n",
              "    }\n",
              "\n",
              "    .dataframe tbody tr th {\n",
              "        vertical-align: top;\n",
              "    }\n",
              "\n",
              "    .dataframe thead th {\n",
              "        text-align: right;\n",
              "    }\n",
              "</style>\n",
              "<table border=\"1\" class=\"dataframe\">\n",
              "  <thead>\n",
              "    <tr style=\"text-align: right;\">\n",
              "      <th></th>\n",
              "      <th>RawFeatureName</th>\n",
              "      <th>TypeDetected</th>\n",
              "      <th>Dropped</th>\n",
              "      <th>EngineeredFeatureCount</th>\n",
              "      <th>Transformations</th>\n",
              "    </tr>\n",
              "  </thead>\n",
              "  <tbody>\n",
              "    <tr>\n",
              "      <th>0</th>\n",
              "      <td>age</td>\n",
              "      <td>Numeric</td>\n",
              "      <td>No</td>\n",
              "      <td>1</td>\n",
              "      <td>[MeanImputer]</td>\n",
              "    </tr>\n",
              "    <tr>\n",
              "      <th>1</th>\n",
              "      <td>duration</td>\n",
              "      <td>Numeric</td>\n",
              "      <td>No</td>\n",
              "      <td>1</td>\n",
              "      <td>[MeanImputer]</td>\n",
              "    </tr>\n",
              "    <tr>\n",
              "      <th>2</th>\n",
              "      <td>emp.var.rate</td>\n",
              "      <td>Numeric</td>\n",
              "      <td>No</td>\n",
              "      <td>1</td>\n",
              "      <td>[MeanImputer]</td>\n",
              "    </tr>\n",
              "    <tr>\n",
              "      <th>3</th>\n",
              "      <td>cons.price.idx</td>\n",
              "      <td>Numeric</td>\n",
              "      <td>No</td>\n",
              "      <td>1</td>\n",
              "      <td>[MeanImputer]</td>\n",
              "    </tr>\n",
              "    <tr>\n",
              "      <th>4</th>\n",
              "      <td>cons.conf.idx</td>\n",
              "      <td>Numeric</td>\n",
              "      <td>No</td>\n",
              "      <td>1</td>\n",
              "      <td>[MeanImputer]</td>\n",
              "    </tr>\n",
              "    <tr>\n",
              "      <th>5</th>\n",
              "      <td>euribor3m</td>\n",
              "      <td>Numeric</td>\n",
              "      <td>No</td>\n",
              "      <td>1</td>\n",
              "      <td>[MeanImputer]</td>\n",
              "    </tr>\n",
              "    <tr>\n",
              "      <th>6</th>\n",
              "      <td>nr.employed</td>\n",
              "      <td>Numeric</td>\n",
              "      <td>No</td>\n",
              "      <td>1</td>\n",
              "      <td>[MeanImputer]</td>\n",
              "    </tr>\n",
              "    <tr>\n",
              "      <th>7</th>\n",
              "      <td>job</td>\n",
              "      <td>Categorical</td>\n",
              "      <td>No</td>\n",
              "      <td>12</td>\n",
              "      <td>[StringCast-CharGramCountVectorizer]</td>\n",
              "    </tr>\n",
              "    <tr>\n",
              "      <th>8</th>\n",
              "      <td>marital</td>\n",
              "      <td>Categorical</td>\n",
              "      <td>No</td>\n",
              "      <td>4</td>\n",
              "      <td>[StringCast-CharGramCountVectorizer]</td>\n",
              "    </tr>\n",
              "    <tr>\n",
              "      <th>9</th>\n",
              "      <td>education</td>\n",
              "      <td>Categorical</td>\n",
              "      <td>No</td>\n",
              "      <td>8</td>\n",
              "      <td>[StringCast-CharGramCountVectorizer]</td>\n",
              "    </tr>\n",
              "    <tr>\n",
              "      <th>10</th>\n",
              "      <td>default</td>\n",
              "      <td>Categorical</td>\n",
              "      <td>No</td>\n",
              "      <td>3</td>\n",
              "      <td>[StringCast-CharGramCountVectorizer]</td>\n",
              "    </tr>\n",
              "    <tr>\n",
              "      <th>11</th>\n",
              "      <td>housing</td>\n",
              "      <td>Categorical</td>\n",
              "      <td>No</td>\n",
              "      <td>3</td>\n",
              "      <td>[StringCast-CharGramCountVectorizer]</td>\n",
              "    </tr>\n",
              "    <tr>\n",
              "      <th>12</th>\n",
              "      <td>loan</td>\n",
              "      <td>Categorical</td>\n",
              "      <td>No</td>\n",
              "      <td>3</td>\n",
              "      <td>[StringCast-CharGramCountVectorizer]</td>\n",
              "    </tr>\n",
              "    <tr>\n",
              "      <th>13</th>\n",
              "      <td>contact</td>\n",
              "      <td>Categorical</td>\n",
              "      <td>No</td>\n",
              "      <td>1</td>\n",
              "      <td>[ModeCatImputer-StringCast-LabelEncoder]</td>\n",
              "    </tr>\n",
              "    <tr>\n",
              "      <th>14</th>\n",
              "      <td>month</td>\n",
              "      <td>Categorical</td>\n",
              "      <td>No</td>\n",
              "      <td>10</td>\n",
              "      <td>[StringCast-CharGramCountVectorizer]</td>\n",
              "    </tr>\n",
              "    <tr>\n",
              "      <th>15</th>\n",
              "      <td>day_of_week</td>\n",
              "      <td>Categorical</td>\n",
              "      <td>No</td>\n",
              "      <td>5</td>\n",
              "      <td>[StringCast-CharGramCountVectorizer]</td>\n",
              "    </tr>\n",
              "    <tr>\n",
              "      <th>16</th>\n",
              "      <td>campaign</td>\n",
              "      <td>Categorical</td>\n",
              "      <td>No</td>\n",
              "      <td>39</td>\n",
              "      <td>[StringCast-CharGramCountVectorizer]</td>\n",
              "    </tr>\n",
              "    <tr>\n",
              "      <th>17</th>\n",
              "      <td>pdays</td>\n",
              "      <td>Categorical</td>\n",
              "      <td>No</td>\n",
              "      <td>26</td>\n",
              "      <td>[StringCast-CharGramCountVectorizer]</td>\n",
              "    </tr>\n",
              "    <tr>\n",
              "      <th>18</th>\n",
              "      <td>previous</td>\n",
              "      <td>Categorical</td>\n",
              "      <td>No</td>\n",
              "      <td>8</td>\n",
              "      <td>[StringCast-CharGramCountVectorizer]</td>\n",
              "    </tr>\n",
              "    <tr>\n",
              "      <th>19</th>\n",
              "      <td>poutcome</td>\n",
              "      <td>Categorical</td>\n",
              "      <td>No</td>\n",
              "      <td>3</td>\n",
              "      <td>[StringCast-CharGramCountVectorizer]</td>\n",
              "    </tr>\n",
              "  </tbody>\n",
              "</table>\n",
              "</div>"
            ]
          },
          "metadata": {},
          "execution_count": 53
        }
      ],
      "metadata": {}
    },
    {
      "cell_type": "markdown",
      "source": [
        "设置`is_user_friendly=False`以获取所应用转换的更详细摘要。"
      ],
      "metadata": {}
    },
    {
      "cell_type": "code",
      "execution_count": 54,
      "source": [
        "df = custom_featurizer.get_featurization_summary(is_user_friendly=False)\r\n",
        "pd.DataFrame(data=df)"
      ],
      "outputs": [
        {
          "output_type": "execute_result",
          "data": {
            "text/plain": [
              "    RawFeatureName TypeDetected Dropped  EngineeredFeatureCount  \\\n",
              "0   age             Numeric      No      1                        \n",
              "1   duration        Numeric      No      1                        \n",
              "2   emp.var.rate    Numeric      No      1                        \n",
              "3   cons.price.idx  Numeric      No      1                        \n",
              "4   cons.conf.idx   Numeric      No      1                        \n",
              "5   euribor3m       Numeric      No      1                        \n",
              "6   nr.employed     Numeric      No      1                        \n",
              "7   job             Categorical  No      12                       \n",
              "8   marital         Categorical  No      4                        \n",
              "9   education       Categorical  No      8                        \n",
              "10  default         Categorical  No      3                        \n",
              "11  housing         Categorical  No      3                        \n",
              "12  loan            Categorical  No      3                        \n",
              "13  contact         Categorical  No      1                        \n",
              "14  month           Categorical  No      10                       \n",
              "15  day_of_week     Categorical  No      5                        \n",
              "16  campaign        Categorical  No      39                       \n",
              "17  pdays           Categorical  No      26                       \n",
              "18  previous        Categorical  No      8                        \n",
              "19  poutcome        Categorical  No      3                        \n",
              "\n",
              "                             Transformations  \\\n",
              "0   [MeanImputer]                              \n",
              "1   [MeanImputer]                              \n",
              "2   [MeanImputer]                              \n",
              "3   [MeanImputer]                              \n",
              "4   [MeanImputer]                              \n",
              "5   [MeanImputer]                              \n",
              "6   [MeanImputer]                              \n",
              "7   [StringCast-CharGramCountVectorizer]       \n",
              "8   [StringCast-CharGramCountVectorizer]       \n",
              "9   [StringCast-CharGramCountVectorizer]       \n",
              "10  [StringCast-CharGramCountVectorizer]       \n",
              "11  [StringCast-CharGramCountVectorizer]       \n",
              "12  [StringCast-CharGramCountVectorizer]       \n",
              "13  [ModeCatImputer-StringCast-LabelEncoder]   \n",
              "14  [StringCast-CharGramCountVectorizer]       \n",
              "15  [StringCast-CharGramCountVectorizer]       \n",
              "16  [StringCast-CharGramCountVectorizer]       \n",
              "17  [StringCast-CharGramCountVectorizer]       \n",
              "18  [StringCast-CharGramCountVectorizer]       \n",
              "19  [StringCast-CharGramCountVectorizer]       \n",
              "\n",
              "                                                                                                                                                                                                                                                                                                                                                                                                                                                                                                                                                                                                                                                                   TransformationParams  \n",
              "0   {'Transformer1': {'Input': ['age'], 'TransformationFunction': 'Imputer', 'Operator': 'Mean', 'FeatureType': 'Numeric', 'ShouldOutput': True, 'TransformationParams': {'add_indicator': False, 'copy': True, 'fill_value': None, 'missing_values': nan, 'strategy': 'mean', 'verbose': 0}}}                                                                                                                                                                                                                                                                                                                                                                                           \n",
              "1   {'Transformer1': {'Input': ['duration'], 'TransformationFunction': 'Imputer', 'Operator': 'Mean', 'FeatureType': 'Numeric', 'ShouldOutput': True, 'TransformationParams': {'add_indicator': False, 'copy': True, 'fill_value': None, 'missing_values': nan, 'strategy': 'mean', 'verbose': 0}}}                                                                                                                                                                                                                                                                                                                                                                                      \n",
              "2   {'Transformer1': {'Input': ['emp.var.rate'], 'TransformationFunction': 'Imputer', 'Operator': 'Mean', 'FeatureType': 'Numeric', 'ShouldOutput': True, 'TransformationParams': {'add_indicator': False, 'copy': True, 'fill_value': None, 'missing_values': nan, 'strategy': 'mean', 'verbose': 0}}}                                                                                                                                                                                                                                                                                                                                                                                  \n",
              "3   {'Transformer1': {'Input': ['cons.price.idx'], 'TransformationFunction': 'Imputer', 'Operator': 'Mean', 'FeatureType': 'Numeric', 'ShouldOutput': True, 'TransformationParams': {'add_indicator': False, 'copy': True, 'fill_value': None, 'missing_values': nan, 'strategy': 'mean', 'verbose': 0}}}                                                                                                                                                                                                                                                                                                                                                                                \n",
              "4   {'Transformer1': {'Input': ['cons.conf.idx'], 'TransformationFunction': 'Imputer', 'Operator': 'Mean', 'FeatureType': 'Numeric', 'ShouldOutput': True, 'TransformationParams': {'add_indicator': False, 'copy': True, 'fill_value': None, 'missing_values': nan, 'strategy': 'mean', 'verbose': 0}}}                                                                                                                                                                                                                                                                                                                                                                                 \n",
              "5   {'Transformer1': {'Input': ['euribor3m'], 'TransformationFunction': 'Imputer', 'Operator': 'Mean', 'FeatureType': 'Numeric', 'ShouldOutput': True, 'TransformationParams': {'add_indicator': False, 'copy': True, 'fill_value': None, 'missing_values': nan, 'strategy': 'mean', 'verbose': 0}}}                                                                                                                                                                                                                                                                                                                                                                                     \n",
              "6   {'Transformer1': {'Input': ['nr.employed'], 'TransformationFunction': 'Imputer', 'Operator': 'Mean', 'FeatureType': 'Numeric', 'ShouldOutput': True, 'TransformationParams': {'add_indicator': False, 'copy': True, 'fill_value': None, 'missing_values': nan, 'strategy': 'mean', 'verbose': 0}}}                                                                                                                                                                                                                                                                                                                                                                                   \n",
              "7   {'Transformer1': {'Input': ['job'], 'TransformationFunction': 'StringCast', 'Operator': None, 'FeatureType': 'Categorical', 'ShouldOutput': False, 'TransformationParams': {}}, 'Transformer2': {'Input': ['Transformer1'], 'TransformationFunction': 'CountVectorizer', 'Operator': 'CharGram', 'FeatureType': None, 'ShouldOutput': True, 'TransformationParams': {'analyzer': 'word', 'binary': True, 'decode_error': 'strict', 'encoding': 'utf-8', 'input': 'content', 'lowercase': False, 'max_df': 1.0, 'max_features': None, 'min_df': 1, 'ngram_range': (1, 1), 'stop_words': None, 'strip_accents': None, 'token_pattern': '(?u)\\b\\w\\w+\\b', 'vocabulary': None}}}          \n",
              "8   {'Transformer1': {'Input': ['marital'], 'TransformationFunction': 'StringCast', 'Operator': None, 'FeatureType': 'Categorical', 'ShouldOutput': False, 'TransformationParams': {}}, 'Transformer2': {'Input': ['Transformer1'], 'TransformationFunction': 'CountVectorizer', 'Operator': 'CharGram', 'FeatureType': None, 'ShouldOutput': True, 'TransformationParams': {'analyzer': 'word', 'binary': True, 'decode_error': 'strict', 'encoding': 'utf-8', 'input': 'content', 'lowercase': False, 'max_df': 1.0, 'max_features': None, 'min_df': 1, 'ngram_range': (1, 1), 'stop_words': None, 'strip_accents': None, 'token_pattern': '(?u)\\b\\w\\w+\\b', 'vocabulary': None}}}      \n",
              "9   {'Transformer1': {'Input': ['education'], 'TransformationFunction': 'StringCast', 'Operator': None, 'FeatureType': 'Categorical', 'ShouldOutput': False, 'TransformationParams': {}}, 'Transformer2': {'Input': ['Transformer1'], 'TransformationFunction': 'CountVectorizer', 'Operator': 'CharGram', 'FeatureType': None, 'ShouldOutput': True, 'TransformationParams': {'analyzer': 'word', 'binary': True, 'decode_error': 'strict', 'encoding': 'utf-8', 'input': 'content', 'lowercase': False, 'max_df': 1.0, 'max_features': None, 'min_df': 1, 'ngram_range': (1, 1), 'stop_words': None, 'strip_accents': None, 'token_pattern': '(?u)\\b\\w\\w+\\b', 'vocabulary': None}}}    \n",
              "10  {'Transformer1': {'Input': ['default'], 'TransformationFunction': 'StringCast', 'Operator': None, 'FeatureType': 'Categorical', 'ShouldOutput': False, 'TransformationParams': {}}, 'Transformer2': {'Input': ['Transformer1'], 'TransformationFunction': 'CountVectorizer', 'Operator': 'CharGram', 'FeatureType': None, 'ShouldOutput': True, 'TransformationParams': {'analyzer': 'word', 'binary': True, 'decode_error': 'strict', 'encoding': 'utf-8', 'input': 'content', 'lowercase': False, 'max_df': 1.0, 'max_features': None, 'min_df': 1, 'ngram_range': (1, 1), 'stop_words': None, 'strip_accents': None, 'token_pattern': '(?u)\\b\\w\\w+\\b', 'vocabulary': None}}}      \n",
              "11  {'Transformer1': {'Input': ['housing'], 'TransformationFunction': 'StringCast', 'Operator': None, 'FeatureType': 'Categorical', 'ShouldOutput': False, 'TransformationParams': {}}, 'Transformer2': {'Input': ['Transformer1'], 'TransformationFunction': 'CountVectorizer', 'Operator': 'CharGram', 'FeatureType': None, 'ShouldOutput': True, 'TransformationParams': {'analyzer': 'word', 'binary': True, 'decode_error': 'strict', 'encoding': 'utf-8', 'input': 'content', 'lowercase': False, 'max_df': 1.0, 'max_features': None, 'min_df': 1, 'ngram_range': (1, 1), 'stop_words': None, 'strip_accents': None, 'token_pattern': '(?u)\\b\\w\\w+\\b', 'vocabulary': None}}}      \n",
              "12  {'Transformer1': {'Input': ['loan'], 'TransformationFunction': 'StringCast', 'Operator': None, 'FeatureType': 'Categorical', 'ShouldOutput': False, 'TransformationParams': {}}, 'Transformer2': {'Input': ['Transformer1'], 'TransformationFunction': 'CountVectorizer', 'Operator': 'CharGram', 'FeatureType': None, 'ShouldOutput': True, 'TransformationParams': {'analyzer': 'word', 'binary': True, 'decode_error': 'strict', 'encoding': 'utf-8', 'input': 'content', 'lowercase': False, 'max_df': 1.0, 'max_features': None, 'min_df': 1, 'ngram_range': (1, 1), 'stop_words': None, 'strip_accents': None, 'token_pattern': '(?u)\\b\\w\\w+\\b', 'vocabulary': None}}}         \n",
              "13  {'Transformer1': {'Input': ['contact'], 'TransformationFunction': 'CatImputer', 'Operator': 'Mode', 'FeatureType': 'Categorical', 'ShouldOutput': True, 'TransformationParams': {'copy': True}}, 'Transformer2': {'Input': ['Transformer1'], 'TransformationFunction': 'StringCast', 'Operator': None, 'FeatureType': None, 'ShouldOutput': False, 'TransformationParams': {}}, 'Transformer3': {'Input': ['Transformer2'], 'TransformationFunction': 'LabelEncoder', 'Operator': None, 'FeatureType': None, 'ShouldOutput': True, 'TransformationParams': {'hashing_seed_val': 314489979}}}                                                                                         \n",
              "14  {'Transformer1': {'Input': ['month'], 'TransformationFunction': 'StringCast', 'Operator': None, 'FeatureType': 'Categorical', 'ShouldOutput': False, 'TransformationParams': {}}, 'Transformer2': {'Input': ['Transformer1'], 'TransformationFunction': 'CountVectorizer', 'Operator': 'CharGram', 'FeatureType': None, 'ShouldOutput': True, 'TransformationParams': {'analyzer': 'word', 'binary': True, 'decode_error': 'strict', 'encoding': 'utf-8', 'input': 'content', 'lowercase': False, 'max_df': 1.0, 'max_features': None, 'min_df': 1, 'ngram_range': (1, 1), 'stop_words': None, 'strip_accents': None, 'token_pattern': '(?u)\\b\\w\\w+\\b', 'vocabulary': None}}}        \n",
              "15  {'Transformer1': {'Input': ['day_of_week'], 'TransformationFunction': 'StringCast', 'Operator': None, 'FeatureType': 'Categorical', 'ShouldOutput': False, 'TransformationParams': {}}, 'Transformer2': {'Input': ['Transformer1'], 'TransformationFunction': 'CountVectorizer', 'Operator': 'CharGram', 'FeatureType': None, 'ShouldOutput': True, 'TransformationParams': {'analyzer': 'word', 'binary': True, 'decode_error': 'strict', 'encoding': 'utf-8', 'input': 'content', 'lowercase': False, 'max_df': 1.0, 'max_features': None, 'min_df': 1, 'ngram_range': (1, 1), 'stop_words': None, 'strip_accents': None, 'token_pattern': '(?u)\\b\\w\\w+\\b', 'vocabulary': None}}}  \n",
              "16  {'Transformer1': {'Input': ['campaign'], 'TransformationFunction': 'StringCast', 'Operator': None, 'FeatureType': 'Categorical', 'ShouldOutput': False, 'TransformationParams': {}}, 'Transformer2': {'Input': ['Transformer1'], 'TransformationFunction': 'CountVectorizer', 'Operator': 'CharGram', 'FeatureType': None, 'ShouldOutput': True, 'TransformationParams': {'analyzer': 'word', 'binary': True, 'decode_error': 'strict', 'encoding': 'utf-8', 'input': 'content', 'lowercase': False, 'max_df': 1.0, 'max_features': None, 'min_df': 1, 'ngram_range': (1, 1), 'stop_words': None, 'strip_accents': None, 'token_pattern': '(?u)\\b\\w\\w+\\b', 'vocabulary': None}}}     \n",
              "17  {'Transformer1': {'Input': ['pdays'], 'TransformationFunction': 'StringCast', 'Operator': None, 'FeatureType': 'Categorical', 'ShouldOutput': False, 'TransformationParams': {}}, 'Transformer2': {'Input': ['Transformer1'], 'TransformationFunction': 'CountVectorizer', 'Operator': 'CharGram', 'FeatureType': None, 'ShouldOutput': True, 'TransformationParams': {'analyzer': 'word', 'binary': True, 'decode_error': 'strict', 'encoding': 'utf-8', 'input': 'content', 'lowercase': False, 'max_df': 1.0, 'max_features': None, 'min_df': 1, 'ngram_range': (1, 1), 'stop_words': None, 'strip_accents': None, 'token_pattern': '(?u)\\b\\w\\w+\\b', 'vocabulary': None}}}        \n",
              "18  {'Transformer1': {'Input': ['previous'], 'TransformationFunction': 'StringCast', 'Operator': None, 'FeatureType': 'Categorical', 'ShouldOutput': False, 'TransformationParams': {}}, 'Transformer2': {'Input': ['Transformer1'], 'TransformationFunction': 'CountVectorizer', 'Operator': 'CharGram', 'FeatureType': None, 'ShouldOutput': True, 'TransformationParams': {'analyzer': 'word', 'binary': True, 'decode_error': 'strict', 'encoding': 'utf-8', 'input': 'content', 'lowercase': False, 'max_df': 1.0, 'max_features': None, 'min_df': 1, 'ngram_range': (1, 1), 'stop_words': None, 'strip_accents': None, 'token_pattern': '(?u)\\b\\w\\w+\\b', 'vocabulary': None}}}     \n",
              "19  {'Transformer1': {'Input': ['poutcome'], 'TransformationFunction': 'StringCast', 'Operator': None, 'FeatureType': 'Categorical', 'ShouldOutput': False, 'TransformationParams': {}}, 'Transformer2': {'Input': ['Transformer1'], 'TransformationFunction': 'CountVectorizer', 'Operator': 'CharGram', 'FeatureType': None, 'ShouldOutput': True, 'TransformationParams': {'analyzer': 'word', 'binary': True, 'decode_error': 'strict', 'encoding': 'utf-8', 'input': 'content', 'lowercase': False, 'max_df': 1.0, 'max_features': None, 'min_df': 1, 'ngram_range': (1, 1), 'stop_words': None, 'strip_accents': None, 'token_pattern': '(?u)\\b\\w\\w+\\b', 'vocabulary': None}}}     "
            ],
            "text/html": [
              "<div>\n",
              "<style scoped>\n",
              "    .dataframe tbody tr th:only-of-type {\n",
              "        vertical-align: middle;\n",
              "    }\n",
              "\n",
              "    .dataframe tbody tr th {\n",
              "        vertical-align: top;\n",
              "    }\n",
              "\n",
              "    .dataframe thead th {\n",
              "        text-align: right;\n",
              "    }\n",
              "</style>\n",
              "<table border=\"1\" class=\"dataframe\">\n",
              "  <thead>\n",
              "    <tr style=\"text-align: right;\">\n",
              "      <th></th>\n",
              "      <th>RawFeatureName</th>\n",
              "      <th>TypeDetected</th>\n",
              "      <th>Dropped</th>\n",
              "      <th>EngineeredFeatureCount</th>\n",
              "      <th>Transformations</th>\n",
              "      <th>TransformationParams</th>\n",
              "    </tr>\n",
              "  </thead>\n",
              "  <tbody>\n",
              "    <tr>\n",
              "      <th>0</th>\n",
              "      <td>age</td>\n",
              "      <td>Numeric</td>\n",
              "      <td>No</td>\n",
              "      <td>1</td>\n",
              "      <td>[MeanImputer]</td>\n",
              "      <td>{'Transformer1': {'Input': ['age'], 'TransformationFunction': 'Imputer', 'Operator': 'Mean', 'FeatureType': 'Numeric', 'ShouldOutput': True, 'TransformationParams': {'add_indicator': False, 'copy': True, 'fill_value': None, 'missing_values': nan, 'strategy': 'mean', 'verbose': 0}}}</td>\n",
              "    </tr>\n",
              "    <tr>\n",
              "      <th>1</th>\n",
              "      <td>duration</td>\n",
              "      <td>Numeric</td>\n",
              "      <td>No</td>\n",
              "      <td>1</td>\n",
              "      <td>[MeanImputer]</td>\n",
              "      <td>{'Transformer1': {'Input': ['duration'], 'TransformationFunction': 'Imputer', 'Operator': 'Mean', 'FeatureType': 'Numeric', 'ShouldOutput': True, 'TransformationParams': {'add_indicator': False, 'copy': True, 'fill_value': None, 'missing_values': nan, 'strategy': 'mean', 'verbose': 0}}}</td>\n",
              "    </tr>\n",
              "    <tr>\n",
              "      <th>2</th>\n",
              "      <td>emp.var.rate</td>\n",
              "      <td>Numeric</td>\n",
              "      <td>No</td>\n",
              "      <td>1</td>\n",
              "      <td>[MeanImputer]</td>\n",
              "      <td>{'Transformer1': {'Input': ['emp.var.rate'], 'TransformationFunction': 'Imputer', 'Operator': 'Mean', 'FeatureType': 'Numeric', 'ShouldOutput': True, 'TransformationParams': {'add_indicator': False, 'copy': True, 'fill_value': None, 'missing_values': nan, 'strategy': 'mean', 'verbose': 0}}}</td>\n",
              "    </tr>\n",
              "    <tr>\n",
              "      <th>3</th>\n",
              "      <td>cons.price.idx</td>\n",
              "      <td>Numeric</td>\n",
              "      <td>No</td>\n",
              "      <td>1</td>\n",
              "      <td>[MeanImputer]</td>\n",
              "      <td>{'Transformer1': {'Input': ['cons.price.idx'], 'TransformationFunction': 'Imputer', 'Operator': 'Mean', 'FeatureType': 'Numeric', 'ShouldOutput': True, 'TransformationParams': {'add_indicator': False, 'copy': True, 'fill_value': None, 'missing_values': nan, 'strategy': 'mean', 'verbose': 0}}}</td>\n",
              "    </tr>\n",
              "    <tr>\n",
              "      <th>4</th>\n",
              "      <td>cons.conf.idx</td>\n",
              "      <td>Numeric</td>\n",
              "      <td>No</td>\n",
              "      <td>1</td>\n",
              "      <td>[MeanImputer]</td>\n",
              "      <td>{'Transformer1': {'Input': ['cons.conf.idx'], 'TransformationFunction': 'Imputer', 'Operator': 'Mean', 'FeatureType': 'Numeric', 'ShouldOutput': True, 'TransformationParams': {'add_indicator': False, 'copy': True, 'fill_value': None, 'missing_values': nan, 'strategy': 'mean', 'verbose': 0}}}</td>\n",
              "    </tr>\n",
              "    <tr>\n",
              "      <th>5</th>\n",
              "      <td>euribor3m</td>\n",
              "      <td>Numeric</td>\n",
              "      <td>No</td>\n",
              "      <td>1</td>\n",
              "      <td>[MeanImputer]</td>\n",
              "      <td>{'Transformer1': {'Input': ['euribor3m'], 'TransformationFunction': 'Imputer', 'Operator': 'Mean', 'FeatureType': 'Numeric', 'ShouldOutput': True, 'TransformationParams': {'add_indicator': False, 'copy': True, 'fill_value': None, 'missing_values': nan, 'strategy': 'mean', 'verbose': 0}}}</td>\n",
              "    </tr>\n",
              "    <tr>\n",
              "      <th>6</th>\n",
              "      <td>nr.employed</td>\n",
              "      <td>Numeric</td>\n",
              "      <td>No</td>\n",
              "      <td>1</td>\n",
              "      <td>[MeanImputer]</td>\n",
              "      <td>{'Transformer1': {'Input': ['nr.employed'], 'TransformationFunction': 'Imputer', 'Operator': 'Mean', 'FeatureType': 'Numeric', 'ShouldOutput': True, 'TransformationParams': {'add_indicator': False, 'copy': True, 'fill_value': None, 'missing_values': nan, 'strategy': 'mean', 'verbose': 0}}}</td>\n",
              "    </tr>\n",
              "    <tr>\n",
              "      <th>7</th>\n",
              "      <td>job</td>\n",
              "      <td>Categorical</td>\n",
              "      <td>No</td>\n",
              "      <td>12</td>\n",
              "      <td>[StringCast-CharGramCountVectorizer]</td>\n",
              "      <td>{'Transformer1': {'Input': ['job'], 'TransformationFunction': 'StringCast', 'Operator': None, 'FeatureType': 'Categorical', 'ShouldOutput': False, 'TransformationParams': {}}, 'Transformer2': {'Input': ['Transformer1'], 'TransformationFunction': 'CountVectorizer', 'Operator': 'CharGram', 'FeatureType': None, 'ShouldOutput': True, 'TransformationParams': {'analyzer': 'word', 'binary': True, 'decode_error': 'strict', 'encoding': 'utf-8', 'input': 'content', 'lowercase': False, 'max_df': 1.0, 'max_features': None, 'min_df': 1, 'ngram_range': (1, 1), 'stop_words': None, 'strip_accents': None, 'token_pattern': '(?u)\\b\\w\\w+\\b', 'vocabulary': None}}}</td>\n",
              "    </tr>\n",
              "    <tr>\n",
              "      <th>8</th>\n",
              "      <td>marital</td>\n",
              "      <td>Categorical</td>\n",
              "      <td>No</td>\n",
              "      <td>4</td>\n",
              "      <td>[StringCast-CharGramCountVectorizer]</td>\n",
              "      <td>{'Transformer1': {'Input': ['marital'], 'TransformationFunction': 'StringCast', 'Operator': None, 'FeatureType': 'Categorical', 'ShouldOutput': False, 'TransformationParams': {}}, 'Transformer2': {'Input': ['Transformer1'], 'TransformationFunction': 'CountVectorizer', 'Operator': 'CharGram', 'FeatureType': None, 'ShouldOutput': True, 'TransformationParams': {'analyzer': 'word', 'binary': True, 'decode_error': 'strict', 'encoding': 'utf-8', 'input': 'content', 'lowercase': False, 'max_df': 1.0, 'max_features': None, 'min_df': 1, 'ngram_range': (1, 1), 'stop_words': None, 'strip_accents': None, 'token_pattern': '(?u)\\b\\w\\w+\\b', 'vocabulary': None}}}</td>\n",
              "    </tr>\n",
              "    <tr>\n",
              "      <th>9</th>\n",
              "      <td>education</td>\n",
              "      <td>Categorical</td>\n",
              "      <td>No</td>\n",
              "      <td>8</td>\n",
              "      <td>[StringCast-CharGramCountVectorizer]</td>\n",
              "      <td>{'Transformer1': {'Input': ['education'], 'TransformationFunction': 'StringCast', 'Operator': None, 'FeatureType': 'Categorical', 'ShouldOutput': False, 'TransformationParams': {}}, 'Transformer2': {'Input': ['Transformer1'], 'TransformationFunction': 'CountVectorizer', 'Operator': 'CharGram', 'FeatureType': None, 'ShouldOutput': True, 'TransformationParams': {'analyzer': 'word', 'binary': True, 'decode_error': 'strict', 'encoding': 'utf-8', 'input': 'content', 'lowercase': False, 'max_df': 1.0, 'max_features': None, 'min_df': 1, 'ngram_range': (1, 1), 'stop_words': None, 'strip_accents': None, 'token_pattern': '(?u)\\b\\w\\w+\\b', 'vocabulary': None}}}</td>\n",
              "    </tr>\n",
              "    <tr>\n",
              "      <th>10</th>\n",
              "      <td>default</td>\n",
              "      <td>Categorical</td>\n",
              "      <td>No</td>\n",
              "      <td>3</td>\n",
              "      <td>[StringCast-CharGramCountVectorizer]</td>\n",
              "      <td>{'Transformer1': {'Input': ['default'], 'TransformationFunction': 'StringCast', 'Operator': None, 'FeatureType': 'Categorical', 'ShouldOutput': False, 'TransformationParams': {}}, 'Transformer2': {'Input': ['Transformer1'], 'TransformationFunction': 'CountVectorizer', 'Operator': 'CharGram', 'FeatureType': None, 'ShouldOutput': True, 'TransformationParams': {'analyzer': 'word', 'binary': True, 'decode_error': 'strict', 'encoding': 'utf-8', 'input': 'content', 'lowercase': False, 'max_df': 1.0, 'max_features': None, 'min_df': 1, 'ngram_range': (1, 1), 'stop_words': None, 'strip_accents': None, 'token_pattern': '(?u)\\b\\w\\w+\\b', 'vocabulary': None}}}</td>\n",
              "    </tr>\n",
              "    <tr>\n",
              "      <th>11</th>\n",
              "      <td>housing</td>\n",
              "      <td>Categorical</td>\n",
              "      <td>No</td>\n",
              "      <td>3</td>\n",
              "      <td>[StringCast-CharGramCountVectorizer]</td>\n",
              "      <td>{'Transformer1': {'Input': ['housing'], 'TransformationFunction': 'StringCast', 'Operator': None, 'FeatureType': 'Categorical', 'ShouldOutput': False, 'TransformationParams': {}}, 'Transformer2': {'Input': ['Transformer1'], 'TransformationFunction': 'CountVectorizer', 'Operator': 'CharGram', 'FeatureType': None, 'ShouldOutput': True, 'TransformationParams': {'analyzer': 'word', 'binary': True, 'decode_error': 'strict', 'encoding': 'utf-8', 'input': 'content', 'lowercase': False, 'max_df': 1.0, 'max_features': None, 'min_df': 1, 'ngram_range': (1, 1), 'stop_words': None, 'strip_accents': None, 'token_pattern': '(?u)\\b\\w\\w+\\b', 'vocabulary': None}}}</td>\n",
              "    </tr>\n",
              "    <tr>\n",
              "      <th>12</th>\n",
              "      <td>loan</td>\n",
              "      <td>Categorical</td>\n",
              "      <td>No</td>\n",
              "      <td>3</td>\n",
              "      <td>[StringCast-CharGramCountVectorizer]</td>\n",
              "      <td>{'Transformer1': {'Input': ['loan'], 'TransformationFunction': 'StringCast', 'Operator': None, 'FeatureType': 'Categorical', 'ShouldOutput': False, 'TransformationParams': {}}, 'Transformer2': {'Input': ['Transformer1'], 'TransformationFunction': 'CountVectorizer', 'Operator': 'CharGram', 'FeatureType': None, 'ShouldOutput': True, 'TransformationParams': {'analyzer': 'word', 'binary': True, 'decode_error': 'strict', 'encoding': 'utf-8', 'input': 'content', 'lowercase': False, 'max_df': 1.0, 'max_features': None, 'min_df': 1, 'ngram_range': (1, 1), 'stop_words': None, 'strip_accents': None, 'token_pattern': '(?u)\\b\\w\\w+\\b', 'vocabulary': None}}}</td>\n",
              "    </tr>\n",
              "    <tr>\n",
              "      <th>13</th>\n",
              "      <td>contact</td>\n",
              "      <td>Categorical</td>\n",
              "      <td>No</td>\n",
              "      <td>1</td>\n",
              "      <td>[ModeCatImputer-StringCast-LabelEncoder]</td>\n",
              "      <td>{'Transformer1': {'Input': ['contact'], 'TransformationFunction': 'CatImputer', 'Operator': 'Mode', 'FeatureType': 'Categorical', 'ShouldOutput': True, 'TransformationParams': {'copy': True}}, 'Transformer2': {'Input': ['Transformer1'], 'TransformationFunction': 'StringCast', 'Operator': None, 'FeatureType': None, 'ShouldOutput': False, 'TransformationParams': {}}, 'Transformer3': {'Input': ['Transformer2'], 'TransformationFunction': 'LabelEncoder', 'Operator': None, 'FeatureType': None, 'ShouldOutput': True, 'TransformationParams': {'hashing_seed_val': 314489979}}}</td>\n",
              "    </tr>\n",
              "    <tr>\n",
              "      <th>14</th>\n",
              "      <td>month</td>\n",
              "      <td>Categorical</td>\n",
              "      <td>No</td>\n",
              "      <td>10</td>\n",
              "      <td>[StringCast-CharGramCountVectorizer]</td>\n",
              "      <td>{'Transformer1': {'Input': ['month'], 'TransformationFunction': 'StringCast', 'Operator': None, 'FeatureType': 'Categorical', 'ShouldOutput': False, 'TransformationParams': {}}, 'Transformer2': {'Input': ['Transformer1'], 'TransformationFunction': 'CountVectorizer', 'Operator': 'CharGram', 'FeatureType': None, 'ShouldOutput': True, 'TransformationParams': {'analyzer': 'word', 'binary': True, 'decode_error': 'strict', 'encoding': 'utf-8', 'input': 'content', 'lowercase': False, 'max_df': 1.0, 'max_features': None, 'min_df': 1, 'ngram_range': (1, 1), 'stop_words': None, 'strip_accents': None, 'token_pattern': '(?u)\\b\\w\\w+\\b', 'vocabulary': None}}}</td>\n",
              "    </tr>\n",
              "    <tr>\n",
              "      <th>15</th>\n",
              "      <td>day_of_week</td>\n",
              "      <td>Categorical</td>\n",
              "      <td>No</td>\n",
              "      <td>5</td>\n",
              "      <td>[StringCast-CharGramCountVectorizer]</td>\n",
              "      <td>{'Transformer1': {'Input': ['day_of_week'], 'TransformationFunction': 'StringCast', 'Operator': None, 'FeatureType': 'Categorical', 'ShouldOutput': False, 'TransformationParams': {}}, 'Transformer2': {'Input': ['Transformer1'], 'TransformationFunction': 'CountVectorizer', 'Operator': 'CharGram', 'FeatureType': None, 'ShouldOutput': True, 'TransformationParams': {'analyzer': 'word', 'binary': True, 'decode_error': 'strict', 'encoding': 'utf-8', 'input': 'content', 'lowercase': False, 'max_df': 1.0, 'max_features': None, 'min_df': 1, 'ngram_range': (1, 1), 'stop_words': None, 'strip_accents': None, 'token_pattern': '(?u)\\b\\w\\w+\\b', 'vocabulary': None}}}</td>\n",
              "    </tr>\n",
              "    <tr>\n",
              "      <th>16</th>\n",
              "      <td>campaign</td>\n",
              "      <td>Categorical</td>\n",
              "      <td>No</td>\n",
              "      <td>39</td>\n",
              "      <td>[StringCast-CharGramCountVectorizer]</td>\n",
              "      <td>{'Transformer1': {'Input': ['campaign'], 'TransformationFunction': 'StringCast', 'Operator': None, 'FeatureType': 'Categorical', 'ShouldOutput': False, 'TransformationParams': {}}, 'Transformer2': {'Input': ['Transformer1'], 'TransformationFunction': 'CountVectorizer', 'Operator': 'CharGram', 'FeatureType': None, 'ShouldOutput': True, 'TransformationParams': {'analyzer': 'word', 'binary': True, 'decode_error': 'strict', 'encoding': 'utf-8', 'input': 'content', 'lowercase': False, 'max_df': 1.0, 'max_features': None, 'min_df': 1, 'ngram_range': (1, 1), 'stop_words': None, 'strip_accents': None, 'token_pattern': '(?u)\\b\\w\\w+\\b', 'vocabulary': None}}}</td>\n",
              "    </tr>\n",
              "    <tr>\n",
              "      <th>17</th>\n",
              "      <td>pdays</td>\n",
              "      <td>Categorical</td>\n",
              "      <td>No</td>\n",
              "      <td>26</td>\n",
              "      <td>[StringCast-CharGramCountVectorizer]</td>\n",
              "      <td>{'Transformer1': {'Input': ['pdays'], 'TransformationFunction': 'StringCast', 'Operator': None, 'FeatureType': 'Categorical', 'ShouldOutput': False, 'TransformationParams': {}}, 'Transformer2': {'Input': ['Transformer1'], 'TransformationFunction': 'CountVectorizer', 'Operator': 'CharGram', 'FeatureType': None, 'ShouldOutput': True, 'TransformationParams': {'analyzer': 'word', 'binary': True, 'decode_error': 'strict', 'encoding': 'utf-8', 'input': 'content', 'lowercase': False, 'max_df': 1.0, 'max_features': None, 'min_df': 1, 'ngram_range': (1, 1), 'stop_words': None, 'strip_accents': None, 'token_pattern': '(?u)\\b\\w\\w+\\b', 'vocabulary': None}}}</td>\n",
              "    </tr>\n",
              "    <tr>\n",
              "      <th>18</th>\n",
              "      <td>previous</td>\n",
              "      <td>Categorical</td>\n",
              "      <td>No</td>\n",
              "      <td>8</td>\n",
              "      <td>[StringCast-CharGramCountVectorizer]</td>\n",
              "      <td>{'Transformer1': {'Input': ['previous'], 'TransformationFunction': 'StringCast', 'Operator': None, 'FeatureType': 'Categorical', 'ShouldOutput': False, 'TransformationParams': {}}, 'Transformer2': {'Input': ['Transformer1'], 'TransformationFunction': 'CountVectorizer', 'Operator': 'CharGram', 'FeatureType': None, 'ShouldOutput': True, 'TransformationParams': {'analyzer': 'word', 'binary': True, 'decode_error': 'strict', 'encoding': 'utf-8', 'input': 'content', 'lowercase': False, 'max_df': 1.0, 'max_features': None, 'min_df': 1, 'ngram_range': (1, 1), 'stop_words': None, 'strip_accents': None, 'token_pattern': '(?u)\\b\\w\\w+\\b', 'vocabulary': None}}}</td>\n",
              "    </tr>\n",
              "    <tr>\n",
              "      <th>19</th>\n",
              "      <td>poutcome</td>\n",
              "      <td>Categorical</td>\n",
              "      <td>No</td>\n",
              "      <td>3</td>\n",
              "      <td>[StringCast-CharGramCountVectorizer]</td>\n",
              "      <td>{'Transformer1': {'Input': ['poutcome'], 'TransformationFunction': 'StringCast', 'Operator': None, 'FeatureType': 'Categorical', 'ShouldOutput': False, 'TransformationParams': {}}, 'Transformer2': {'Input': ['Transformer1'], 'TransformationFunction': 'CountVectorizer', 'Operator': 'CharGram', 'FeatureType': None, 'ShouldOutput': True, 'TransformationParams': {'analyzer': 'word', 'binary': True, 'decode_error': 'strict', 'encoding': 'utf-8', 'input': 'content', 'lowercase': False, 'max_df': 1.0, 'max_features': None, 'min_df': 1, 'ngram_range': (1, 1), 'stop_words': None, 'strip_accents': None, 'token_pattern': '(?u)\\b\\w\\w+\\b', 'vocabulary': None}}}</td>\n",
              "    </tr>\n",
              "  </tbody>\n",
              "</table>\n",
              "</div>"
            ]
          },
          "metadata": {},
          "execution_count": 54
        }
      ],
      "metadata": {}
    },
    {
      "cell_type": "code",
      "execution_count": 55,
      "source": [
        "df = custom_featurizer.get_stats_feature_type_summary()\r\n",
        "pd.DataFrame(data=df)"
      ],
      "outputs": [
        {
          "output_type": "execute_result",
          "data": {
            "text/plain": [
              "Empty DataFrame\n",
              "Columns: []\n",
              "Index: []"
            ],
            "text/html": [
              "<div>\n",
              "<style scoped>\n",
              "    .dataframe tbody tr th:only-of-type {\n",
              "        vertical-align: middle;\n",
              "    }\n",
              "\n",
              "    .dataframe tbody tr th {\n",
              "        vertical-align: top;\n",
              "    }\n",
              "\n",
              "    .dataframe thead th {\n",
              "        text-align: right;\n",
              "    }\n",
              "</style>\n",
              "<table border=\"1\" class=\"dataframe\">\n",
              "  <thead>\n",
              "    <tr style=\"text-align: right;\">\n",
              "      <th></th>\n",
              "    </tr>\n",
              "  </thead>\n",
              "  <tbody>\n",
              "  </tbody>\n",
              "</table>\n",
              "</div>"
            ]
          },
          "metadata": {},
          "execution_count": 55
        }
      ],
      "metadata": {}
    },
    {
      "cell_type": "markdown",
      "source": [
        "## Results"
      ],
      "metadata": {}
    },
    {
      "cell_type": "code",
      "execution_count": 56,
      "source": [
        "from azureml.widgets import RunDetails\r\n",
        "RunDetails(remote_run).show() "
      ],
      "outputs": [
        {
          "output_type": "display_data",
          "data": {
            "text/plain": [
              "_AutoMLWidget(widget_settings={'childWidgetDisplay': 'popup', 'send_telemetry': False, 'log_level': 'INFO', 's…"
            ],
            "application/vnd.jupyter.widget-view+json": {
              "version_major": 2,
              "version_minor": 0,
              "model_id": "2afd7e44a59049c5b9158a3b00939d72"
            }
          },
          "metadata": {}
        },
        {
          "output_type": "display_data",
          "data": {
            "application/aml.mini.widget.v1": "{\"status\": \"Completed\", \"workbench_run_details_uri\": \"https://ml.azure.com/runs/AutoML_56941284-2658-46cd-9230-e0592db0fcef?wsid=/subscriptions/1bab3e78-2764-4555-845d-297f7a7ca7c0/resourcegroups/aml/workspaces/amlwsea&tid=72f988bf-86f1-41af-91ab-2d7cd011db47\", \"run_id\": \"AutoML_56941284-2658-46cd-9230-e0592db0fcef\", \"run_properties\": {\"run_id\": \"AutoML_56941284-2658-46cd-9230-e0592db0fcef\", \"created_utc\": \"2021-08-02T21:53:55.06331Z\", \"properties\": {\"num_iterations\": \"1000\", \"training_type\": \"TrainFull\", \"acquisition_function\": \"EI\", \"primary_metric\": \"AUC_weighted\", \"train_split\": \"0\", \"acquisition_parameter\": \"0\", \"num_cross_validation\": null, \"target\": \"zhzhen1\", \"AMLSettingsJsonString\": \"{\\\"path\\\":null,\\\"name\\\":\\\"automl-classification-bmarketing-all\\\",\\\"subscription_id\\\":\\\"1bab3e78-2764-4555-845d-297f7a7ca7c0\\\",\\\"resource_group\\\":\\\"aml\\\",\\\"workspace_name\\\":\\\"amlwsea\\\",\\\"region\\\":\\\"eastasia\\\",\\\"compute_target\\\":\\\"zhzhen1\\\",\\\"spark_service\\\":null,\\\"azure_service\\\":\\\"remote\\\",\\\"_local_managed_run_id\\\":null,\\\"many_models\\\":false,\\\"pipeline_fetch_max_batch_size\\\":1,\\\"iterations\\\":1000,\\\"primary_metric\\\":\\\"AUC_weighted\\\",\\\"task_type\\\":\\\"classification\\\",\\\"data_script\\\":null,\\\"validation_size\\\":0.0,\\\"n_cross_validations\\\":null,\\\"y_min\\\":null,\\\"y_max\\\":null,\\\"num_classes\\\":null,\\\"featurization\\\":\\\"auto\\\",\\\"_ignore_package_version_incompatibilities\\\":false,\\\"is_timeseries\\\":false,\\\"max_cores_per_iteration\\\":-1,\\\"max_concurrent_iterations\\\":4,\\\"iteration_timeout_minutes\\\":5,\\\"mem_in_mb\\\":null,\\\"enforce_time_on_windows\\\":false,\\\"experiment_timeout_minutes\\\":18,\\\"experiment_exit_score\\\":0.9984,\\\"whitelist_models\\\":null,\\\"blacklist_algos\\\":[\\\"KNN\\\",\\\"LinearSVM\\\",\\\"TensorFlowLinearClassifier\\\",\\\"TensorFlowDNN\\\"],\\\"supported_models\\\":[\\\"TensorFlowDNN\\\",\\\"MultinomialNaiveBayes\\\",\\\"DecisionTree\\\",\\\"RandomForest\\\",\\\"BernoulliNaiveBayes\\\",\\\"ExtremeRandomTrees\\\",\\\"KNN\\\",\\\"SVM\\\",\\\"XGBoostClassifier\\\",\\\"SGD\\\",\\\"GradientBoosting\\\",\\\"TensorFlowLinearClassifier\\\",\\\"LinearSVM\\\",\\\"AveragedPerceptronClassifier\\\",\\\"LogisticRegression\\\",\\\"LightGBM\\\"],\\\"auto_blacklist\\\":true,\\\"blacklist_samples_reached\\\":false,\\\"exclude_nan_labels\\\":true,\\\"verbosity\\\":20,\\\"_debug_log\\\":\\\"azureml_automl.log\\\",\\\"show_warnings\\\":false,\\\"model_explainability\\\":true,\\\"service_url\\\":null,\\\"sdk_url\\\":null,\\\"sdk_packages\\\":null,\\\"enable_onnx_compatible_models\\\":true,\\\"enable_split_onnx_featurizer_estimator_models\\\":false,\\\"vm_type\\\":\\\"STANDARD_DS3_V2\\\",\\\"telemetry_verbosity\\\":20,\\\"send_telemetry\\\":true,\\\"enable_dnn\\\":false,\\\"scenario\\\":\\\"SDK-1.13.0\\\",\\\"environment_label\\\":null,\\\"force_text_dnn\\\":false,\\\"enable_feature_sweeping\\\":false,\\\"enable_early_stopping\\\":true,\\\"early_stopping_n_iters\\\":10,\\\"metrics\\\":null,\\\"enable_ensembling\\\":true,\\\"enable_stack_ensembling\\\":false,\\\"ensemble_iterations\\\":15,\\\"enable_tf\\\":false,\\\"enable_subsampling\\\":null,\\\"subsample_seed\\\":null,\\\"enable_nimbusml\\\":false,\\\"enable_streaming\\\":false,\\\"force_streaming\\\":false,\\\"track_child_runs\\\":true,\\\"allowed_private_models\\\":[],\\\"label_column_name\\\":\\\"y\\\",\\\"weight_column_name\\\":null,\\\"cv_split_column_names\\\":null,\\\"enable_local_managed\\\":false,\\\"cost_mode\\\":1,\\\"lag_length\\\":0,\\\"metric_operation\\\":\\\"maximize\\\",\\\"preprocess\\\":true}\", \"DataPrepJsonString\": \"{\\\\\\\"training_data\\\\\\\": \\\\\\\"{\\\\\\\\\\\\\\\"blocks\\\\\\\\\\\\\\\": [{\\\\\\\\\\\\\\\"id\\\\\\\\\\\\\\\": \\\\\\\\\\\\\\\"8cdcbd42-4fb5-4478-a7d7-d9175e20cc5d\\\\\\\\\\\\\\\", \\\\\\\\\\\\\\\"type\\\\\\\\\\\\\\\": \\\\\\\\\\\\\\\"Microsoft.DPrep.GetDatastoreFilesBlock\\\\\\\\\\\\\\\", \\\\\\\\\\\\\\\"arguments\\\\\\\\\\\\\\\": {\\\\\\\\\\\\\\\"datastores\\\\\\\\\\\\\\\": [{\\\\\\\\\\\\\\\"datastoreName\\\\\\\\\\\\\\\": \\\\\\\\\\\\\\\"workspaceblobstore\\\\\\\\\\\\\\\", \\\\\\\\\\\\\\\"path\\\\\\\\\\\\\\\": \\\\\\\\\\\\\\\"bankmarketing/train_data.csv\\\\\\\\\\\\\\\", \\\\\\\\\\\\\\\"resourceGroup\\\\\\\\\\\\\\\": \\\\\\\\\\\\\\\"aml\\\\\\\\\\\\\\\", \\\\\\\\\\\\\\\"subscription\\\\\\\\\\\\\\\": \\\\\\\\\\\\\\\"1bab3e78-2764-4555-845d-297f7a7ca7c0\\\\\\\\\\\\\\\", \\\\\\\\\\\\\\\"workspaceName\\\\\\\\\\\\\\\": \\\\\\\\\\\\\\\"amlwsea\\\\\\\\\\\\\\\"}]}, \\\\\\\\\\\\\\\"localData\\\\\\\\\\\\\\\": {}, \\\\\\\\\\\\\\\"isEnabled\\\\\\\\\\\\\\\": true, \\\\\\\\\\\\\\\"name\\\\\\\\\\\\\\\": null, \\\\\\\\\\\\\\\"annotation\\\\\\\\\\\\\\\": null}, {\\\\\\\\\\\\\\\"id\\\\\\\\\\\\\\\": \\\\\\\\\\\\\\\"5466354a-de30-4dea-91e5-ebd0a0988155\\\\\\\\\\\\\\\", \\\\\\\\\\\\\\\"type\\\\\\\\\\\\\\\": \\\\\\\\\\\\\\\"Microsoft.DPrep.ParseDelimitedBlock\\\\\\\\\\\\\\\", \\\\\\\\\\\\\\\"arguments\\\\\\\\\\\\\\\": {\\\\\\\\\\\\\\\"columnHeadersMode\\\\\\\\\\\\\\\": 3, \\\\\\\\\\\\\\\"fileEncoding\\\\\\\\\\\\\\\": 0, \\\\\\\\\\\\\\\"handleQuotedLineBreaks\\\\\\\\\\\\\\\": false, \\\\\\\\\\\\\\\"preview\\\\\\\\\\\\\\\": false, \\\\\\\\\\\\\\\"separator\\\\\\\\\\\\\\\": \\\\\\\\\\\\\\\",\\\\\\\\\\\\\\\", \\\\\\\\\\\\\\\"skipRows\\\\\\\\\\\\\\\": 0, \\\\\\\\\\\\\\\"skipRowsMode\\\\\\\\\\\\\\\": 0}, \\\\\\\\\\\\\\\"localData\\\\\\\\\\\\\\\": {}, \\\\\\\\\\\\\\\"isEnabled\\\\\\\\\\\\\\\": true, \\\\\\\\\\\\\\\"name\\\\\\\\\\\\\\\": null, \\\\\\\\\\\\\\\"annotation\\\\\\\\\\\\\\\": null}, {\\\\\\\\\\\\\\\"id\\\\\\\\\\\\\\\": \\\\\\\\\\\\\\\"037edab8-c4de-4517-abbb-bee5fe273906\\\\\\\\\\\\\\\", \\\\\\\\\\\\\\\"type\\\\\\\\\\\\\\\": \\\\\\\\\\\\\\\"Microsoft.DPrep.DropColumnsBlock\\\\\\\\\\\\\\\", \\\\\\\\\\\\\\\"arguments\\\\\\\\\\\\\\\": {\\\\\\\\\\\\\\\"columns\\\\\\\\\\\\\\\": {\\\\\\\\\\\\\\\"type\\\\\\\\\\\\\\\": 0, \\\\\\\\\\\\\\\"details\\\\\\\\\\\\\\\": {\\\\\\\\\\\\\\\"selectedColumns\\\\\\\\\\\\\\\": [\\\\\\\\\\\\\\\"Path\\\\\\\\\\\\\\\"]}}}, \\\\\\\\\\\\\\\"localData\\\\\\\\\\\\\\\": {}, \\\\\\\\\\\\\\\"isEnabled\\\\\\\\\\\\\\\": true, \\\\\\\\\\\\\\\"name\\\\\\\\\\\\\\\": null, \\\\\\\\\\\\\\\"annotation\\\\\\\\\\\\\\\": null}, {\\\\\\\\\\\\\\\"id\\\\\\\\\\\\\\\": \\\\\\\\\\\\\\\"59cb86e3-801a-4494-a4d0-5ec78854d857\\\\\\\\\\\\\\\", \\\\\\\\\\\\\\\"type\\\\\\\\\\\\\\\": \\\\\\\\\\\\\\\"Microsoft.DPrep.SetColumnTypesBlock\\\\\\\\\\\\\\\", \\\\\\\\\\\\\\\"arguments\\\\\\\\\\\\\\\": {\\\\\\\\\\\\\\\"columnConversion\\\\\\\\\\\\\\\": [{\\\\\\\\\\\\\\\"column\\\\\\\\\\\\\\\": {\\\\\\\\\\\\\\\"type\\\\\\\\\\\\\\\": 2, \\\\\\\\\\\\\\\"details\\\\\\\\\\\\\\\": {\\\\\\\\\\\\\\\"selectedColumn\\\\\\\\\\\\\\\": \\\\\\\\\\\\\\\"age\\\\\\\\\\\\\\\"}}, \\\\\\\\\\\\\\\"typeProperty\\\\\\\\\\\\\\\": 2}, {\\\\\\\\\\\\\\\"column\\\\\\\\\\\\\\\": {\\\\\\\\\\\\\\\"type\\\\\\\\\\\\\\\": 2, \\\\\\\\\\\\\\\"details\\\\\\\\\\\\\\\": {\\\\\\\\\\\\\\\"selectedColumn\\\\\\\\\\\\\\\": \\\\\\\\\\\\\\\"job\\\\\\\\\\\\\\\"}}, \\\\\\\\\\\\\\\"typeProperty\\\\\\\\\\\\\\\": 0}, {\\\\\\\\\\\\\\\"column\\\\\\\\\\\\\\\": {\\\\\\\\\\\\\\\"type\\\\\\\\\\\\\\\": 2, \\\\\\\\\\\\\\\"details\\\\\\\\\\\\\\\": {\\\\\\\\\\\\\\\"selectedColumn\\\\\\\\\\\\\\\": \\\\\\\\\\\\\\\"marital\\\\\\\\\\\\\\\"}}, \\\\\\\\\\\\\\\"typeProperty\\\\\\\\\\\\\\\": 0}, {\\\\\\\\\\\\\\\"column\\\\\\\\\\\\\\\": {\\\\\\\\\\\\\\\"type\\\\\\\\\\\\\\\": 2, \\\\\\\\\\\\\\\"details\\\\\\\\\\\\\\\": {\\\\\\\\\\\\\\\"selectedColumn\\\\\\\\\\\\\\\": \\\\\\\\\\\\\\\"education\\\\\\\\\\\\\\\"}}, \\\\\\\\\\\\\\\"typeProperty\\\\\\\\\\\\\\\": 0}, {\\\\\\\\\\\\\\\"column\\\\\\\\\\\\\\\": {\\\\\\\\\\\\\\\"type\\\\\\\\\\\\\\\": 2, \\\\\\\\\\\\\\\"details\\\\\\\\\\\\\\\": {\\\\\\\\\\\\\\\"selectedColumn\\\\\\\\\\\\\\\": \\\\\\\\\\\\\\\"default\\\\\\\\\\\\\\\"}}, \\\\\\\\\\\\\\\"typeProperty\\\\\\\\\\\\\\\": 0}, {\\\\\\\\\\\\\\\"column\\\\\\\\\\\\\\\": {\\\\\\\\\\\\\\\"type\\\\\\\\\\\\\\\": 2, \\\\\\\\\\\\\\\"details\\\\\\\\\\\\\\\": {\\\\\\\\\\\\\\\"selectedColumn\\\\\\\\\\\\\\\": \\\\\\\\\\\\\\\"housing\\\\\\\\\\\\\\\"}}, \\\\\\\\\\\\\\\"typeProperty\\\\\\\\\\\\\\\": 0}, {\\\\\\\\\\\\\\\"column\\\\\\\\\\\\\\\": {\\\\\\\\\\\\\\\"type\\\\\\\\\\\\\\\": 2, \\\\\\\\\\\\\\\"details\\\\\\\\\\\\\\\": {\\\\\\\\\\\\\\\"selectedColumn\\\\\\\\\\\\\\\": \\\\\\\\\\\\\\\"loan\\\\\\\\\\\\\\\"}}, \\\\\\\\\\\\\\\"typeProperty\\\\\\\\\\\\\\\": 0}, {\\\\\\\\\\\\\\\"column\\\\\\\\\\\\\\\": {\\\\\\\\\\\\\\\"type\\\\\\\\\\\\\\\": 2, \\\\\\\\\\\\\\\"details\\\\\\\\\\\\\\\": {\\\\\\\\\\\\\\\"selectedColumn\\\\\\\\\\\\\\\": \\\\\\\\\\\\\\\"contact\\\\\\\\\\\\\\\"}}, \\\\\\\\\\\\\\\"typeProperty\\\\\\\\\\\\\\\": 0}, {\\\\\\\\\\\\\\\"column\\\\\\\\\\\\\\\": {\\\\\\\\\\\\\\\"type\\\\\\\\\\\\\\\": 2, \\\\\\\\\\\\\\\"details\\\\\\\\\\\\\\\": {\\\\\\\\\\\\\\\"selectedColumn\\\\\\\\\\\\\\\": \\\\\\\\\\\\\\\"month\\\\\\\\\\\\\\\"}}, \\\\\\\\\\\\\\\"typeProperty\\\\\\\\\\\\\\\": 0}, {\\\\\\\\\\\\\\\"column\\\\\\\\\\\\\\\": {\\\\\\\\\\\\\\\"type\\\\\\\\\\\\\\\": 2, \\\\\\\\\\\\\\\"details\\\\\\\\\\\\\\\": {\\\\\\\\\\\\\\\"selectedColumn\\\\\\\\\\\\\\\": \\\\\\\\\\\\\\\"day_of_week\\\\\\\\\\\\\\\"}}, \\\\\\\\\\\\\\\"typeProperty\\\\\\\\\\\\\\\": 0}, {\\\\\\\\\\\\\\\"column\\\\\\\\\\\\\\\": {\\\\\\\\\\\\\\\"type\\\\\\\\\\\\\\\": 2, \\\\\\\\\\\\\\\"details\\\\\\\\\\\\\\\": {\\\\\\\\\\\\\\\"selectedColumn\\\\\\\\\\\\\\\": \\\\\\\\\\\\\\\"duration\\\\\\\\\\\\\\\"}}, \\\\\\\\\\\\\\\"typeProperty\\\\\\\\\\\\\\\": 2}, {\\\\\\\\\\\\\\\"column\\\\\\\\\\\\\\\": {\\\\\\\\\\\\\\\"type\\\\\\\\\\\\\\\": 2, \\\\\\\\\\\\\\\"details\\\\\\\\\\\\\\\": {\\\\\\\\\\\\\\\"selectedColumn\\\\\\\\\\\\\\\": \\\\\\\\\\\\\\\"campaign\\\\\\\\\\\\\\\"}}, \\\\\\\\\\\\\\\"typeProperty\\\\\\\\\\\\\\\": 2}, {\\\\\\\\\\\\\\\"column\\\\\\\\\\\\\\\": {\\\\\\\\\\\\\\\"type\\\\\\\\\\\\\\\": 2, \\\\\\\\\\\\\\\"details\\\\\\\\\\\\\\\": {\\\\\\\\\\\\\\\"selectedColumn\\\\\\\\\\\\\\\": \\\\\\\\\\\\\\\"pdays\\\\\\\\\\\\\\\"}}, \\\\\\\\\\\\\\\"typeProperty\\\\\\\\\\\\\\\": 2}, {\\\\\\\\\\\\\\\"column\\\\\\\\\\\\\\\": {\\\\\\\\\\\\\\\"type\\\\\\\\\\\\\\\": 2, \\\\\\\\\\\\\\\"details\\\\\\\\\\\\\\\": {\\\\\\\\\\\\\\\"selectedColumn\\\\\\\\\\\\\\\": \\\\\\\\\\\\\\\"previous\\\\\\\\\\\\\\\"}}, \\\\\\\\\\\\\\\"typeProperty\\\\\\\\\\\\\\\": 2}, {\\\\\\\\\\\\\\\"column\\\\\\\\\\\\\\\": {\\\\\\\\\\\\\\\"type\\\\\\\\\\\\\\\": 2, \\\\\\\\\\\\\\\"details\\\\\\\\\\\\\\\": {\\\\\\\\\\\\\\\"selectedColumn\\\\\\\\\\\\\\\": \\\\\\\\\\\\\\\"poutcome\\\\\\\\\\\\\\\"}}, \\\\\\\\\\\\\\\"typeProperty\\\\\\\\\\\\\\\": 0}, {\\\\\\\\\\\\\\\"column\\\\\\\\\\\\\\\": {\\\\\\\\\\\\\\\"type\\\\\\\\\\\\\\\": 2, \\\\\\\\\\\\\\\"details\\\\\\\\\\\\\\\": {\\\\\\\\\\\\\\\"selectedColumn\\\\\\\\\\\\\\\": \\\\\\\\\\\\\\\"emp.var.rate\\\\\\\\\\\\\\\"}}, \\\\\\\\\\\\\\\"typeProperty\\\\\\\\\\\\\\\": 3}, {\\\\\\\\\\\\\\\"column\\\\\\\\\\\\\\\": {\\\\\\\\\\\\\\\"type\\\\\\\\\\\\\\\": 2, \\\\\\\\\\\\\\\"details\\\\\\\\\\\\\\\": {\\\\\\\\\\\\\\\"selectedColumn\\\\\\\\\\\\\\\": \\\\\\\\\\\\\\\"cons.price.idx\\\\\\\\\\\\\\\"}}, \\\\\\\\\\\\\\\"typeProperty\\\\\\\\\\\\\\\": 3}, {\\\\\\\\\\\\\\\"column\\\\\\\\\\\\\\\": {\\\\\\\\\\\\\\\"type\\\\\\\\\\\\\\\": 2, \\\\\\\\\\\\\\\"details\\\\\\\\\\\\\\\": {\\\\\\\\\\\\\\\"selectedColumn\\\\\\\\\\\\\\\": \\\\\\\\\\\\\\\"cons.conf.idx\\\\\\\\\\\\\\\"}}, \\\\\\\\\\\\\\\"typeProperty\\\\\\\\\\\\\\\": 3}, {\\\\\\\\\\\\\\\"column\\\\\\\\\\\\\\\": {\\\\\\\\\\\\\\\"type\\\\\\\\\\\\\\\": 2, \\\\\\\\\\\\\\\"details\\\\\\\\\\\\\\\": {\\\\\\\\\\\\\\\"selectedColumn\\\\\\\\\\\\\\\": \\\\\\\\\\\\\\\"euribor3m\\\\\\\\\\\\\\\"}}, \\\\\\\\\\\\\\\"typeProperty\\\\\\\\\\\\\\\": 3}, {\\\\\\\\\\\\\\\"column\\\\\\\\\\\\\\\": {\\\\\\\\\\\\\\\"type\\\\\\\\\\\\\\\": 2, \\\\\\\\\\\\\\\"details\\\\\\\\\\\\\\\": {\\\\\\\\\\\\\\\"selectedColumn\\\\\\\\\\\\\\\": \\\\\\\\\\\\\\\"nr.employed\\\\\\\\\\\\\\\"}}, \\\\\\\\\\\\\\\"typeProperty\\\\\\\\\\\\\\\": 3}, {\\\\\\\\\\\\\\\"column\\\\\\\\\\\\\\\": {\\\\\\\\\\\\\\\"type\\\\\\\\\\\\\\\": 2, \\\\\\\\\\\\\\\"details\\\\\\\\\\\\\\\": {\\\\\\\\\\\\\\\"selectedColumn\\\\\\\\\\\\\\\": \\\\\\\\\\\\\\\"y\\\\\\\\\\\\\\\"}}, \\\\\\\\\\\\\\\"typeProperty\\\\\\\\\\\\\\\": 0}]}, \\\\\\\\\\\\\\\"localData\\\\\\\\\\\\\\\": {}, \\\\\\\\\\\\\\\"isEnabled\\\\\\\\\\\\\\\": true, \\\\\\\\\\\\\\\"name\\\\\\\\\\\\\\\": null, \\\\\\\\\\\\\\\"annotation\\\\\\\\\\\\\\\": null}], \\\\\\\\\\\\\\\"inspectors\\\\\\\\\\\\\\\": [], \\\\\\\\\\\\\\\"meta\\\\\\\\\\\\\\\": {\\\\\\\\\\\\\\\"savedDatasetId\\\\\\\\\\\\\\\": \\\\\\\\\\\\\\\"12e6a082-1d3c-456c-90d4-95649ab28118\\\\\\\\\\\\\\\", \\\\\\\\\\\\\\\"datasetType\\\\\\\\\\\\\\\": \\\\\\\\\\\\\\\"tabular\\\\\\\\\\\\\\\", \\\\\\\\\\\\\\\"subscriptionId\\\\\\\\\\\\\\\": \\\\\\\\\\\\\\\"1bab3e78-2764-4555-845d-297f7a7ca7c0\\\\\\\\\\\\\\\", \\\\\\\\\\\\\\\"workspaceId\\\\\\\\\\\\\\\": \\\\\\\\\\\\\\\"4a44134e-f273-4a39-9009-9efc4996b9f2\\\\\\\\\\\\\\\", \\\\\\\\\\\\\\\"workspaceLocation\\\\\\\\\\\\\\\": \\\\\\\\\\\\\\\"eastasia\\\\\\\\\\\\\\\", \\\\\\\\\\\\\\\"partition_keys\\\\\\\\\\\\\\\": \\\\\\\\\\\\\\\"true\\\\\\\\\\\\\\\"}}\\\\\\\", \\\\\\\"validation_data\\\\\\\": \\\\\\\"{\\\\\\\\\\\\\\\"blocks\\\\\\\\\\\\\\\": [{\\\\\\\\\\\\\\\"id\\\\\\\\\\\\\\\": \\\\\\\\\\\\\\\"799ce523-7895-44b6-afa8-3c2083124554\\\\\\\\\\\\\\\", \\\\\\\\\\\\\\\"type\\\\\\\\\\\\\\\": \\\\\\\\\\\\\\\"Microsoft.DPrep.GetFilesBlock\\\\\\\\\\\\\\\", \\\\\\\\\\\\\\\"arguments\\\\\\\\\\\\\\\": {\\\\\\\\\\\\\\\"isArchive\\\\\\\\\\\\\\\": false, \\\\\\\\\\\\\\\"path\\\\\\\\\\\\\\\": {\\\\\\\\\\\\\\\"target\\\\\\\\\\\\\\\": 1, \\\\\\\\\\\\\\\"resourceDetails\\\\\\\\\\\\\\\": [{\\\\\\\\\\\\\\\"path\\\\\\\\\\\\\\\": \\\\\\\\\\\\\\\"https://automlsamplenotebookdata.blob.core.windows.net/automl-sample-notebook-data/bankmarketing_validate.csv\\\\\\\\\\\\\\\", \\\\\\\\\\\\\\\"sas\\\\\\\\\\\\\\\": null, \\\\\\\\\\\\\\\"storageAccountName\\\\\\\\\\\\\\\": null, \\\\\\\\\\\\\\\"storageAccountKey\\\\\\\\\\\\\\\": null}]}}, \\\\\\\\\\\\\\\"localData\\\\\\\\\\\\\\\": {}, \\\\\\\\\\\\\\\"isEnabled\\\\\\\\\\\\\\\": true, \\\\\\\\\\\\\\\"name\\\\\\\\\\\\\\\": null, \\\\\\\\\\\\\\\"annotation\\\\\\\\\\\\\\\": null}, {\\\\\\\\\\\\\\\"id\\\\\\\\\\\\\\\": \\\\\\\\\\\\\\\"e49b5de3-a13e-46f7-b422-2fce36796d0a\\\\\\\\\\\\\\\", \\\\\\\\\\\\\\\"type\\\\\\\\\\\\\\\": \\\\\\\\\\\\\\\"Microsoft.DPrep.ParseDelimitedBlock\\\\\\\\\\\\\\\", \\\\\\\\\\\\\\\"arguments\\\\\\\\\\\\\\\": {\\\\\\\\\\\\\\\"columnHeadersMode\\\\\\\\\\\\\\\": 3, \\\\\\\\\\\\\\\"fileEncoding\\\\\\\\\\\\\\\": 0, \\\\\\\\\\\\\\\"handleQuotedLineBreaks\\\\\\\\\\\\\\\": false, \\\\\\\\\\\\\\\"preview\\\\\\\\\\\\\\\": false, \\\\\\\\\\\\\\\"separator\\\\\\\\\\\\\\\": \\\\\\\\\\\\\\\",\\\\\\\\\\\\\\\", \\\\\\\\\\\\\\\"skipRows\\\\\\\\\\\\\\\": 0, \\\\\\\\\\\\\\\"skipRowsMode\\\\\\\\\\\\\\\": 0}, \\\\\\\\\\\\\\\"localData\\\\\\\\\\\\\\\": {}, \\\\\\\\\\\\\\\"isEnabled\\\\\\\\\\\\\\\": true, \\\\\\\\\\\\\\\"name\\\\\\\\\\\\\\\": null, \\\\\\\\\\\\\\\"annotation\\\\\\\\\\\\\\\": null}, {\\\\\\\\\\\\\\\"id\\\\\\\\\\\\\\\": \\\\\\\\\\\\\\\"3d4da8bf-fae2-4250-b5af-256309ded2c0\\\\\\\\\\\\\\\", \\\\\\\\\\\\\\\"type\\\\\\\\\\\\\\\": \\\\\\\\\\\\\\\"Microsoft.DPrep.DropColumnsBlock\\\\\\\\\\\\\\\", \\\\\\\\\\\\\\\"arguments\\\\\\\\\\\\\\\": {\\\\\\\\\\\\\\\"columns\\\\\\\\\\\\\\\": {\\\\\\\\\\\\\\\"type\\\\\\\\\\\\\\\": 0, \\\\\\\\\\\\\\\"details\\\\\\\\\\\\\\\": {\\\\\\\\\\\\\\\"selectedColumns\\\\\\\\\\\\\\\": [\\\\\\\\\\\\\\\"Path\\\\\\\\\\\\\\\"]}}}, \\\\\\\\\\\\\\\"localData\\\\\\\\\\\\\\\": {}, \\\\\\\\\\\\\\\"isEnabled\\\\\\\\\\\\\\\": true, \\\\\\\\\\\\\\\"name\\\\\\\\\\\\\\\": null, \\\\\\\\\\\\\\\"annotation\\\\\\\\\\\\\\\": null}, {\\\\\\\\\\\\\\\"id\\\\\\\\\\\\\\\": \\\\\\\\\\\\\\\"1f712ee4-ff61-4c17-8076-b5582a1400b8\\\\\\\\\\\\\\\", \\\\\\\\\\\\\\\"type\\\\\\\\\\\\\\\": \\\\\\\\\\\\\\\"Microsoft.DPrep.SetColumnTypesBlock\\\\\\\\\\\\\\\", \\\\\\\\\\\\\\\"arguments\\\\\\\\\\\\\\\": {\\\\\\\\\\\\\\\"columnConversion\\\\\\\\\\\\\\\": [{\\\\\\\\\\\\\\\"column\\\\\\\\\\\\\\\": {\\\\\\\\\\\\\\\"type\\\\\\\\\\\\\\\": 2, \\\\\\\\\\\\\\\"details\\\\\\\\\\\\\\\": {\\\\\\\\\\\\\\\"selectedColumn\\\\\\\\\\\\\\\": \\\\\\\\\\\\\\\"age\\\\\\\\\\\\\\\"}}, \\\\\\\\\\\\\\\"typeProperty\\\\\\\\\\\\\\\": 2}, {\\\\\\\\\\\\\\\"column\\\\\\\\\\\\\\\": {\\\\\\\\\\\\\\\"type\\\\\\\\\\\\\\\": 2, \\\\\\\\\\\\\\\"details\\\\\\\\\\\\\\\": {\\\\\\\\\\\\\\\"selectedColumn\\\\\\\\\\\\\\\": \\\\\\\\\\\\\\\"job\\\\\\\\\\\\\\\"}}, \\\\\\\\\\\\\\\"typeProperty\\\\\\\\\\\\\\\": 0}, {\\\\\\\\\\\\\\\"column\\\\\\\\\\\\\\\": {\\\\\\\\\\\\\\\"type\\\\\\\\\\\\\\\": 2, \\\\\\\\\\\\\\\"details\\\\\\\\\\\\\\\": {\\\\\\\\\\\\\\\"selectedColumn\\\\\\\\\\\\\\\": \\\\\\\\\\\\\\\"marital\\\\\\\\\\\\\\\"}}, \\\\\\\\\\\\\\\"typeProperty\\\\\\\\\\\\\\\": 0}, {\\\\\\\\\\\\\\\"column\\\\\\\\\\\\\\\": {\\\\\\\\\\\\\\\"type\\\\\\\\\\\\\\\": 2, \\\\\\\\\\\\\\\"details\\\\\\\\\\\\\\\": {\\\\\\\\\\\\\\\"selectedColumn\\\\\\\\\\\\\\\": \\\\\\\\\\\\\\\"education\\\\\\\\\\\\\\\"}}, \\\\\\\\\\\\\\\"typeProperty\\\\\\\\\\\\\\\": 0}, {\\\\\\\\\\\\\\\"column\\\\\\\\\\\\\\\": {\\\\\\\\\\\\\\\"type\\\\\\\\\\\\\\\": 2, \\\\\\\\\\\\\\\"details\\\\\\\\\\\\\\\": {\\\\\\\\\\\\\\\"selectedColumn\\\\\\\\\\\\\\\": \\\\\\\\\\\\\\\"default\\\\\\\\\\\\\\\"}}, \\\\\\\\\\\\\\\"typeProperty\\\\\\\\\\\\\\\": 0}, {\\\\\\\\\\\\\\\"column\\\\\\\\\\\\\\\": {\\\\\\\\\\\\\\\"type\\\\\\\\\\\\\\\": 2, \\\\\\\\\\\\\\\"details\\\\\\\\\\\\\\\": {\\\\\\\\\\\\\\\"selectedColumn\\\\\\\\\\\\\\\": \\\\\\\\\\\\\\\"housing\\\\\\\\\\\\\\\"}}, \\\\\\\\\\\\\\\"typeProperty\\\\\\\\\\\\\\\": 0}, {\\\\\\\\\\\\\\\"column\\\\\\\\\\\\\\\": {\\\\\\\\\\\\\\\"type\\\\\\\\\\\\\\\": 2, \\\\\\\\\\\\\\\"details\\\\\\\\\\\\\\\": {\\\\\\\\\\\\\\\"selectedColumn\\\\\\\\\\\\\\\": \\\\\\\\\\\\\\\"loan\\\\\\\\\\\\\\\"}}, \\\\\\\\\\\\\\\"typeProperty\\\\\\\\\\\\\\\": 0}, {\\\\\\\\\\\\\\\"column\\\\\\\\\\\\\\\": {\\\\\\\\\\\\\\\"type\\\\\\\\\\\\\\\": 2, \\\\\\\\\\\\\\\"details\\\\\\\\\\\\\\\": {\\\\\\\\\\\\\\\"selectedColumn\\\\\\\\\\\\\\\": \\\\\\\\\\\\\\\"contact\\\\\\\\\\\\\\\"}}, \\\\\\\\\\\\\\\"typeProperty\\\\\\\\\\\\\\\": 0}, {\\\\\\\\\\\\\\\"column\\\\\\\\\\\\\\\": {\\\\\\\\\\\\\\\"type\\\\\\\\\\\\\\\": 2, \\\\\\\\\\\\\\\"details\\\\\\\\\\\\\\\": {\\\\\\\\\\\\\\\"selectedColumn\\\\\\\\\\\\\\\": \\\\\\\\\\\\\\\"month\\\\\\\\\\\\\\\"}}, \\\\\\\\\\\\\\\"typeProperty\\\\\\\\\\\\\\\": 0}, {\\\\\\\\\\\\\\\"column\\\\\\\\\\\\\\\": {\\\\\\\\\\\\\\\"type\\\\\\\\\\\\\\\": 2, \\\\\\\\\\\\\\\"details\\\\\\\\\\\\\\\": {\\\\\\\\\\\\\\\"selectedColumn\\\\\\\\\\\\\\\": \\\\\\\\\\\\\\\"day_of_week\\\\\\\\\\\\\\\"}}, \\\\\\\\\\\\\\\"typeProperty\\\\\\\\\\\\\\\": 0}, {\\\\\\\\\\\\\\\"column\\\\\\\\\\\\\\\": {\\\\\\\\\\\\\\\"type\\\\\\\\\\\\\\\": 2, \\\\\\\\\\\\\\\"details\\\\\\\\\\\\\\\": {\\\\\\\\\\\\\\\"selectedColumn\\\\\\\\\\\\\\\": \\\\\\\\\\\\\\\"duration\\\\\\\\\\\\\\\"}}, \\\\\\\\\\\\\\\"typeProperty\\\\\\\\\\\\\\\": 2}, {\\\\\\\\\\\\\\\"column\\\\\\\\\\\\\\\": {\\\\\\\\\\\\\\\"type\\\\\\\\\\\\\\\": 2, \\\\\\\\\\\\\\\"details\\\\\\\\\\\\\\\": {\\\\\\\\\\\\\\\"selectedColumn\\\\\\\\\\\\\\\": \\\\\\\\\\\\\\\"campaign\\\\\\\\\\\\\\\"}}, \\\\\\\\\\\\\\\"typeProperty\\\\\\\\\\\\\\\": 2}, {\\\\\\\\\\\\\\\"column\\\\\\\\\\\\\\\": {\\\\\\\\\\\\\\\"type\\\\\\\\\\\\\\\": 2, \\\\\\\\\\\\\\\"details\\\\\\\\\\\\\\\": {\\\\\\\\\\\\\\\"selectedColumn\\\\\\\\\\\\\\\": \\\\\\\\\\\\\\\"pdays\\\\\\\\\\\\\\\"}}, \\\\\\\\\\\\\\\"typeProperty\\\\\\\\\\\\\\\": 2}, {\\\\\\\\\\\\\\\"column\\\\\\\\\\\\\\\": {\\\\\\\\\\\\\\\"type\\\\\\\\\\\\\\\": 2, \\\\\\\\\\\\\\\"details\\\\\\\\\\\\\\\": {\\\\\\\\\\\\\\\"selectedColumn\\\\\\\\\\\\\\\": \\\\\\\\\\\\\\\"previous\\\\\\\\\\\\\\\"}}, \\\\\\\\\\\\\\\"typeProperty\\\\\\\\\\\\\\\": 2}, {\\\\\\\\\\\\\\\"column\\\\\\\\\\\\\\\": {\\\\\\\\\\\\\\\"type\\\\\\\\\\\\\\\": 2, \\\\\\\\\\\\\\\"details\\\\\\\\\\\\\\\": {\\\\\\\\\\\\\\\"selectedColumn\\\\\\\\\\\\\\\": \\\\\\\\\\\\\\\"poutcome\\\\\\\\\\\\\\\"}}, \\\\\\\\\\\\\\\"typeProperty\\\\\\\\\\\\\\\": 0}, {\\\\\\\\\\\\\\\"column\\\\\\\\\\\\\\\": {\\\\\\\\\\\\\\\"type\\\\\\\\\\\\\\\": 2, \\\\\\\\\\\\\\\"details\\\\\\\\\\\\\\\": {\\\\\\\\\\\\\\\"selectedColumn\\\\\\\\\\\\\\\": \\\\\\\\\\\\\\\"emp.var.rate\\\\\\\\\\\\\\\"}}, \\\\\\\\\\\\\\\"typeProperty\\\\\\\\\\\\\\\": 3}, {\\\\\\\\\\\\\\\"column\\\\\\\\\\\\\\\": {\\\\\\\\\\\\\\\"type\\\\\\\\\\\\\\\": 2, \\\\\\\\\\\\\\\"details\\\\\\\\\\\\\\\": {\\\\\\\\\\\\\\\"selectedColumn\\\\\\\\\\\\\\\": \\\\\\\\\\\\\\\"cons.price.idx\\\\\\\\\\\\\\\"}}, \\\\\\\\\\\\\\\"typeProperty\\\\\\\\\\\\\\\": 3}, {\\\\\\\\\\\\\\\"column\\\\\\\\\\\\\\\": {\\\\\\\\\\\\\\\"type\\\\\\\\\\\\\\\": 2, \\\\\\\\\\\\\\\"details\\\\\\\\\\\\\\\": {\\\\\\\\\\\\\\\"selectedColumn\\\\\\\\\\\\\\\": \\\\\\\\\\\\\\\"cons.conf.idx\\\\\\\\\\\\\\\"}}, \\\\\\\\\\\\\\\"typeProperty\\\\\\\\\\\\\\\": 3}, {\\\\\\\\\\\\\\\"column\\\\\\\\\\\\\\\": {\\\\\\\\\\\\\\\"type\\\\\\\\\\\\\\\": 2, \\\\\\\\\\\\\\\"details\\\\\\\\\\\\\\\": {\\\\\\\\\\\\\\\"selectedColumn\\\\\\\\\\\\\\\": \\\\\\\\\\\\\\\"euribor3m\\\\\\\\\\\\\\\"}}, \\\\\\\\\\\\\\\"typeProperty\\\\\\\\\\\\\\\": 3}, {\\\\\\\\\\\\\\\"column\\\\\\\\\\\\\\\": {\\\\\\\\\\\\\\\"type\\\\\\\\\\\\\\\": 2, \\\\\\\\\\\\\\\"details\\\\\\\\\\\\\\\": {\\\\\\\\\\\\\\\"selectedColumn\\\\\\\\\\\\\\\": \\\\\\\\\\\\\\\"nr.employed\\\\\\\\\\\\\\\"}}, \\\\\\\\\\\\\\\"typeProperty\\\\\\\\\\\\\\\": 3}, {\\\\\\\\\\\\\\\"column\\\\\\\\\\\\\\\": {\\\\\\\\\\\\\\\"type\\\\\\\\\\\\\\\": 2, \\\\\\\\\\\\\\\"details\\\\\\\\\\\\\\\": {\\\\\\\\\\\\\\\"selectedColumn\\\\\\\\\\\\\\\": \\\\\\\\\\\\\\\"y\\\\\\\\\\\\\\\"}}, \\\\\\\\\\\\\\\"typeProperty\\\\\\\\\\\\\\\": 0}]}, \\\\\\\\\\\\\\\"localData\\\\\\\\\\\\\\\": {}, \\\\\\\\\\\\\\\"isEnabled\\\\\\\\\\\\\\\": true, \\\\\\\\\\\\\\\"name\\\\\\\\\\\\\\\": null, \\\\\\\\\\\\\\\"annotation\\\\\\\\\\\\\\\": null}], \\\\\\\\\\\\\\\"inspectors\\\\\\\\\\\\\\\": [], \\\\\\\\\\\\\\\"meta\\\\\\\\\\\\\\\": {\\\\\\\\\\\\\\\"savedDatasetId\\\\\\\\\\\\\\\": \\\\\\\\\\\\\\\"c5b1eff5-65b6-44ed-afbe-b915f65e9243\\\\\\\\\\\\\\\", \\\\\\\\\\\\\\\"datasetType\\\\\\\\\\\\\\\": \\\\\\\\\\\\\\\"tabular\\\\\\\\\\\\\\\", \\\\\\\\\\\\\\\"subscriptionId\\\\\\\\\\\\\\\": \\\\\\\\\\\\\\\"1bab3e78-2764-4555-845d-297f7a7ca7c0\\\\\\\\\\\\\\\", \\\\\\\\\\\\\\\"workspaceId\\\\\\\\\\\\\\\": \\\\\\\\\\\\\\\"4a44134e-f273-4a39-9009-9efc4996b9f2\\\\\\\\\\\\\\\", \\\\\\\\\\\\\\\"workspaceLocation\\\\\\\\\\\\\\\": \\\\\\\\\\\\\\\"eastasia\\\\\\\\\\\\\\\", \\\\\\\\\\\\\\\"partition_keys\\\\\\\\\\\\\\\": \\\\\\\\\\\\\\\"true\\\\\\\\\\\\\\\"}}\\\\\\\", \\\\\\\"activities\\\\\\\": 0}\", \"EnableSubsampling\": null, \"runTemplate\": \"AutoML\", \"azureml.runsource\": \"automl\", \"display_task_type\": \"classification\", \"dependencies_versions\": \"{\\\"azureml-widgets\\\": \\\"1.32.0\\\", \\\"azureml-train\\\": \\\"1.32.0\\\", \\\"azureml-train-restclients-hyperdrive\\\": \\\"1.32.0\\\", \\\"azureml-train-core\\\": \\\"1.32.0\\\", \\\"azureml-train-automl-runtime\\\": \\\"1.18.0.post1\\\", \\\"azureml-train-automl-client\\\": \\\"1.18.0\\\", \\\"azureml-tensorboard\\\": \\\"1.31.0\\\", \\\"azureml-telemetry\\\": \\\"1.18.0.post1\\\", \\\"azureml-sdk\\\": \\\"1.32.0\\\", \\\"azureml-pipeline\\\": \\\"1.32.0\\\", \\\"azureml-pipeline-steps\\\": \\\"1.32.0\\\", \\\"azureml-pipeline-core\\\": \\\"1.32.0\\\", \\\"azureml-opendatasets\\\": \\\"1.31.0\\\", \\\"azureml-model-management-sdk\\\": \\\"1.0.1b6.post1\\\", \\\"azureml-mlflow\\\": \\\"1.31.0\\\", \\\"azureml-interpret\\\": \\\"1.18.0\\\", \\\"azureml-explain-model\\\": \\\"1.31.0\\\", \\\"azureml-defaults\\\": \\\"1.18.0\\\", \\\"azureml-dataset-runtime\\\": \\\"1.18.0\\\", \\\"azureml-dataprep\\\": \\\"2.4.5\\\", \\\"azureml-dataprep-rslex\\\": \\\"1.2.3\\\", \\\"azureml-dataprep-native\\\": \\\"24.0.0\\\", \\\"azureml-datadrift\\\": \\\"1.31.0\\\", \\\"azureml-core\\\": \\\"1.32.0\\\", \\\"azureml-contrib-services\\\": \\\"1.31.0\\\", \\\"azureml-contrib-server\\\": \\\"1.31.0\\\", \\\"azureml-contrib-reinforcementlearning\\\": \\\"1.31.0\\\", \\\"azureml-contrib-pipeline-steps\\\": \\\"1.31.0\\\", \\\"azureml-contrib-notebook\\\": \\\"1.31.0\\\", \\\"azureml-contrib-fairness\\\": \\\"1.31.0\\\", \\\"azureml-contrib-dataset\\\": \\\"1.31.0\\\", \\\"azureml-cli-common\\\": \\\"1.31.0\\\", \\\"azureml-automl-runtime\\\": \\\"1.18.0.post2\\\", \\\"azureml-automl-core\\\": \\\"1.18.0.post2\\\", \\\"azureml-accel-models\\\": \\\"1.31.0\\\"}\", \"_aml_system_scenario_identification\": \"Remote.Parent\", \"ClientType\": \"SDK\", \"environment_cpu_name\": \"AzureML-AutoML\", \"environment_cpu_label\": \"prod\", \"environment_gpu_name\": \"AzureML-AutoML-GPU\", \"environment_gpu_label\": \"prod\", \"root_attribution\": \"automl\", \"attribution\": \"AutoML\", \"Orchestrator\": \"AutoML\", \"CancelUri\": \"https://eastasia.api.azureml.ms/jasmine/v1.0/subscriptions/1bab3e78-2764-4555-845d-297f7a7ca7c0/resourceGroups/aml/providers/Microsoft.MachineLearningServices/workspaces/amlwsea/experimentids/6f302c96-b299-46a8-aefc-e8b4cb06d9f4/cancel/AutoML_56941284-2658-46cd-9230-e0592db0fcef\", \"azureml.git.repository_uri\": \"https://github.com/radezheng/structureMLhol\", \"mlflow.source.git.repoURL\": \"https://github.com/radezheng/structureMLhol\", \"azureml.git.branch\": \"main\", \"mlflow.source.git.branch\": \"main\", \"azureml.git.commit\": \"77a013e1ac945a4fc0e69922b1441d646bd028c5\", \"mlflow.source.git.commit\": \"77a013e1ac945a4fc0e69922b1441d646bd028c5\", \"azureml.git.dirty\": \"True\", \"ClientSdkVersion\": \"1.32.0\", \"snapshotId\": \"00000000-0000-0000-0000-000000000000\", \"SetupRunId\": \"AutoML_56941284-2658-46cd-9230-e0592db0fcef_setup\", \"SetupRunContainerId\": \"dcid.AutoML_56941284-2658-46cd-9230-e0592db0fcef_setup\", \"FeaturizationRunJsonPath\": \"featurizer_container.json\", \"FeaturizationRunId\": \"AutoML_56941284-2658-46cd-9230-e0592db0fcef_featurize\", \"ProblemInfoJsonString\": \"{\\\"dataset_num_categorical\\\": 0, \\\"is_sparse\\\": true, \\\"subsampling\\\": false, \\\"has_extra_col\\\": true, \\\"dataset_classes\\\": 2, \\\"dataset_features\\\": 132, \\\"dataset_samples\\\": 32950, \\\"single_frequency_class_detected\\\": false}\", \"ModelExplainRunId\": \"AutoML_56941284-2658-46cd-9230-e0592db0fcef_ModelExplain\"}, \"tags\": {\"model_explain_run\": \"best_run\", \"_aml_system_azureml.automlComponent\": \"AutoML\", \"pipeline_id\": \"\", \"score\": \"\", \"predicted_cost\": \"\", \"fit_time\": \"\", \"training_percent\": \"\", \"iteration\": \"\", \"run_preprocessor\": \"\", \"run_algorithm\": \"\", \"dynamic_whitelisting_iterations\": \"<24>;<30>;<35>;<40>;<45>;<50>;\", \"automl_best_child_run_id\": \"AutoML_56941284-2658-46cd-9230-e0592db0fcef_52\", \"model_explain_best_run_child_id\": \"AutoML_56941284-2658-46cd-9230-e0592db0fcef_52\"}, \"end_time_utc\": \"2021-08-02T22:19:15.66174Z\", \"status\": \"Completed\", \"log_files\": {}, \"log_groups\": [], \"run_duration\": \"0:25:20\", \"run_number\": \"137\", \"run_queued_details\": {\"status\": \"Completed\", \"details\": null}}, \"child_runs\": [{\"run_id\": \"AutoML_56941284-2658-46cd-9230-e0592db0fcef_0\", \"run_number\": 141, \"metric\": null, \"status\": \"Completed\", \"run_type\": \"azureml.scriptrun\", \"training_percent\": \"100\", \"start_time\": \"2021-08-02T21:59:24.2911Z\", \"end_time\": \"2021-08-02T22:00:14.126451Z\", \"created_time\": \"2021-08-02T21:59:13.798974Z\", \"created_time_dt\": \"2021-08-02T21:59:13.798974Z\", \"duration\": \"0:01:00\", \"iteration\": \"0\", \"goal\": \"AUC_weighted_max\", \"run_name\": \"MaxAbsScaler, LightGBM\", \"run_properties\": \"copy=True\", \"primary_metric\": 0.95370567, \"best_metric\": 0.95370567}, {\"run_id\": \"AutoML_56941284-2658-46cd-9230-e0592db0fcef_1\", \"run_number\": 142, \"metric\": null, \"status\": \"Completed\", \"run_type\": \"azureml.scriptrun\", \"training_percent\": \"100\", \"start_time\": \"2021-08-02T21:59:24.188255Z\", \"end_time\": \"2021-08-02T22:00:14.08845Z\", \"created_time\": \"2021-08-02T21:59:13.805314Z\", \"created_time_dt\": \"2021-08-02T21:59:13.805314Z\", \"duration\": \"0:01:00\", \"iteration\": \"1\", \"goal\": \"AUC_weighted_max\", \"run_name\": \"MaxAbsScaler, XGBoostClassifier\", \"run_properties\": \"copy=True\", \"primary_metric\": 0.94947937, \"best_metric\": 0.95370567}, {\"run_id\": \"AutoML_56941284-2658-46cd-9230-e0592db0fcef_2\", \"run_number\": 143, \"metric\": null, \"status\": \"Completed\", \"run_type\": \"azureml.scriptrun\", \"training_percent\": \"100\", \"start_time\": \"2021-08-02T21:59:23.937056Z\", \"end_time\": \"2021-08-02T22:00:11.34132Z\", \"created_time\": \"2021-08-02T21:59:13.827599Z\", \"created_time_dt\": \"2021-08-02T21:59:13.827599Z\", \"duration\": \"0:00:57\", \"iteration\": \"2\", \"goal\": \"AUC_weighted_max\", \"run_name\": \"MaxAbsScaler, RandomForest\", \"run_properties\": \"copy=True\", \"primary_metric\": 0.90203078, \"best_metric\": 0.95370567}, {\"run_id\": \"AutoML_56941284-2658-46cd-9230-e0592db0fcef_3\", \"run_number\": 144, \"metric\": null, \"status\": \"Completed\", \"run_type\": \"azureml.scriptrun\", \"training_percent\": \"100\", \"start_time\": \"2021-08-02T21:59:22.307Z\", \"end_time\": \"2021-08-02T22:00:11.443912Z\", \"created_time\": \"2021-08-02T21:59:13.840546Z\", \"created_time_dt\": \"2021-08-02T21:59:13.840546Z\", \"duration\": \"0:00:57\", \"iteration\": \"3\", \"goal\": \"AUC_weighted_max\", \"run_name\": \"MaxAbsScaler, RandomForest\", \"run_properties\": \"copy=True\", \"primary_metric\": 0.90967268, \"best_metric\": 0.95370567}, {\"run_id\": \"AutoML_56941284-2658-46cd-9230-e0592db0fcef_4\", \"run_number\": 145, \"metric\": null, \"status\": \"Completed\", \"run_type\": \"azureml.scriptrun\", \"training_percent\": \"100\", \"start_time\": \"2021-08-02T22:00:26.931316Z\", \"end_time\": \"2021-08-02T22:01:20.580273Z\", \"created_time\": \"2021-08-02T22:00:14.112367Z\", \"created_time_dt\": \"2021-08-02T22:00:14.112367Z\", \"duration\": \"0:01:06\", \"iteration\": \"4\", \"goal\": \"AUC_weighted_max\", \"run_name\": \"MaxAbsScaler, RandomForest\", \"run_properties\": \"copy=True\", \"primary_metric\": 0.90519424, \"best_metric\": 0.95370567}, {\"run_id\": \"AutoML_56941284-2658-46cd-9230-e0592db0fcef_5\", \"run_number\": 146, \"metric\": null, \"status\": \"Completed\", \"run_type\": \"azureml.scriptrun\", \"training_percent\": \"100\", \"start_time\": \"2021-08-02T22:00:26.270001Z\", \"end_time\": \"2021-08-02T22:01:17.063333Z\", \"created_time\": \"2021-08-02T22:00:14.139446Z\", \"created_time_dt\": \"2021-08-02T22:00:14.139446Z\", \"duration\": \"0:01:02\", \"iteration\": \"5\", \"goal\": \"AUC_weighted_max\", \"run_name\": \"MaxAbsScaler, ExtremeRandomTrees\", \"run_properties\": \"copy=True\", \"primary_metric\": 0.91049723, \"best_metric\": 0.95370567}, {\"run_id\": \"AutoML_56941284-2658-46cd-9230-e0592db0fcef_7\", \"run_number\": 147, \"metric\": null, \"status\": \"Completed\", \"run_type\": \"azureml.scriptrun\", \"training_percent\": \"100\", \"start_time\": \"2021-08-02T22:00:26.268997Z\", \"end_time\": \"2021-08-02T22:01:18.172342Z\", \"created_time\": \"2021-08-02T22:00:19.027244Z\", \"created_time_dt\": \"2021-08-02T22:00:19.027244Z\", \"duration\": \"0:00:59\", \"iteration\": \"7\", \"goal\": \"AUC_weighted_max\", \"run_name\": \"MaxAbsScaler, ExtremeRandomTrees\", \"run_properties\": \"copy=True\", \"primary_metric\": 0.88253603, \"best_metric\": 0.95370567}, {\"run_id\": \"AutoML_56941284-2658-46cd-9230-e0592db0fcef_6\", \"run_number\": 148, \"metric\": null, \"status\": \"Completed\", \"run_type\": \"azureml.scriptrun\", \"training_percent\": \"100\", \"start_time\": \"2021-08-02T22:00:26.734166Z\", \"end_time\": \"2021-08-02T22:01:18.781413Z\", \"created_time\": \"2021-08-02T22:00:19.037359Z\", \"created_time_dt\": \"2021-08-02T22:00:19.037359Z\", \"duration\": \"0:00:59\", \"iteration\": \"6\", \"goal\": \"AUC_weighted_max\", \"run_name\": \"MaxAbsScaler, ExtremeRandomTrees\", \"run_properties\": \"copy=True\", \"primary_metric\": 0.89952526, \"best_metric\": 0.95370567}, {\"run_id\": \"AutoML_56941284-2658-46cd-9230-e0592db0fcef_8\", \"run_number\": 149, \"metric\": null, \"status\": \"Completed\", \"run_type\": \"azureml.scriptrun\", \"training_percent\": \"100\", \"start_time\": \"2021-08-02T22:01:29.299607Z\", \"end_time\": \"2021-08-02T22:03:56.279051Z\", \"created_time\": \"2021-08-02T22:01:19.977012Z\", \"created_time_dt\": \"2021-08-02T22:01:19.977012Z\", \"duration\": \"0:02:36\", \"iteration\": \"8\", \"goal\": \"AUC_weighted_max\", \"run_name\": \"MaxAbsScaler, RandomForest\", \"run_properties\": \"copy=True\", \"primary_metric\": 0.90504973, \"best_metric\": 0.95370567}, {\"run_id\": \"AutoML_56941284-2658-46cd-9230-e0592db0fcef_9\", \"run_number\": 150, \"metric\": null, \"status\": \"Completed\", \"run_type\": \"azureml.scriptrun\", \"training_percent\": \"100\", \"start_time\": \"2021-08-02T22:01:31.11575Z\", \"end_time\": \"2021-08-02T22:03:55.505935Z\", \"created_time\": \"2021-08-02T22:01:23.805692Z\", \"created_time_dt\": \"2021-08-02T22:01:23.805692Z\", \"duration\": \"0:02:31\", \"iteration\": \"9\", \"goal\": \"AUC_weighted_max\", \"run_name\": \"MaxAbsScaler, ExtremeRandomTrees\", \"run_properties\": \"copy=True\", \"primary_metric\": 0.84891823, \"best_metric\": 0.95370567}, {\"run_id\": \"AutoML_56941284-2658-46cd-9230-e0592db0fcef_10\", \"run_number\": 151, \"metric\": null, \"status\": \"Completed\", \"run_type\": \"azureml.scriptrun\", \"training_percent\": \"100\", \"start_time\": \"2021-08-02T22:01:31.250171Z\", \"end_time\": \"2021-08-02T22:03:59.94578Z\", \"created_time\": \"2021-08-02T22:01:23.837113Z\", \"created_time_dt\": \"2021-08-02T22:01:23.837113Z\", \"duration\": \"0:02:36\", \"iteration\": \"10\", \"goal\": \"AUC_weighted_max\", \"run_name\": \"MaxAbsScaler, RandomForest\", \"run_properties\": \"copy=True\", \"primary_metric\": 0.86113293, \"best_metric\": 0.95370567}, {\"run_id\": \"AutoML_56941284-2658-46cd-9230-e0592db0fcef_11\", \"run_number\": 152, \"metric\": null, \"status\": \"Completed\", \"run_type\": \"azureml.scriptrun\", \"training_percent\": \"100\", \"start_time\": \"2021-08-02T22:01:31.083634Z\", \"end_time\": \"2021-08-02T22:03:59.841258Z\", \"created_time\": \"2021-08-02T22:01:23.8528Z\", \"created_time_dt\": \"2021-08-02T22:01:23.8528Z\", \"duration\": \"0:02:35\", \"iteration\": \"11\", \"goal\": \"AUC_weighted_max\", \"run_name\": \"MaxAbsScaler, RandomForest\", \"run_properties\": \"copy=True\", \"primary_metric\": 0.90423166, \"best_metric\": 0.95370567}, {\"run_id\": \"AutoML_56941284-2658-46cd-9230-e0592db0fcef_12\", \"run_number\": 153, \"metric\": null, \"status\": \"Completed\", \"run_type\": \"azureml.scriptrun\", \"training_percent\": \"100\", \"start_time\": \"2021-08-02T22:04:08.686013Z\", \"end_time\": \"2021-08-02T22:05:00.656844Z\", \"created_time\": \"2021-08-02T22:04:00.296885Z\", \"created_time_dt\": \"2021-08-02T22:04:00.296885Z\", \"duration\": \"0:01:00\", \"iteration\": \"12\", \"goal\": \"AUC_weighted_max\", \"run_name\": \"MaxAbsScaler, RandomForest\", \"run_properties\": \"copy=True\", \"primary_metric\": 0.87153898, \"best_metric\": 0.95370567}, {\"run_id\": \"AutoML_56941284-2658-46cd-9230-e0592db0fcef_13\", \"run_number\": 154, \"metric\": null, \"status\": \"Completed\", \"run_type\": \"azureml.scriptrun\", \"training_percent\": \"100\", \"start_time\": \"2021-08-02T22:04:09.624809Z\", \"end_time\": \"2021-08-02T22:05:01.531525Z\", \"created_time\": \"2021-08-02T22:04:00.378725Z\", \"created_time_dt\": \"2021-08-02T22:04:00.378725Z\", \"duration\": \"0:01:01\", \"iteration\": \"13\", \"goal\": \"AUC_weighted_max\", \"run_name\": \"StandardScalerWrapper, XGBoostClassifier\", \"run_properties\": \"\\n    copy=True,\\n    with_mean=False,\\n    with_std=False\\n\", \"primary_metric\": 0.93672676, \"best_metric\": 0.95370567}, {\"run_id\": \"AutoML_56941284-2658-46cd-9230-e0592db0fcef_15\", \"run_number\": 155, \"metric\": null, \"status\": \"Completed\", \"run_type\": \"azureml.scriptrun\", \"training_percent\": \"100\", \"start_time\": \"2021-08-02T22:04:14.058191Z\", \"end_time\": \"2021-08-02T22:05:04.371032Z\", \"created_time\": \"2021-08-02T22:04:05.702465Z\", \"created_time_dt\": \"2021-08-02T22:04:05.702465Z\", \"duration\": \"0:00:58\", \"iteration\": \"15\", \"goal\": \"AUC_weighted_max\", \"run_name\": \"StandardScalerWrapper, ExtremeRandomTrees\", \"run_properties\": \"\\n    copy=True,\\n    with_mean=False,\\n    with_std=False\\n\", \"primary_metric\": 0.89637626, \"best_metric\": 0.95370567}, {\"run_id\": \"AutoML_56941284-2658-46cd-9230-e0592db0fcef_14\", \"run_number\": 156, \"metric\": null, \"status\": \"Completed\", \"run_type\": \"azureml.scriptrun\", \"training_percent\": \"100\", \"start_time\": \"2021-08-02T22:04:14.012936Z\", \"end_time\": \"2021-08-02T22:05:03.069294Z\", \"created_time\": \"2021-08-02T22:04:05.709298Z\", \"created_time_dt\": \"2021-08-02T22:04:05.709298Z\", \"duration\": \"0:00:57\", \"iteration\": \"14\", \"goal\": \"AUC_weighted_max\", \"run_name\": \"MaxAbsScaler, RandomForest\", \"run_properties\": \"copy=True\", \"primary_metric\": 0.90470528, \"best_metric\": 0.95370567}, {\"run_id\": \"AutoML_56941284-2658-46cd-9230-e0592db0fcef_16\", \"run_number\": 157, \"metric\": null, \"status\": \"Completed\", \"run_type\": \"azureml.scriptrun\", \"training_percent\": \"100\", \"start_time\": \"2021-08-02T22:05:11.366358Z\", \"end_time\": \"2021-08-02T22:05:57.824913Z\", \"created_time\": \"2021-08-02T22:05:04.034534Z\", \"created_time_dt\": \"2021-08-02T22:05:04.034534Z\", \"duration\": \"0:00:53\", \"iteration\": \"16\", \"goal\": \"AUC_weighted_max\", \"run_name\": \"MaxAbsScaler, ExtremeRandomTrees\", \"run_properties\": \"copy=True\", \"primary_metric\": 0.85673235, \"best_metric\": 0.95370567}, {\"run_id\": \"AutoML_56941284-2658-46cd-9230-e0592db0fcef_17\", \"run_number\": 158, \"metric\": null, \"status\": \"Completed\", \"run_type\": \"azureml.scriptrun\", \"training_percent\": \"100\", \"start_time\": \"2021-08-02T22:05:17.724811Z\", \"end_time\": \"2021-08-02T22:06:12.521856Z\", \"created_time\": \"2021-08-02T22:05:08.301207Z\", \"created_time_dt\": \"2021-08-02T22:05:08.301207Z\", \"duration\": \"0:01:04\", \"iteration\": \"17\", \"goal\": \"AUC_weighted_max\", \"run_name\": \"MaxAbsScaler, ExtremeRandomTrees\", \"run_properties\": \"copy=True\", \"primary_metric\": 0.82113219, \"best_metric\": 0.95370567}, {\"run_id\": \"AutoML_56941284-2658-46cd-9230-e0592db0fcef_19\", \"run_number\": 159, \"metric\": null, \"status\": \"Completed\", \"run_type\": \"azureml.scriptrun\", \"training_percent\": \"100\", \"start_time\": \"2021-08-02T22:05:17.657731Z\", \"end_time\": \"2021-08-02T22:06:03.850407Z\", \"created_time\": \"2021-08-02T22:05:08.353434Z\", \"created_time_dt\": \"2021-08-02T22:05:08.353434Z\", \"duration\": \"0:00:55\", \"iteration\": \"19\", \"goal\": \"AUC_weighted_max\", \"run_name\": \"StandardScalerWrapper, XGBoostClassifier\", \"run_properties\": \"\\n    copy=True,\\n    with_mean=False,\\n    with_std=False\\n\", \"primary_metric\": 0.9489049, \"best_metric\": 0.95370567}, {\"run_id\": \"AutoML_56941284-2658-46cd-9230-e0592db0fcef_18\", \"run_number\": 160, \"metric\": null, \"status\": \"Completed\", \"run_type\": \"azureml.scriptrun\", \"training_percent\": \"100\", \"start_time\": \"2021-08-02T22:05:16.707419Z\", \"end_time\": \"2021-08-02T22:06:11.65002Z\", \"created_time\": \"2021-08-02T22:05:08.38745Z\", \"created_time_dt\": \"2021-08-02T22:05:08.38745Z\", \"duration\": \"0:01:03\", \"iteration\": \"18\", \"goal\": \"AUC_weighted_max\", \"run_name\": \"MaxAbsScaler, RandomForest\", \"run_properties\": \"copy=True\", \"primary_metric\": 0.89501733, \"best_metric\": 0.95370567}, {\"run_id\": \"AutoML_56941284-2658-46cd-9230-e0592db0fcef_20\", \"run_number\": 161, \"metric\": null, \"status\": \"Completed\", \"run_type\": \"azureml.scriptrun\", \"training_percent\": \"100\", \"start_time\": \"2021-08-02T22:06:09.422684Z\", \"end_time\": \"2021-08-02T22:08:38.311616Z\", \"created_time\": \"2021-08-02T22:06:00.923768Z\", \"created_time_dt\": \"2021-08-02T22:06:00.923768Z\", \"duration\": \"0:02:37\", \"iteration\": \"20\", \"goal\": \"AUC_weighted_max\", \"run_name\": \"MaxAbsScaler, LightGBM\", \"run_properties\": \"copy=True\", \"primary_metric\": 0.93609536, \"best_metric\": 0.95370567}, {\"run_id\": \"AutoML_56941284-2658-46cd-9230-e0592db0fcef_21\", \"run_number\": 162, \"metric\": null, \"status\": \"Completed\", \"run_type\": \"azureml.scriptrun\", \"training_percent\": \"100\", \"start_time\": \"2021-08-02T22:06:13.674317Z\", \"end_time\": \"2021-08-02T22:08:38.391435Z\", \"created_time\": \"2021-08-02T22:06:06.564917Z\", \"created_time_dt\": \"2021-08-02T22:06:06.564917Z\", \"duration\": \"0:02:31\", \"iteration\": \"21\", \"goal\": \"AUC_weighted_max\", \"run_name\": \"MaxAbsScaler, LightGBM\", \"run_properties\": \"copy=True\", \"primary_metric\": 0.95302444, \"best_metric\": 0.95370567}, {\"run_id\": \"AutoML_56941284-2658-46cd-9230-e0592db0fcef_22\", \"run_number\": 163, \"metric\": null, \"status\": \"Completed\", \"run_type\": \"azureml.scriptrun\", \"training_percent\": \"100\", \"start_time\": \"2021-08-02T22:06:21.494304Z\", \"end_time\": \"2021-08-02T22:08:50.308646Z\", \"created_time\": \"2021-08-02T22:06:14.380779Z\", \"created_time_dt\": \"2021-08-02T22:06:14.380779Z\", \"duration\": \"0:02:35\", \"iteration\": \"22\", \"goal\": \"AUC_weighted_max\", \"run_name\": \"StandardScalerWrapper, LightGBM\", \"run_properties\": \"\\n    copy=True,\\n    with_mean=False,\\n    with_std=True\\n\", \"primary_metric\": 0.95323382, \"best_metric\": 0.95370567}, {\"run_id\": \"AutoML_56941284-2658-46cd-9230-e0592db0fcef_23\", \"run_number\": 164, \"metric\": null, \"status\": \"Completed\", \"run_type\": \"azureml.scriptrun\", \"training_percent\": \"100\", \"start_time\": \"2021-08-02T22:06:24.835679Z\", \"end_time\": \"2021-08-02T22:08:53.751157Z\", \"created_time\": \"2021-08-02T22:06:17.477211Z\", \"created_time_dt\": \"2021-08-02T22:06:17.477211Z\", \"duration\": \"0:02:36\", \"iteration\": \"23\", \"goal\": \"AUC_weighted_max\", \"run_name\": \"StandardScalerWrapper, XGBoostClassifier\", \"run_properties\": \"\\n    copy=True,\\n    with_mean=False,\\n    with_std=False\\n\", \"primary_metric\": 0.95371275, \"best_metric\": 0.95371275}, {\"run_id\": \"AutoML_56941284-2658-46cd-9230-e0592db0fcef_24\", \"run_number\": 165, \"metric\": null, \"status\": \"Completed\", \"run_type\": \"azureml.scriptrun\", \"training_percent\": \"100\", \"start_time\": \"2021-08-02T22:08:54.30724Z\", \"end_time\": \"2021-08-02T22:09:44.254812Z\", \"created_time\": \"2021-08-02T22:08:42.048398Z\", \"created_time_dt\": \"2021-08-02T22:08:42.048398Z\", \"duration\": \"0:01:02\", \"iteration\": \"24\", \"goal\": \"AUC_weighted_max\", \"run_name\": \"MaxAbsScaler, LightGBM\", \"run_properties\": \"copy=True\", \"primary_metric\": 0.94993382, \"best_metric\": 0.95371275}, {\"run_id\": \"AutoML_56941284-2658-46cd-9230-e0592db0fcef_25\", \"run_number\": 166, \"metric\": null, \"status\": \"Completed\", \"run_type\": \"azureml.scriptrun\", \"training_percent\": \"100\", \"start_time\": \"2021-08-02T22:08:55.188404Z\", \"end_time\": \"2021-08-02T22:09:55.076789Z\", \"created_time\": \"2021-08-02T22:08:42.071093Z\", \"created_time_dt\": \"2021-08-02T22:08:42.071093Z\", \"duration\": \"0:01:13\", \"iteration\": \"25\", \"goal\": \"AUC_weighted_max\", \"run_name\": \"StandardScalerWrapper, XGBoostClassifier\", \"run_properties\": \"\\n    copy=True,\\n    with_mean=False,\\n    with_std=False\\n\", \"primary_metric\": 0.95337714, \"best_metric\": 0.95371275}, {\"run_id\": \"AutoML_56941284-2658-46cd-9230-e0592db0fcef_26\", \"run_number\": 167, \"metric\": null, \"status\": \"Completed\", \"run_type\": \"azureml.scriptrun\", \"training_percent\": \"100\", \"start_time\": \"2021-08-02T22:09:00.772838Z\", \"end_time\": \"2021-08-02T22:09:58.526512Z\", \"created_time\": \"2021-08-02T22:08:52.488404Z\", \"created_time_dt\": \"2021-08-02T22:08:52.488404Z\", \"duration\": \"0:01:06\", \"iteration\": \"26\", \"goal\": \"AUC_weighted_max\", \"run_name\": \"StandardScalerWrapper, XGBoostClassifier\", \"run_properties\": \"\\n    copy=True,\\n    with_mean=False,\\n    with_std=False\\n\", \"primary_metric\": 0.94333707, \"best_metric\": 0.95371275}, {\"run_id\": \"AutoML_56941284-2658-46cd-9230-e0592db0fcef_27\", \"run_number\": 168, \"metric\": null, \"status\": \"Completed\", \"run_type\": \"azureml.scriptrun\", \"training_percent\": \"100\", \"start_time\": \"2021-08-02T22:09:05.220974Z\", \"end_time\": \"2021-08-02T22:09:54.276663Z\", \"created_time\": \"2021-08-02T22:08:56.895689Z\", \"created_time_dt\": \"2021-08-02T22:08:56.895689Z\", \"duration\": \"0:00:57\", \"iteration\": \"27\", \"goal\": \"AUC_weighted_max\", \"run_name\": \"StandardScalerWrapper, XGBoostClassifier\", \"run_properties\": \"\\n    copy=True,\\n    with_mean=False,\\n    with_std=False\\n\", \"primary_metric\": 0.95253017, \"best_metric\": 0.95371275}, {\"run_id\": \"AutoML_56941284-2658-46cd-9230-e0592db0fcef_28\", \"run_number\": 169, \"metric\": null, \"status\": \"Completed\", \"run_type\": \"azureml.scriptrun\", \"training_percent\": \"100\", \"start_time\": \"2021-08-02T22:10:00.381814Z\", \"end_time\": \"2021-08-02T22:10:49.100597Z\", \"created_time\": \"2021-08-02T22:09:46.318682Z\", \"created_time_dt\": \"2021-08-02T22:09:46.318682Z\", \"duration\": \"0:01:02\", \"iteration\": \"28\", \"goal\": \"AUC_weighted_max\", \"run_name\": \"StandardScalerWrapper, LightGBM\", \"run_properties\": \"\\n    copy=True,\\n    with_mean=False,\\n    with_std=False\\n\", \"primary_metric\": 0.94257061, \"best_metric\": 0.95371275}, {\"run_id\": \"AutoML_56941284-2658-46cd-9230-e0592db0fcef_29\", \"run_number\": 170, \"metric\": null, \"status\": \"Completed\", \"run_type\": \"azureml.scriptrun\", \"training_percent\": \"100\", \"start_time\": \"2021-08-02T22:10:04.532657Z\", \"end_time\": \"2021-08-02T22:10:50.895122Z\", \"created_time\": \"2021-08-02T22:09:56.447967Z\", \"created_time_dt\": \"2021-08-02T22:09:56.447967Z\", \"duration\": \"0:00:54\", \"iteration\": \"29\", \"goal\": \"AUC_weighted_max\", \"run_name\": \"StandardScalerWrapper, XGBoostClassifier\", \"run_properties\": \"\\n    copy=True,\\n    with_mean=False,\\n    with_std=False\\n\", \"primary_metric\": 0.95117007, \"best_metric\": 0.95371275}, {\"run_id\": \"AutoML_56941284-2658-46cd-9230-e0592db0fcef_30\", \"run_number\": 171, \"metric\": null, \"status\": \"Completed\", \"run_type\": \"azureml.scriptrun\", \"training_percent\": \"100\", \"start_time\": \"2021-08-02T22:10:09.237533Z\", \"end_time\": \"2021-08-02T22:10:58.350596Z\", \"created_time\": \"2021-08-02T22:10:02.261055Z\", \"created_time_dt\": \"2021-08-02T22:10:02.261055Z\", \"duration\": \"0:00:56\", \"iteration\": \"30\", \"goal\": \"AUC_weighted_max\", \"run_name\": \"StandardScalerWrapper, XGBoostClassifier\", \"run_properties\": \"\\n    copy=True,\\n    with_mean=False,\\n    with_std=False\\n\", \"primary_metric\": 0.95273189, \"best_metric\": 0.95371275}, {\"run_id\": \"AutoML_56941284-2658-46cd-9230-e0592db0fcef_31\", \"run_number\": 172, \"metric\": null, \"status\": \"Completed\", \"run_type\": \"azureml.scriptrun\", \"training_percent\": \"100\", \"start_time\": \"2021-08-02T22:10:09.655616Z\", \"end_time\": \"2021-08-02T22:10:55.908943Z\", \"created_time\": \"2021-08-02T22:10:02.476257Z\", \"created_time_dt\": \"2021-08-02T22:10:02.476257Z\", \"duration\": \"0:00:53\", \"iteration\": \"31\", \"goal\": \"AUC_weighted_max\", \"run_name\": \"MaxAbsScaler, LightGBM\", \"run_properties\": \"copy=True\", \"primary_metric\": 0.93970059, \"best_metric\": 0.95371275}, {\"run_id\": \"AutoML_56941284-2658-46cd-9230-e0592db0fcef_32\", \"run_number\": 173, \"metric\": null, \"status\": \"Completed\", \"run_type\": \"azureml.scriptrun\", \"training_percent\": \"100\", \"start_time\": \"2021-08-02T22:11:06.285671Z\", \"end_time\": \"2021-08-02T22:12:06.931528Z\", \"created_time\": \"2021-08-02T22:10:51.145405Z\", \"created_time_dt\": \"2021-08-02T22:10:51.145405Z\", \"duration\": \"0:01:15\", \"iteration\": \"32\", \"goal\": \"AUC_weighted_max\", \"run_name\": \"StandardScalerWrapper, XGBoostClassifier\", \"run_properties\": \"\\n    copy=True,\\n    with_mean=False,\\n    with_std=False\\n\", \"primary_metric\": 0.95402299, \"best_metric\": 0.95402299}, {\"run_id\": \"AutoML_56941284-2658-46cd-9230-e0592db0fcef_33\", \"run_number\": 174, \"metric\": null, \"status\": \"Completed\", \"run_type\": \"azureml.scriptrun\", \"training_percent\": \"100\", \"start_time\": \"2021-08-02T22:11:06.736049Z\", \"end_time\": \"2021-08-02T22:11:57.430447Z\", \"created_time\": \"2021-08-02T22:10:54.910463Z\", \"created_time_dt\": \"2021-08-02T22:10:54.910463Z\", \"duration\": \"0:01:02\", \"iteration\": \"33\", \"goal\": \"AUC_weighted_max\", \"run_name\": \"StandardScalerWrapper, XGBoostClassifier\", \"run_properties\": \"\\n    copy=True,\\n    with_mean=False,\\n    with_std=False\\n\", \"primary_metric\": 0.94079086, \"best_metric\": 0.95402299}, {\"run_id\": \"AutoML_56941284-2658-46cd-9230-e0592db0fcef_34\", \"run_number\": 175, \"metric\": null, \"status\": \"Completed\", \"run_type\": \"azureml.scriptrun\", \"training_percent\": \"100\", \"start_time\": \"2021-08-02T22:11:07.569797Z\", \"end_time\": \"2021-08-02T22:12:03.372634Z\", \"created_time\": \"2021-08-02T22:10:58.313801Z\", \"created_time_dt\": \"2021-08-02T22:10:58.313801Z\", \"duration\": \"0:01:05\", \"iteration\": \"34\", \"goal\": \"AUC_weighted_max\", \"run_name\": \"StandardScalerWrapper, XGBoostClassifier\", \"run_properties\": \"\\n    copy=True,\\n    with_mean=False,\\n    with_std=False\\n\", \"primary_metric\": 0.95143548, \"best_metric\": 0.95402299}, {\"run_id\": \"AutoML_56941284-2658-46cd-9230-e0592db0fcef_35\", \"run_number\": 176, \"metric\": null, \"status\": \"Completed\", \"run_type\": \"azureml.scriptrun\", \"training_percent\": \"100\", \"start_time\": \"2021-08-02T22:11:09.957637Z\", \"end_time\": \"2021-08-02T22:11:56.169177Z\", \"created_time\": \"2021-08-02T22:11:02.801671Z\", \"created_time_dt\": \"2021-08-02T22:11:02.801671Z\", \"duration\": \"0:00:53\", \"iteration\": \"35\", \"goal\": \"AUC_weighted_max\", \"run_name\": \"StandardScalerWrapper, XGBoostClassifier\", \"run_properties\": \"\\n    copy=True,\\n    with_mean=False,\\n    with_std=False\\n\", \"primary_metric\": 0.5, \"best_metric\": 0.95402299}, {\"run_id\": \"AutoML_56941284-2658-46cd-9230-e0592db0fcef_36\", \"run_number\": 177, \"metric\": null, \"status\": \"Completed\", \"run_type\": \"azureml.scriptrun\", \"training_percent\": \"100\", \"start_time\": \"2021-08-02T22:12:07.708642Z\", \"end_time\": \"2021-08-02T22:13:00.477598Z\", \"created_time\": \"2021-08-02T22:11:58.420058Z\", \"created_time_dt\": \"2021-08-02T22:11:58.420058Z\", \"duration\": \"0:01:02\", \"iteration\": \"36\", \"goal\": \"AUC_weighted_max\", \"run_name\": \"StandardScalerWrapper, LightGBM\", \"run_properties\": \"\\n    copy=True,\\n    with_mean=False,\\n    with_std=False\\n\", \"primary_metric\": 0.92798516, \"best_metric\": 0.95402299}, {\"run_id\": \"AutoML_56941284-2658-46cd-9230-e0592db0fcef_37\", \"run_number\": 178, \"metric\": null, \"status\": \"Completed\", \"run_type\": \"azureml.scriptrun\", \"training_percent\": \"100\", \"start_time\": \"2021-08-02T22:12:08.620294Z\", \"end_time\": \"2021-08-02T22:12:57.648917Z\", \"created_time\": \"2021-08-02T22:12:01.632346Z\", \"created_time_dt\": \"2021-08-02T22:12:01.632346Z\", \"duration\": \"0:00:56\", \"iteration\": \"37\", \"goal\": \"AUC_weighted_max\", \"run_name\": \"MaxAbsScaler, LightGBM\", \"run_properties\": \"copy=True\", \"primary_metric\": 0.95294304, \"best_metric\": 0.95402299}, {\"run_id\": \"AutoML_56941284-2658-46cd-9230-e0592db0fcef_38\", \"run_number\": 179, \"metric\": null, \"status\": \"Completed\", \"run_type\": \"azureml.scriptrun\", \"training_percent\": \"100\", \"start_time\": \"2021-08-02T22:12:13.000138Z\", \"end_time\": \"2021-08-02T22:13:02.011027Z\", \"created_time\": \"2021-08-02T22:12:05.554111Z\", \"created_time_dt\": \"2021-08-02T22:12:05.554111Z\", \"duration\": \"0:00:56\", \"iteration\": \"38\", \"goal\": \"AUC_weighted_max\", \"run_name\": \"MaxAbsScaler, LightGBM\", \"run_properties\": \"copy=True\", \"primary_metric\": 0.94616139, \"best_metric\": 0.95402299}, {\"run_id\": \"AutoML_56941284-2658-46cd-9230-e0592db0fcef_39\", \"run_number\": 180, \"metric\": null, \"status\": \"Completed\", \"run_type\": \"azureml.scriptrun\", \"training_percent\": \"100\", \"start_time\": \"2021-08-02T22:12:16.639899Z\", \"end_time\": \"2021-08-02T22:13:02.925801Z\", \"created_time\": \"2021-08-02T22:12:09.067543Z\", \"created_time_dt\": \"2021-08-02T22:12:09.067543Z\", \"duration\": \"0:00:53\", \"iteration\": \"39\", \"goal\": \"AUC_weighted_max\", \"run_name\": \"MaxAbsScaler, LightGBM\", \"run_properties\": \"copy=True\", \"primary_metric\": 0.94686798, \"best_metric\": 0.95402299}, {\"run_id\": \"AutoML_56941284-2658-46cd-9230-e0592db0fcef_40\", \"run_number\": 181, \"metric\": null, \"status\": \"Completed\", \"run_type\": \"azureml.scriptrun\", \"training_percent\": \"100\", \"start_time\": \"2021-08-02T22:13:14.412462Z\", \"end_time\": \"2021-08-02T22:14:14.246249Z\", \"created_time\": \"2021-08-02T22:13:01.007192Z\", \"created_time_dt\": \"2021-08-02T22:13:01.007192Z\", \"duration\": \"0:01:13\", \"iteration\": \"40\", \"goal\": \"AUC_weighted_max\", \"run_name\": \"TruncatedSVDWrapper, XGBoostClassifier\", \"run_properties\": \"n_components=0.3068421052631579, random_state=None\", \"primary_metric\": 0.94823281, \"best_metric\": 0.95402299}, {\"run_id\": \"AutoML_56941284-2658-46cd-9230-e0592db0fcef_41\", \"run_number\": 182, \"metric\": null, \"status\": \"Completed\", \"run_type\": \"azureml.scriptrun\", \"training_percent\": \"100\", \"start_time\": \"2021-08-02T22:13:15.577203Z\", \"end_time\": \"2021-08-02T22:14:05.458059Z\", \"created_time\": \"2021-08-02T22:13:05.9202Z\", \"created_time_dt\": \"2021-08-02T22:13:05.9202Z\", \"duration\": \"0:00:59\", \"iteration\": \"41\", \"goal\": \"AUC_weighted_max\", \"run_name\": \"MaxAbsScaler, LightGBM\", \"run_properties\": \"copy=True\", \"primary_metric\": 0.95504513, \"best_metric\": 0.95504513}, {\"run_id\": \"AutoML_56941284-2658-46cd-9230-e0592db0fcef_43\", \"run_number\": 183, \"metric\": null, \"status\": \"Completed\", \"run_type\": \"azureml.scriptrun\", \"training_percent\": \"100\", \"start_time\": \"2021-08-02T22:13:15.207413Z\", \"end_time\": \"2021-08-02T22:14:05.062173Z\", \"created_time\": \"2021-08-02T22:13:05.969371Z\", \"created_time_dt\": \"2021-08-02T22:13:05.969371Z\", \"duration\": \"0:00:59\", \"iteration\": \"43\", \"goal\": \"AUC_weighted_max\", \"run_name\": \"StandardScalerWrapper, XGBoostClassifier\", \"run_properties\": \"\\n    copy=True,\\n    with_mean=False,\\n    with_std=False\\n\", \"primary_metric\": 0.9414482, \"best_metric\": 0.95504513}, {\"run_id\": \"AutoML_56941284-2658-46cd-9230-e0592db0fcef_42\", \"run_number\": 184, \"metric\": null, \"status\": \"Completed\", \"run_type\": \"azureml.scriptrun\", \"training_percent\": \"100\", \"start_time\": \"2021-08-02T22:13:15.325284Z\", \"end_time\": \"2021-08-02T22:14:08.077481Z\", \"created_time\": \"2021-08-02T22:13:06.032351Z\", \"created_time_dt\": \"2021-08-02T22:13:06.032351Z\", \"duration\": \"0:01:02\", \"iteration\": \"42\", \"goal\": \"AUC_weighted_max\", \"run_name\": \"StandardScalerWrapper, XGBoostClassifier\", \"run_properties\": \"\\n    copy=True,\\n    with_mean=False,\\n    with_std=False\\n\", \"primary_metric\": 0.948216, \"best_metric\": 0.95504513}, {\"run_id\": \"AutoML_56941284-2658-46cd-9230-e0592db0fcef_44\", \"run_number\": 185, \"metric\": null, \"status\": \"Completed\", \"run_type\": \"azureml.scriptrun\", \"training_percent\": \"100\", \"start_time\": \"2021-08-02T22:14:17.599622Z\", \"end_time\": \"2021-08-02T22:16:44.697367Z\", \"created_time\": \"2021-08-02T22:14:07.524329Z\", \"created_time_dt\": \"2021-08-02T22:14:07.524329Z\", \"duration\": \"0:02:37\", \"iteration\": \"44\", \"goal\": \"AUC_weighted_max\", \"run_name\": \"MaxAbsScaler, LightGBM\", \"run_properties\": \"copy=True\", \"primary_metric\": 0.95320728, \"best_metric\": 0.95504513}, {\"run_id\": \"AutoML_56941284-2658-46cd-9230-e0592db0fcef_45\", \"run_number\": 186, \"metric\": null, \"status\": \"Completed\", \"run_type\": \"azureml.scriptrun\", \"training_percent\": \"100\", \"start_time\": \"2021-08-02T22:14:19.657127Z\", \"end_time\": \"2021-08-02T22:16:44.449191Z\", \"created_time\": \"2021-08-02T22:14:12.490223Z\", \"created_time_dt\": \"2021-08-02T22:14:12.490223Z\", \"duration\": \"0:02:31\", \"iteration\": \"45\", \"goal\": \"AUC_weighted_max\", \"run_name\": \"MaxAbsScaler, LightGBM\", \"run_properties\": \"copy=True\", \"primary_metric\": 0.94873444, \"best_metric\": 0.95504513}, {\"run_id\": \"AutoML_56941284-2658-46cd-9230-e0592db0fcef_46\", \"run_number\": 187, \"metric\": null, \"status\": \"Completed\", \"run_type\": \"azureml.scriptrun\", \"training_percent\": \"100\", \"start_time\": \"2021-08-02T22:14:19.940013Z\", \"end_time\": \"2021-08-02T22:16:44.318896Z\", \"created_time\": \"2021-08-02T22:14:12.558746Z\", \"created_time_dt\": \"2021-08-02T22:14:12.558746Z\", \"duration\": \"0:02:31\", \"iteration\": \"46\", \"goal\": \"AUC_weighted_max\", \"run_name\": \"StandardScalerWrapper, XGBoostClassifier\", \"run_properties\": \"\\n    copy=True,\\n    with_mean=False,\\n    with_std=False\\n\", \"primary_metric\": 0.94976868, \"best_metric\": 0.95504513}, {\"run_id\": \"AutoML_56941284-2658-46cd-9230-e0592db0fcef_47\", \"run_number\": 188, \"metric\": null, \"status\": \"Completed\", \"run_type\": \"azureml.scriptrun\", \"training_percent\": \"100\", \"start_time\": \"2021-08-02T22:14:24.559615Z\", \"end_time\": \"2021-08-02T22:16:54.669878Z\", \"created_time\": \"2021-08-02T22:14:16.288367Z\", \"created_time_dt\": \"2021-08-02T22:14:16.288367Z\", \"duration\": \"0:02:38\", \"iteration\": \"47\", \"goal\": \"AUC_weighted_max\", \"run_name\": \"StandardScalerWrapper, XGBoostClassifier\", \"run_properties\": \"\\n    copy=True,\\n    with_mean=False,\\n    with_std=False\\n\", \"primary_metric\": 0.95380948, \"best_metric\": 0.95504513}, {\"run_id\": \"AutoML_56941284-2658-46cd-9230-e0592db0fcef_48\", \"run_number\": 189, \"metric\": null, \"status\": \"Canceled\", \"run_type\": \"azureml.scriptrun\", \"training_percent\": \"100\", \"start_time\": \"2021-08-02T22:16:58.818769Z\", \"end_time\": \"2021-08-02T22:17:54.601136Z\", \"created_time\": \"2021-08-02T22:16:46.636669Z\", \"created_time_dt\": \"2021-08-02T22:16:46.636669Z\", \"duration\": \"0:01:07\", \"iteration\": \"48\", \"goal\": \"AUC_weighted_max\", \"run_name\": \"StandardScalerWrapper, XGBoostClassifier\", \"run_properties\": \"\\n    copy=True,\\n    with_mean=False,\\n    with_std=False\\n\", \"primary_metric\": 0.95227597, \"best_metric\": 0.95504513}, {\"run_id\": \"AutoML_56941284-2658-46cd-9230-e0592db0fcef_49\", \"run_number\": 190, \"metric\": null, \"status\": \"Canceled\", \"run_type\": \"azureml.scriptrun\", \"training_percent\": \"100\", \"start_time\": \"2021-08-02T22:16:59.445055Z\", \"end_time\": \"2021-08-02T22:17:49.695481Z\", \"created_time\": \"2021-08-02T22:16:46.695834Z\", \"created_time_dt\": \"2021-08-02T22:16:46.695834Z\", \"duration\": \"0:01:02\", \"iteration\": \"49\", \"goal\": \"AUC_weighted_max\", \"run_name\": \"StandardScalerWrapper, XGBoostClassifier\", \"run_properties\": \"\\n    copy=True,\\n    with_mean=False,\\n    with_std=False\\n\", \"primary_metric\": 0.94648696, \"best_metric\": 0.95504513}, {\"run_id\": \"AutoML_56941284-2658-46cd-9230-e0592db0fcef_50\", \"run_number\": 191, \"metric\": null, \"status\": \"Completed\", \"run_type\": \"azureml.scriptrun\", \"training_percent\": \"100\", \"start_time\": \"2021-08-02T22:16:59.430168Z\", \"end_time\": \"2021-08-02T22:17:48.469621Z\", \"created_time\": \"2021-08-02T22:16:52.390775Z\", \"created_time_dt\": \"2021-08-02T22:16:52.390775Z\", \"duration\": \"0:00:56\", \"iteration\": \"50\", \"goal\": \"AUC_weighted_max\", \"run_name\": \"StandardScalerWrapper, LightGBM\", \"run_properties\": \"\\n    copy=True,\\n    with_mean=False,\\n    with_std=True\\n\", \"primary_metric\": 0.94454265, \"best_metric\": 0.95504513}, {\"run_id\": \"AutoML_56941284-2658-46cd-9230-e0592db0fcef_51\", \"run_number\": 192, \"metric\": null, \"status\": \"Canceled\", \"run_type\": \"azureml.scriptrun\", \"training_percent\": \"100\", \"start_time\": \"2021-08-02T22:17:04.086946Z\", \"end_time\": \"2021-08-02T22:17:54.67967Z\", \"created_time\": \"2021-08-02T22:16:57.014087Z\", \"created_time_dt\": \"2021-08-02T22:16:57.014087Z\", \"duration\": \"0:00:57\", \"iteration\": \"51\", \"goal\": \"AUC_weighted_max\", \"run_name\": \"StandardScalerWrapper, XGBoostClassifier\", \"run_properties\": \"\\n    copy=True,\\n    with_mean=False,\\n    with_std=False\\n\", \"primary_metric\": 0.95036321, \"best_metric\": 0.95504513}, {\"run_id\": \"AutoML_56941284-2658-46cd-9230-e0592db0fcef_52\", \"run_number\": 193, \"metric\": null, \"status\": \"Completed\", \"run_type\": \"azureml.scriptrun\", \"training_percent\": \"100\", \"start_time\": \"2021-08-02T22:18:07.083565Z\", \"end_time\": \"2021-08-02T22:19:12.973769Z\", \"created_time\": \"2021-08-02T22:17:55.325005Z\", \"created_time_dt\": \"2021-08-02T22:17:55.325005Z\", \"duration\": \"0:01:17\", \"iteration\": \"52\", \"goal\": \"AUC_weighted_max\", \"run_name\": \"VotingEnsemble\", \"run_properties\": \"\\n    estimators=[('41', Pipeline(memory=None,\\n             steps=[('maxabsscaler', MaxAbsScaler(copy=True\", \"primary_metric\": 0.95570749, \"best_metric\": 0.95570749}], \"children_metrics\": {\"categories\": [0], \"series\": {\"average_precision_score_weighted\": [{\"categories\": [\"0\", \"1\", \"2\", \"3\", \"4\", \"5\", \"6\", \"7\", \"8\", \"9\", \"10\", \"11\", \"12\", \"13\", \"14\", \"15\", \"16\", \"17\", \"18\", \"19\", \"20\", \"21\", \"22\", \"23\", \"24\", \"25\", \"26\", \"27\", \"28\", \"29\", \"30\", \"31\", \"32\", \"33\", \"34\", \"35\", \"36\", \"37\", \"38\", \"39\", \"40\", \"41\", \"42\", \"43\", \"44\", \"45\", \"46\", \"47\", \"48\", \"49\", \"50\", \"51\", \"52\"], \"mode\": \"markers\", \"name\": \"average_precision_score_weighted\", \"stepped\": false, \"type\": \"scatter\", \"data\": [0.959992859687783, 0.9577468693981825, 0.9315747687385763, 0.937342906888149, 0.928556372450818, 0.933164893624464, 0.931955863719347, 0.9283444234109576, 0.9347397860999068, 0.9188346989240426, 0.918792593406809, 0.9324537010819147, 0.9235100167469735, 0.9518909439695756, 0.9359658846074259, 0.9265442843765549, 0.9183750667708549, 0.9102072373623156, 0.9306476280613238, 0.9587259757564918, 0.9504442717370366, 0.9592353172844233, 0.9600940719313921, 0.9584631636115891, 0.958598597165753, 0.9577111787321304, 0.9555114320739063, 0.9576394506260115, 0.9543227730722296, 0.958345059936208, 0.9589542324215492, 0.9496397988886952, 0.9586880293990547, 0.9545251824935957, 0.9574442362068545, 0.8000396746677246, 0.9472591462230888, 0.9601773362786792, 0.9546199783513035, 0.9552021840566399, 0.9547585953791874, 0.9599947422699824, 0.9560897119374646, 0.9541797439729454, 0.9599451738944046, 0.9574590118892902, 0.9568049497383719, 0.9588332005992681, 0.9581564745110324, 0.956869896613882, 0.9542418386272735, 0.9566630429741705, 0.9605121857579841]}, {\"categories\": [\"0\", \"1\", \"2\", \"3\", \"4\", \"5\", \"6\", \"7\", \"8\", \"9\", \"10\", \"11\", \"12\", \"13\", \"14\", \"15\", \"16\", \"17\", \"18\", \"19\", \"20\", \"21\", \"22\", \"23\", \"24\", \"25\", \"26\", \"27\", \"28\", \"29\", \"30\", \"31\", \"32\", \"33\", \"34\", \"35\", \"36\", \"37\", \"38\", \"39\", \"40\", \"41\", \"42\", \"43\", \"44\", \"45\", \"46\", \"47\", \"48\", \"49\", \"50\", \"51\", \"52\"], \"mode\": \"lines\", \"name\": \"average_precision_score_weighted_max\", \"stepped\": true, \"type\": \"scatter\", \"data\": [0.959992859687783, 0.959992859687783, 0.959992859687783, 0.959992859687783, 0.959992859687783, 0.959992859687783, 0.959992859687783, 0.959992859687783, 0.959992859687783, 0.959992859687783, 0.959992859687783, 0.959992859687783, 0.959992859687783, 0.959992859687783, 0.959992859687783, 0.959992859687783, 0.959992859687783, 0.959992859687783, 0.959992859687783, 0.959992859687783, 0.959992859687783, 0.959992859687783, 0.9600940719313921, 0.9600940719313921, 0.9600940719313921, 0.9600940719313921, 0.9600940719313921, 0.9600940719313921, 0.9600940719313921, 0.9600940719313921, 0.9600940719313921, 0.9600940719313921, 0.9600940719313921, 0.9600940719313921, 0.9600940719313921, 0.9600940719313921, 0.9600940719313921, 0.9601773362786792, 0.9601773362786792, 0.9601773362786792, 0.9601773362786792, 0.9601773362786792, 0.9601773362786792, 0.9601773362786792, 0.9601773362786792, 0.9601773362786792, 0.9601773362786792, 0.9601773362786792, 0.9601773362786792, 0.9601773362786792, 0.9601773362786792, 0.9601773362786792, 0.9605121857579841]}], \"average_precision_score_micro\": [{\"categories\": [\"0\", \"1\", \"2\", \"3\", \"4\", \"5\", \"6\", \"7\", \"8\", \"9\", \"10\", \"11\", \"12\", \"13\", \"14\", \"15\", \"16\", \"17\", \"18\", \"19\", \"20\", \"21\", \"22\", \"23\", \"24\", \"25\", \"26\", \"27\", \"28\", \"29\", \"30\", \"31\", \"32\", \"33\", \"34\", \"35\", \"36\", \"37\", \"38\", \"39\", \"40\", \"41\", \"42\", \"43\", \"44\", \"45\", \"46\", \"47\", \"48\", \"49\", \"50\", \"51\", \"52\"], \"mode\": \"markers\", \"name\": \"average_precision_score_micro\", \"stepped\": false, \"type\": \"scatter\", \"data\": [0.9834011986147951, 0.9821345224664126, 0.9686189543794177, 0.892443780187602, 0.9692049480057262, 0.9706185273029776, 0.9692261188357661, 0.9644823244520018, 0.9694969819157879, 0.8324351907722507, 0.8306561259120558, 0.892693047190646, 0.8628632595806183, 0.9774588836967211, 0.9696126667863182, 0.9675336061689743, 0.817481542830947, 0.812899855038305, 0.8777787641458541, 0.9818163239492533, 0.976444917385924, 0.9832239048971505, 0.9833217408078303, 0.9833064791587113, 0.9823647660481967, 0.9831656118785526, 0.9802747968229216, 0.9829905392371852, 0.9799436871767131, 0.9826829900228133, 0.9831468329399795, 0.9789934807784447, 0.983436897454768, 0.9787856443822284, 0.9826316682612997, 0.8436818091648484, 0.9754444564658813, 0.9831885610176836, 0.9810228478347632, 0.9811514150980274, 0.9814930135950177, 0.9837380286171536, 0.9813930104178938, 0.9793857234806962, 0.9832933362550769, 0.9787603545221977, 0.9819534627644024, 0.983380442222535, 0.982786228004543, 0.9810285935621048, 0.9805915194053896, 0.9821757948004819, 0.9840071453337049]}, {\"categories\": [\"0\", \"1\", \"2\", \"3\", \"4\", \"5\", \"6\", \"7\", \"8\", \"9\", \"10\", \"11\", \"12\", \"13\", \"14\", \"15\", \"16\", \"17\", \"18\", \"19\", \"20\", \"21\", \"22\", \"23\", \"24\", \"25\", \"26\", \"27\", \"28\", \"29\", \"30\", \"31\", \"32\", \"33\", \"34\", \"35\", \"36\", \"37\", \"38\", \"39\", \"40\", \"41\", \"42\", \"43\", \"44\", \"45\", \"46\", \"47\", \"48\", \"49\", \"50\", \"51\", \"52\"], \"mode\": \"lines\", \"name\": \"average_precision_score_micro_max\", \"stepped\": true, \"type\": \"scatter\", \"data\": [0.9834011986147951, 0.9834011986147951, 0.9834011986147951, 0.9834011986147951, 0.9834011986147951, 0.9834011986147951, 0.9834011986147951, 0.9834011986147951, 0.9834011986147951, 0.9834011986147951, 0.9834011986147951, 0.9834011986147951, 0.9834011986147951, 0.9834011986147951, 0.9834011986147951, 0.9834011986147951, 0.9834011986147951, 0.9834011986147951, 0.9834011986147951, 0.9834011986147951, 0.9834011986147951, 0.9834011986147951, 0.9834011986147951, 0.9834011986147951, 0.9834011986147951, 0.9834011986147951, 0.9834011986147951, 0.9834011986147951, 0.9834011986147951, 0.9834011986147951, 0.9834011986147951, 0.9834011986147951, 0.983436897454768, 0.983436897454768, 0.983436897454768, 0.983436897454768, 0.983436897454768, 0.983436897454768, 0.983436897454768, 0.983436897454768, 0.983436897454768, 0.9837380286171536, 0.9837380286171536, 0.9837380286171536, 0.9837380286171536, 0.9837380286171536, 0.9837380286171536, 0.9837380286171536, 0.9837380286171536, 0.9837380286171536, 0.9837380286171536, 0.9837380286171536, 0.9840071453337049]}], \"weighted_accuracy\": [{\"categories\": [\"0\", \"1\", \"2\", \"3\", \"4\", \"5\", \"6\", \"7\", \"8\", \"9\", \"10\", \"11\", \"12\", \"13\", \"14\", \"15\", \"16\", \"17\", \"18\", \"19\", \"20\", \"21\", \"22\", \"23\", \"24\", \"25\", \"26\", \"27\", \"28\", \"29\", \"30\", \"31\", \"32\", \"33\", \"34\", \"35\", \"36\", \"37\", \"38\", \"39\", \"40\", \"41\", \"42\", \"43\", \"44\", \"45\", \"46\", \"47\", \"48\", \"49\", \"50\", \"51\", \"52\"], \"mode\": \"markers\", \"name\": \"weighted_accuracy\", \"stepped\": false, \"type\": \"scatter\", \"data\": [0.9617508999033835, 0.9619390032234071, 0.9833785066306421, 0.8310190924869824, 0.9841309199107364, 0.9747214788341014, 0.9792573338919431, 0.9841309199107364, 0.9841309199107364, 0.7433244696768899, 0.804393922552733, 0.7686542917482493, 0.796861239600879, 0.9736398847439658, 0.9822071359559497, 0.9841309199107364, 0.7287849380541567, 0.7836854570483169, 0.7458253888181127, 0.9588224732166524, 0.9816171755431483, 0.9572663457510026, 0.9588823242730236, 0.9590918029703225, 0.9599211676086082, 0.9558598459262807, 0.9668083141667451, 0.9590918029703225, 0.9672999478440796, 0.9609728361705585, 0.9604726523423139, 0.9644356472891746, 0.9587882726130116, 0.9730841249348051, 0.9597629898167703, 0.9841309199107364, 0.9800097471720377, 0.9606650307377926, 0.9642176184409655, 0.9673084979949896, 0.9621014560907002, 0.9595620612703815, 0.957403148165565, 0.9592542558376156, 0.9581085356156538, 0.9825576921432663, 0.964555349401917, 0.9615157707533538, 0.9594209837803636, 0.9599981189667999, 0.9619347281479518, 0.9558598459262807, 0.9627598177107827]}, {\"categories\": [\"0\", \"1\", \"2\", \"3\", \"4\", \"5\", \"6\", \"7\", \"8\", \"9\", \"10\", \"11\", \"12\", \"13\", \"14\", \"15\", \"16\", \"17\", \"18\", \"19\", \"20\", \"21\", \"22\", \"23\", \"24\", \"25\", \"26\", \"27\", \"28\", \"29\", \"30\", \"31\", \"32\", \"33\", \"34\", \"35\", \"36\", \"37\", \"38\", \"39\", \"40\", \"41\", \"42\", \"43\", \"44\", \"45\", \"46\", \"47\", \"48\", \"49\", \"50\", \"51\", \"52\"], \"mode\": \"lines\", \"name\": \"weighted_accuracy_max\", \"stepped\": true, \"type\": \"scatter\", \"data\": [0.9617508999033835, 0.9619390032234071, 0.9833785066306421, 0.9833785066306421, 0.9841309199107364, 0.9841309199107364, 0.9841309199107364, 0.9841309199107364, 0.9841309199107364, 0.9841309199107364, 0.9841309199107364, 0.9841309199107364, 0.9841309199107364, 0.9841309199107364, 0.9841309199107364, 0.9841309199107364, 0.9841309199107364, 0.9841309199107364, 0.9841309199107364, 0.9841309199107364, 0.9841309199107364, 0.9841309199107364, 0.9841309199107364, 0.9841309199107364, 0.9841309199107364, 0.9841309199107364, 0.9841309199107364, 0.9841309199107364, 0.9841309199107364, 0.9841309199107364, 0.9841309199107364, 0.9841309199107364, 0.9841309199107364, 0.9841309199107364, 0.9841309199107364, 0.9841309199107364, 0.9841309199107364, 0.9841309199107364, 0.9841309199107364, 0.9841309199107364, 0.9841309199107364, 0.9841309199107364, 0.9841309199107364, 0.9841309199107364, 0.9841309199107364, 0.9841309199107364, 0.9841309199107364, 0.9841309199107364, 0.9841309199107364, 0.9841309199107364, 0.9841309199107364, 0.9841309199107364, 0.9841309199107364]}], \"recall_score_macro\": [{\"categories\": [\"0\", \"1\", \"2\", \"3\", \"4\", \"5\", \"6\", \"7\", \"8\", \"9\", \"10\", \"11\", \"12\", \"13\", \"14\", \"15\", \"16\", \"17\", \"18\", \"19\", \"20\", \"21\", \"22\", \"23\", \"24\", \"25\", \"26\", \"27\", \"28\", \"29\", \"30\", \"31\", \"32\", \"33\", \"34\", \"35\", \"36\", \"37\", \"38\", \"39\", \"40\", \"41\", \"42\", \"43\", \"44\", \"45\", \"46\", \"47\", \"48\", \"49\", \"50\", \"51\", \"52\"], \"mode\": \"markers\", \"name\": \"recall_score_macro\", \"stepped\": false, \"type\": \"scatter\", \"data\": [0.7717056650246306, 0.7442357690202517, 0.5430863437328954, 0.8272099069512863, 0.5, 0.5959393814997264, 0.58022030651341, 0.5, 0.5, 0.7275246305418719, 0.7564313081554461, 0.8326320470717022, 0.7695675971538041, 0.6537014230979747, 0.5562739463601533, 0.5, 0.7286193212917351, 0.7384886425834701, 0.8146722769567597, 0.7712780514504652, 0.5877805145046524, 0.7556444991789819, 0.7564655172413793, 0.7714148877941982, 0.7474514230979749, 0.7697728516694033, 0.7223248494800218, 0.7714148877941982, 0.6960693760262726, 0.7638888888888888, 0.7731766557197592, 0.6893130815544608, 0.7702004652435688, 0.6862855774493706, 0.7675150519978107, 0.5, 0.6039272030651341, 0.7541906130268199, 0.7241892446633826, 0.7130370826491517, 0.7326559934318555, 0.7695333880678707, 0.7599548440065682, 0.7598351122058018, 0.7571325944170771, 0.5840175150519978, 0.7264812534209086, 0.7726464148877942, 0.7567391899288451, 0.766574302134647, 0.7357519157088123, 0.7697728516694033, 0.770097837985769]}, {\"categories\": [\"0\", \"1\", \"2\", \"3\", \"4\", \"5\", \"6\", \"7\", \"8\", \"9\", \"10\", \"11\", \"12\", \"13\", \"14\", \"15\", \"16\", \"17\", \"18\", \"19\", \"20\", \"21\", \"22\", \"23\", \"24\", \"25\", \"26\", \"27\", \"28\", \"29\", \"30\", \"31\", \"32\", \"33\", \"34\", \"35\", \"36\", \"37\", \"38\", \"39\", \"40\", \"41\", \"42\", \"43\", \"44\", \"45\", \"46\", \"47\", \"48\", \"49\", \"50\", \"51\", \"52\"], \"mode\": \"lines\", \"name\": \"recall_score_macro_max\", \"stepped\": true, \"type\": \"scatter\", \"data\": [0.7717056650246306, 0.7717056650246306, 0.7717056650246306, 0.8272099069512863, 0.8272099069512863, 0.8272099069512863, 0.8272099069512863, 0.8272099069512863, 0.8272099069512863, 0.8272099069512863, 0.8272099069512863, 0.8326320470717022, 0.8326320470717022, 0.8326320470717022, 0.8326320470717022, 0.8326320470717022, 0.8326320470717022, 0.8326320470717022, 0.8326320470717022, 0.8326320470717022, 0.8326320470717022, 0.8326320470717022, 0.8326320470717022, 0.8326320470717022, 0.8326320470717022, 0.8326320470717022, 0.8326320470717022, 0.8326320470717022, 0.8326320470717022, 0.8326320470717022, 0.8326320470717022, 0.8326320470717022, 0.8326320470717022, 0.8326320470717022, 0.8326320470717022, 0.8326320470717022, 0.8326320470717022, 0.8326320470717022, 0.8326320470717022, 0.8326320470717022, 0.8326320470717022, 0.8326320470717022, 0.8326320470717022, 0.8326320470717022, 0.8326320470717022, 0.8326320470717022, 0.8326320470717022, 0.8326320470717022, 0.8326320470717022, 0.8326320470717022, 0.8326320470717022, 0.8326320470717022, 0.8326320470717022]}], \"average_precision_score_macro\": [{\"categories\": [\"0\", \"1\", \"2\", \"3\", \"4\", \"5\", \"6\", \"7\", \"8\", \"9\", \"10\", \"11\", \"12\", \"13\", \"14\", \"15\", \"16\", \"17\", \"18\", \"19\", \"20\", \"21\", \"22\", \"23\", \"24\", \"25\", \"26\", \"27\", \"28\", \"29\", \"30\", \"31\", \"32\", \"33\", \"34\", \"35\", \"36\", \"37\", \"38\", \"39\", \"40\", \"41\", \"42\", \"43\", \"44\", \"45\", \"46\", \"47\", \"48\", \"49\", \"50\", \"51\", \"52\"], \"mode\": \"markers\", \"name\": \"average_precision_score_macro\", \"stepped\": false, \"type\": \"scatter\", \"data\": [0.8430327340366603, 0.835011073607492, 0.7450787258682946, 0.7636046988424202, 0.7293616989626565, 0.74585336907866, 0.7440806709888013, 0.7417406065913035, 0.7557655208338617, 0.7170621466480641, 0.7090109382489852, 0.7455250619211882, 0.724209427064877, 0.8187795247188092, 0.7616957333388974, 0.7232147885572185, 0.7111768348668246, 0.7048182691287104, 0.743957590260615, 0.8422462184236938, 0.8095610383407985, 0.8398919190459833, 0.8436662124543867, 0.836127798466554, 0.8386494894168779, 0.8328362531102742, 0.829774535920889, 0.8330697506177718, 0.8232958435708755, 0.8369760693664343, 0.8388864281194647, 0.803510940962133, 0.837083837346751, 0.8287452711802686, 0.8326625104991349, 0.5, 0.7986943736376069, 0.8441659987199678, 0.8226444877143295, 0.8248368057217452, 0.8223267902040267, 0.8423660386093584, 0.8307491363150337, 0.8273526375816307, 0.842969531852992, 0.8340432952963421, 0.8312292780082204, 0.8377985946576944, 0.8360866174512858, 0.8355904759669108, 0.8217097193486729, 0.8298131160948695, 0.8443545488910513]}, {\"categories\": [\"0\", \"1\", \"2\", \"3\", \"4\", \"5\", \"6\", \"7\", \"8\", \"9\", \"10\", \"11\", \"12\", \"13\", \"14\", \"15\", \"16\", \"17\", \"18\", \"19\", \"20\", \"21\", \"22\", \"23\", \"24\", \"25\", \"26\", \"27\", \"28\", \"29\", \"30\", \"31\", \"32\", \"33\", \"34\", \"35\", \"36\", \"37\", \"38\", \"39\", \"40\", \"41\", \"42\", \"43\", \"44\", \"45\", \"46\", \"47\", \"48\", \"49\", \"50\", \"51\", \"52\"], \"mode\": \"lines\", \"name\": \"average_precision_score_macro_max\", \"stepped\": true, \"type\": \"scatter\", \"data\": [0.8430327340366603, 0.8430327340366603, 0.8430327340366603, 0.8430327340366603, 0.8430327340366603, 0.8430327340366603, 0.8430327340366603, 0.8430327340366603, 0.8430327340366603, 0.8430327340366603, 0.8430327340366603, 0.8430327340366603, 0.8430327340366603, 0.8430327340366603, 0.8430327340366603, 0.8430327340366603, 0.8430327340366603, 0.8430327340366603, 0.8430327340366603, 0.8430327340366603, 0.8430327340366603, 0.8430327340366603, 0.8436662124543867, 0.8436662124543867, 0.8436662124543867, 0.8436662124543867, 0.8436662124543867, 0.8436662124543867, 0.8436662124543867, 0.8436662124543867, 0.8436662124543867, 0.8436662124543867, 0.8436662124543867, 0.8436662124543867, 0.8436662124543867, 0.8436662124543867, 0.8436662124543867, 0.8441659987199678, 0.8441659987199678, 0.8441659987199678, 0.8441659987199678, 0.8441659987199678, 0.8441659987199678, 0.8441659987199678, 0.8441659987199678, 0.8441659987199678, 0.8441659987199678, 0.8441659987199678, 0.8441659987199678, 0.8441659987199678, 0.8441659987199678, 0.8441659987199678, 0.8443545488910513]}], \"f1_score_micro\": [{\"categories\": [\"0\", \"1\", \"2\", \"3\", \"4\", \"5\", \"6\", \"7\", \"8\", \"9\", \"10\", \"11\", \"12\", \"13\", \"14\", \"15\", \"16\", \"17\", \"18\", \"19\", \"20\", \"21\", \"22\", \"23\", \"24\", \"25\", \"26\", \"27\", \"28\", \"29\", \"30\", \"31\", \"32\", \"33\", \"34\", \"35\", \"36\", \"37\", \"38\", \"39\", \"40\", \"41\", \"42\", \"43\", \"44\", \"45\", \"46\", \"47\", \"48\", \"49\", \"50\", \"51\", \"52\"], \"mode\": \"markers\", \"name\": \"f1_score_micro\", \"stepped\": false, \"type\": \"scatter\", \"data\": [0.9237493929091792, 0.9184069936862554, 0.8953375424963576, 0.8302574065080135, 0.8873239436619719, 0.8989800874210782, 0.8994657600777076, 0.8873239436619719, 0.8873239436619719, 0.740165128703254, 0.7948033025740651, 0.7814473045167557, 0.791403593977659, 0.9096648858669257, 0.8970373967945605, 0.8873239436619719, 0.7287518212724625, 0.7746478873239436, 0.7595920349684313, 0.921321029626032, 0.9028654686741137, 0.9169499757163673, 0.9184069936862554, 0.9215638659543468, 0.9174356483729966, 0.9186498300145702, 0.917921321029626, 0.9215638659543468, 0.9130645944633318, 0.9215638659543468, 0.9230208839242351, 0.9094220495386109, 0.9210781932977173, 0.9157357940747936, 0.921321029626032, 0.8873239436619719, 0.9048081593006315, 0.9193783389995144, 0.916221466731423, 0.9164643030597377, 0.916221466731423, 0.9215638659543468, 0.917921321029626, 0.9193783389995144, 0.917921321029626, 0.9028654686741137, 0.9169499757163673, 0.9237493929091792, 0.9188926663428849, 0.921321029626032, 0.9167071393880525, 0.9186498300145702, 0.9242350655658087]}, {\"categories\": [\"0\", \"1\", \"2\", \"3\", \"4\", \"5\", \"6\", \"7\", \"8\", \"9\", \"10\", \"11\", \"12\", \"13\", \"14\", \"15\", \"16\", \"17\", \"18\", \"19\", \"20\", \"21\", \"22\", \"23\", \"24\", \"25\", \"26\", \"27\", \"28\", \"29\", \"30\", \"31\", \"32\", \"33\", \"34\", \"35\", \"36\", \"37\", \"38\", \"39\", \"40\", \"41\", \"42\", \"43\", \"44\", \"45\", \"46\", \"47\", \"48\", \"49\", \"50\", \"51\", \"52\"], \"mode\": \"lines\", \"name\": \"f1_score_micro_max\", \"stepped\": true, \"type\": \"scatter\", \"data\": [0.9237493929091792, 0.9237493929091792, 0.9237493929091792, 0.9237493929091792, 0.9237493929091792, 0.9237493929091792, 0.9237493929091792, 0.9237493929091792, 0.9237493929091792, 0.9237493929091792, 0.9237493929091792, 0.9237493929091792, 0.9237493929091792, 0.9237493929091792, 0.9237493929091792, 0.9237493929091792, 0.9237493929091792, 0.9237493929091792, 0.9237493929091792, 0.9237493929091792, 0.9237493929091792, 0.9237493929091792, 0.9237493929091792, 0.9237493929091792, 0.9237493929091792, 0.9237493929091792, 0.9237493929091792, 0.9237493929091792, 0.9237493929091792, 0.9237493929091792, 0.9237493929091792, 0.9237493929091792, 0.9237493929091792, 0.9237493929091792, 0.9237493929091792, 0.9237493929091792, 0.9237493929091792, 0.9237493929091792, 0.9237493929091792, 0.9237493929091792, 0.9237493929091792, 0.9237493929091792, 0.9237493929091792, 0.9237493929091792, 0.9237493929091792, 0.9237493929091792, 0.9237493929091792, 0.9237493929091792, 0.9237493929091792, 0.9237493929091792, 0.9237493929091792, 0.9237493929091792, 0.9242350655658087]}], \"balanced_accuracy\": [{\"categories\": [\"0\", \"1\", \"2\", \"3\", \"4\", \"5\", \"6\", \"7\", \"8\", \"9\", \"10\", \"11\", \"12\", \"13\", \"14\", \"15\", \"16\", \"17\", \"18\", \"19\", \"20\", \"21\", \"22\", \"23\", \"24\", \"25\", \"26\", \"27\", \"28\", \"29\", \"30\", \"31\", \"32\", \"33\", \"34\", \"35\", \"36\", \"37\", \"38\", \"39\", \"40\", \"41\", \"42\", \"43\", \"44\", \"45\", \"46\", \"47\", \"48\", \"49\", \"50\", \"51\", \"52\"], \"mode\": \"markers\", \"name\": \"balanced_accuracy\", \"stepped\": false, \"type\": \"scatter\", \"data\": [0.7717056650246306, 0.7442357690202517, 0.5430863437328954, 0.8272099069512863, 0.5, 0.5959393814997264, 0.58022030651341, 0.5, 0.5, 0.7275246305418719, 0.7564313081554461, 0.8326320470717022, 0.7695675971538041, 0.6537014230979747, 0.5562739463601533, 0.5, 0.7286193212917351, 0.7384886425834701, 0.8146722769567597, 0.7712780514504652, 0.5877805145046524, 0.7556444991789819, 0.7564655172413793, 0.7714148877941982, 0.7474514230979749, 0.7697728516694033, 0.7223248494800218, 0.7714148877941982, 0.6960693760262726, 0.7638888888888888, 0.7731766557197592, 0.6893130815544608, 0.7702004652435688, 0.6862855774493706, 0.7675150519978107, 0.5, 0.6039272030651341, 0.7541906130268199, 0.7241892446633826, 0.7130370826491517, 0.7326559934318555, 0.7695333880678707, 0.7599548440065682, 0.7598351122058018, 0.7571325944170771, 0.5840175150519978, 0.7264812534209086, 0.7726464148877942, 0.7567391899288451, 0.766574302134647, 0.7357519157088123, 0.7697728516694033, 0.770097837985769]}, {\"categories\": [\"0\", \"1\", \"2\", \"3\", \"4\", \"5\", \"6\", \"7\", \"8\", \"9\", \"10\", \"11\", \"12\", \"13\", \"14\", \"15\", \"16\", \"17\", \"18\", \"19\", \"20\", \"21\", \"22\", \"23\", \"24\", \"25\", \"26\", \"27\", \"28\", \"29\", \"30\", \"31\", \"32\", \"33\", \"34\", \"35\", \"36\", \"37\", \"38\", \"39\", \"40\", \"41\", \"42\", \"43\", \"44\", \"45\", \"46\", \"47\", \"48\", \"49\", \"50\", \"51\", \"52\"], \"mode\": \"lines\", \"name\": \"balanced_accuracy_max\", \"stepped\": true, \"type\": \"scatter\", \"data\": [0.7717056650246306, 0.7717056650246306, 0.7717056650246306, 0.8272099069512863, 0.8272099069512863, 0.8272099069512863, 0.8272099069512863, 0.8272099069512863, 0.8272099069512863, 0.8272099069512863, 0.8272099069512863, 0.8326320470717022, 0.8326320470717022, 0.8326320470717022, 0.8326320470717022, 0.8326320470717022, 0.8326320470717022, 0.8326320470717022, 0.8326320470717022, 0.8326320470717022, 0.8326320470717022, 0.8326320470717022, 0.8326320470717022, 0.8326320470717022, 0.8326320470717022, 0.8326320470717022, 0.8326320470717022, 0.8326320470717022, 0.8326320470717022, 0.8326320470717022, 0.8326320470717022, 0.8326320470717022, 0.8326320470717022, 0.8326320470717022, 0.8326320470717022, 0.8326320470717022, 0.8326320470717022, 0.8326320470717022, 0.8326320470717022, 0.8326320470717022, 0.8326320470717022, 0.8326320470717022, 0.8326320470717022, 0.8326320470717022, 0.8326320470717022, 0.8326320470717022, 0.8326320470717022, 0.8326320470717022, 0.8326320470717022, 0.8326320470717022, 0.8326320470717022, 0.8326320470717022, 0.8326320470717022]}], \"AUC_macro\": [{\"categories\": [\"0\", \"1\", \"2\", \"3\", \"4\", \"5\", \"6\", \"7\", \"8\", \"9\", \"10\", \"11\", \"12\", \"13\", \"14\", \"15\", \"16\", \"17\", \"18\", \"19\", \"20\", \"21\", \"22\", \"23\", \"24\", \"25\", \"26\", \"27\", \"28\", \"29\", \"30\", \"31\", \"32\", \"33\", \"34\", \"35\", \"36\", \"37\", \"38\", \"39\", \"40\", \"41\", \"42\", \"43\", \"44\", \"45\", \"46\", \"47\", \"48\", \"49\", \"50\", \"51\", \"52\"], \"mode\": \"markers\", \"name\": \"AUC_macro\", \"stepped\": false, \"type\": \"scatter\", \"data\": [0.9537056697431252, 0.949479373100806, 0.902030781099598, 0.9096726780288018, 0.9051942368306816, 0.9104972349621577, 0.8995252604609025, 0.8825360257063586, 0.905049732933205, 0.8489182261291357, 0.8611329341486892, 0.9042316639299397, 0.8715389842024801, 0.9367267566955437, 0.9047052828265669, 0.8963762551195665, 0.8567323481116584, 0.8211321909857879, 0.8950173286714607, 0.9489048963818583, 0.9360953631353452, 0.9530244370835929, 0.9532338202819772, 0.9537127474850424, 0.949933823113074, 0.953377144555801, 0.943337072740313, 0.9525301747730406, 0.9425706122718609, 0.9511700687012815, 0.9527318904176811, 0.9397005879244285, 0.9540229885057472, 0.9407908550855935, 0.9514354840231772, 0.5, 0.9279851556159523, 0.9529430430515448, 0.9461613866711965, 0.9468679812392655, 0.9482328058056357, 0.9550451324009587, 0.9482159961685823, 0.9414482003661553, 0.9532072787497876, 0.9487344407640186, 0.9497686758016721, 0.9538094766245777, 0.952275965875847, 0.9464869627993885, 0.9445426481135457, 0.9503632061227187, 0.9557074910820451]}, {\"categories\": [\"0\", \"1\", \"2\", \"3\", \"4\", \"5\", \"6\", \"7\", \"8\", \"9\", \"10\", \"11\", \"12\", \"13\", \"14\", \"15\", \"16\", \"17\", \"18\", \"19\", \"20\", \"21\", \"22\", \"23\", \"24\", \"25\", \"26\", \"27\", \"28\", \"29\", \"30\", \"31\", \"32\", \"33\", \"34\", \"35\", \"36\", \"37\", \"38\", \"39\", \"40\", \"41\", \"42\", \"43\", \"44\", \"45\", \"46\", \"47\", \"48\", \"49\", \"50\", \"51\", \"52\"], \"mode\": \"lines\", \"name\": \"AUC_macro_max\", \"stepped\": true, \"type\": \"scatter\", \"data\": [0.9537056697431252, 0.9537056697431252, 0.9537056697431252, 0.9537056697431252, 0.9537056697431252, 0.9537056697431252, 0.9537056697431252, 0.9537056697431252, 0.9537056697431252, 0.9537056697431252, 0.9537056697431252, 0.9537056697431252, 0.9537056697431252, 0.9537056697431252, 0.9537056697431252, 0.9537056697431252, 0.9537056697431252, 0.9537056697431252, 0.9537056697431252, 0.9537056697431252, 0.9537056697431252, 0.9537056697431252, 0.9537056697431252, 0.9537127474850424, 0.9537127474850424, 0.9537127474850424, 0.9537127474850424, 0.9537127474850424, 0.9537127474850424, 0.9537127474850424, 0.9537127474850424, 0.9537127474850424, 0.9540229885057472, 0.9540229885057472, 0.9540229885057472, 0.9540229885057472, 0.9540229885057472, 0.9540229885057472, 0.9540229885057472, 0.9540229885057472, 0.9540229885057472, 0.9550451324009587, 0.9550451324009587, 0.9550451324009587, 0.9550451324009587, 0.9550451324009587, 0.9550451324009587, 0.9550451324009587, 0.9550451324009587, 0.9550451324009587, 0.9550451324009587, 0.9550451324009587, 0.9557074910820451]}], \"accuracy\": [{\"categories\": [\"0\", \"1\", \"2\", \"3\", \"4\", \"5\", \"6\", \"7\", \"8\", \"9\", \"10\", \"11\", \"12\", \"13\", \"14\", \"15\", \"16\", \"17\", \"18\", \"19\", \"20\", \"21\", \"22\", \"23\", \"24\", \"25\", \"26\", \"27\", \"28\", \"29\", \"30\", \"31\", \"32\", \"33\", \"34\", \"35\", \"36\", \"37\", \"38\", \"39\", \"40\", \"41\", \"42\", \"43\", \"44\", \"45\", \"46\", \"47\", \"48\", \"49\", \"50\", \"51\", \"52\"], \"mode\": \"markers\", \"name\": \"accuracy\", \"stepped\": false, \"type\": \"scatter\", \"data\": [0.9237493929091792, 0.9184069936862554, 0.8953375424963574, 0.8302574065080136, 0.8873239436619719, 0.8989800874210782, 0.8994657600777076, 0.8873239436619719, 0.8873239436619719, 0.740165128703254, 0.7948033025740651, 0.7814473045167557, 0.791403593977659, 0.9096648858669257, 0.8970373967945605, 0.8873239436619719, 0.7287518212724624, 0.7746478873239436, 0.7595920349684313, 0.921321029626032, 0.9028654686741137, 0.9169499757163672, 0.9184069936862554, 0.9215638659543468, 0.9174356483729966, 0.9186498300145702, 0.917921321029626, 0.9215638659543468, 0.9130645944633318, 0.9215638659543468, 0.9230208839242351, 0.9094220495386109, 0.9210781932977173, 0.9157357940747936, 0.921321029626032, 0.8873239436619719, 0.9048081593006314, 0.9193783389995144, 0.916221466731423, 0.9164643030597377, 0.916221466731423, 0.9215638659543468, 0.917921321029626, 0.9193783389995144, 0.917921321029626, 0.9028654686741137, 0.9169499757163672, 0.9237493929091792, 0.9188926663428849, 0.921321029626032, 0.9167071393880525, 0.9186498300145702, 0.9242350655658087]}, {\"categories\": [\"0\", \"1\", \"2\", \"3\", \"4\", \"5\", \"6\", \"7\", \"8\", \"9\", \"10\", \"11\", \"12\", \"13\", \"14\", \"15\", \"16\", \"17\", \"18\", \"19\", \"20\", \"21\", \"22\", \"23\", \"24\", \"25\", \"26\", \"27\", \"28\", \"29\", \"30\", \"31\", \"32\", \"33\", \"34\", \"35\", \"36\", \"37\", \"38\", \"39\", \"40\", \"41\", \"42\", \"43\", \"44\", \"45\", \"46\", \"47\", \"48\", \"49\", \"50\", \"51\", \"52\"], \"mode\": \"lines\", \"name\": \"accuracy_max\", \"stepped\": true, \"type\": \"scatter\", \"data\": [0.9237493929091792, 0.9237493929091792, 0.9237493929091792, 0.9237493929091792, 0.9237493929091792, 0.9237493929091792, 0.9237493929091792, 0.9237493929091792, 0.9237493929091792, 0.9237493929091792, 0.9237493929091792, 0.9237493929091792, 0.9237493929091792, 0.9237493929091792, 0.9237493929091792, 0.9237493929091792, 0.9237493929091792, 0.9237493929091792, 0.9237493929091792, 0.9237493929091792, 0.9237493929091792, 0.9237493929091792, 0.9237493929091792, 0.9237493929091792, 0.9237493929091792, 0.9237493929091792, 0.9237493929091792, 0.9237493929091792, 0.9237493929091792, 0.9237493929091792, 0.9237493929091792, 0.9237493929091792, 0.9237493929091792, 0.9237493929091792, 0.9237493929091792, 0.9237493929091792, 0.9237493929091792, 0.9237493929091792, 0.9237493929091792, 0.9237493929091792, 0.9237493929091792, 0.9237493929091792, 0.9237493929091792, 0.9237493929091792, 0.9237493929091792, 0.9237493929091792, 0.9237493929091792, 0.9237493929091792, 0.9237493929091792, 0.9237493929091792, 0.9237493929091792, 0.9237493929091792, 0.9242350655658087]}], \"f1_score_macro\": [{\"categories\": [\"0\", \"1\", \"2\", \"3\", \"4\", \"5\", \"6\", \"7\", \"8\", \"9\", \"10\", \"11\", \"12\", \"13\", \"14\", \"15\", \"16\", \"17\", \"18\", \"19\", \"20\", \"21\", \"22\", \"23\", \"24\", \"25\", \"26\", \"27\", \"28\", \"29\", \"30\", \"31\", \"32\", \"33\", \"34\", \"35\", \"36\", \"37\", \"38\", \"39\", \"40\", \"41\", \"42\", \"43\", \"44\", \"45\", \"46\", \"47\", \"48\", \"49\", \"50\", \"51\", \"52\"], \"mode\": \"markers\", \"name\": \"f1_score_macro\", \"stepped\": false, \"type\": \"scatter\", \"data\": [0.7936078137928921, 0.7719734129827598, 0.5520183629113211, 0.7095053648240839, 0.47014925373134325, 0.6295048639857432, 0.6098397572328944, 0.47014925373134325, 0.47014925373134325, 0.6085196590430532, 0.655788988978889, 0.6712749550577464, 0.6581559725791256, 0.6986241217798596, 0.5739855870205107, 0.47014925373134325, 0.6018276535259346, 0.6348516380300451, 0.6497663975324323, 0.7896647833324926, 0.6218049034950444, 0.7756716203947054, 0.7782205945713054, 0.7900983186738255, 0.7722263615629139, 0.7849496057235364, 0.7590056631463324, 0.7900983186738255, 0.735516450522134, 0.786577312802226, 0.7931458280348389, 0.7260914913843541, 0.7887986178606603, 0.7322387875673901, 0.7879198266522209, 0.47014925373134325, 0.6432778932778933, 0.7785328613628956, 0.7576557439380673, 0.7512651031010742, 0.7625007209181613, 0.7892306071143627, 0.7792142035472067, 0.7813197183594212, 0.777832614847126, 0.6168019057544852, 0.7600357401843987, 0.7940376865612206, 0.7790768273948769, 0.7874783772160368, 0.7649184655658712, 0.7849496057235364, 0.793628653135334]}, {\"categories\": [\"0\", \"1\", \"2\", \"3\", \"4\", \"5\", \"6\", \"7\", \"8\", \"9\", \"10\", \"11\", \"12\", \"13\", \"14\", \"15\", \"16\", \"17\", \"18\", \"19\", \"20\", \"21\", \"22\", \"23\", \"24\", \"25\", \"26\", \"27\", \"28\", \"29\", \"30\", \"31\", \"32\", \"33\", \"34\", \"35\", \"36\", \"37\", \"38\", \"39\", \"40\", \"41\", \"42\", \"43\", \"44\", \"45\", \"46\", \"47\", \"48\", \"49\", \"50\", \"51\", \"52\"], \"mode\": \"lines\", \"name\": \"f1_score_macro_max\", \"stepped\": true, \"type\": \"scatter\", \"data\": [0.7936078137928921, 0.7936078137928921, 0.7936078137928921, 0.7936078137928921, 0.7936078137928921, 0.7936078137928921, 0.7936078137928921, 0.7936078137928921, 0.7936078137928921, 0.7936078137928921, 0.7936078137928921, 0.7936078137928921, 0.7936078137928921, 0.7936078137928921, 0.7936078137928921, 0.7936078137928921, 0.7936078137928921, 0.7936078137928921, 0.7936078137928921, 0.7936078137928921, 0.7936078137928921, 0.7936078137928921, 0.7936078137928921, 0.7936078137928921, 0.7936078137928921, 0.7936078137928921, 0.7936078137928921, 0.7936078137928921, 0.7936078137928921, 0.7936078137928921, 0.7936078137928921, 0.7936078137928921, 0.7936078137928921, 0.7936078137928921, 0.7936078137928921, 0.7936078137928921, 0.7936078137928921, 0.7936078137928921, 0.7936078137928921, 0.7936078137928921, 0.7936078137928921, 0.7936078137928921, 0.7936078137928921, 0.7936078137928921, 0.7936078137928921, 0.7936078137928921, 0.7936078137928921, 0.7940376865612206, 0.7940376865612206, 0.7940376865612206, 0.7940376865612206, 0.7940376865612206, 0.7940376865612206]}], \"precision_score_weighted\": [{\"categories\": [\"0\", \"1\", \"2\", \"3\", \"4\", \"5\", \"6\", \"7\", \"8\", \"9\", \"10\", \"11\", \"12\", \"13\", \"14\", \"15\", \"16\", \"17\", \"18\", \"19\", \"20\", \"21\", \"22\", \"23\", \"24\", \"25\", \"26\", \"27\", \"28\", \"29\", \"30\", \"31\", \"32\", \"33\", \"34\", \"35\", \"36\", \"37\", \"38\", \"39\", \"40\", \"41\", \"42\", \"43\", \"44\", \"45\", \"46\", \"47\", \"48\", \"49\", \"50\", \"51\", \"52\"], \"mode\": \"markers\", \"name\": \"precision_score_weighted\", \"stepped\": false, \"type\": \"scatter\", \"data\": [0.9188551905972525, 0.9114628481879106, 0.8893605992236112, 0.9070811121531605, 0.7873437809958341, 0.8803560801428287, 0.8848658648026159, 0.7873437809958341, 0.7873437809958341, 0.8750039437518472, 0.8837952225016306, 0.9096773899612841, 0.8880302890357642, 0.8973224750826423, 0.8869741323759551, 0.7873437809958341, 0.8758933952614035, 0.8778992224566321, 0.9047007602395916, 0.9168531016318439, 0.894329759169019, 0.9115384877111662, 0.9127893320895212, 0.9170587042897129, 0.9109570767726825, 0.9146536374040445, 0.9092387818371329, 0.9170587042897129, 0.9023362687851969, 0.9162090697629369, 0.9184171763490788, 0.897757725540449, 0.9165351127152761, 0.9057295193090601, 0.9164124349757926, 0.7873437809958341, 0.894403261675315, 0.9133340496989841, 0.9076012974037276, 0.9071160686314733, 0.908349249740393, 0.9168384143518258, 0.9128321762865075, 0.9139657360736726, 0.9124824603755366, 0.8965035030337836, 0.9085116594514928, 0.9189538376486196, 0.9132144819800164, 0.9163054983852434, 0.9090951506138278, 0.9146536374040445, 0.9191031911413021]}, {\"categories\": [\"0\", \"1\", \"2\", \"3\", \"4\", \"5\", \"6\", \"7\", \"8\", \"9\", \"10\", \"11\", \"12\", \"13\", \"14\", \"15\", \"16\", \"17\", \"18\", \"19\", \"20\", \"21\", \"22\", \"23\", \"24\", \"25\", \"26\", \"27\", \"28\", \"29\", \"30\", \"31\", \"32\", \"33\", \"34\", \"35\", \"36\", \"37\", \"38\", \"39\", \"40\", \"41\", \"42\", \"43\", \"44\", \"45\", \"46\", \"47\", \"48\", \"49\", \"50\", \"51\", \"52\"], \"mode\": \"lines\", \"name\": \"precision_score_weighted_max\", \"stepped\": true, \"type\": \"scatter\", \"data\": [0.9188551905972525, 0.9188551905972525, 0.9188551905972525, 0.9188551905972525, 0.9188551905972525, 0.9188551905972525, 0.9188551905972525, 0.9188551905972525, 0.9188551905972525, 0.9188551905972525, 0.9188551905972525, 0.9188551905972525, 0.9188551905972525, 0.9188551905972525, 0.9188551905972525, 0.9188551905972525, 0.9188551905972525, 0.9188551905972525, 0.9188551905972525, 0.9188551905972525, 0.9188551905972525, 0.9188551905972525, 0.9188551905972525, 0.9188551905972525, 0.9188551905972525, 0.9188551905972525, 0.9188551905972525, 0.9188551905972525, 0.9188551905972525, 0.9188551905972525, 0.9188551905972525, 0.9188551905972525, 0.9188551905972525, 0.9188551905972525, 0.9188551905972525, 0.9188551905972525, 0.9188551905972525, 0.9188551905972525, 0.9188551905972525, 0.9188551905972525, 0.9188551905972525, 0.9188551905972525, 0.9188551905972525, 0.9188551905972525, 0.9188551905972525, 0.9188551905972525, 0.9188551905972525, 0.9189538376486196, 0.9189538376486196, 0.9189538376486196, 0.9189538376486196, 0.9189538376486196, 0.9191031911413021]}], \"AUC_micro\": [{\"categories\": [\"0\", \"1\", \"2\", \"3\", \"4\", \"5\", \"6\", \"7\", \"8\", \"9\", \"10\", \"11\", \"12\", \"13\", \"14\", \"15\", \"16\", \"17\", \"18\", \"19\", \"20\", \"21\", \"22\", \"23\", \"24\", \"25\", \"26\", \"27\", \"28\", \"29\", \"30\", \"31\", \"32\", \"33\", \"34\", \"35\", \"36\", \"37\", \"38\", \"39\", \"40\", \"41\", \"42\", \"43\", \"44\", \"45\", \"46\", \"47\", \"48\", \"49\", \"50\", \"51\", \"52\"], \"mode\": \"markers\", \"name\": \"AUC_micro\", \"stepped\": false, \"type\": \"scatter\", \"data\": [0.9826734687571428, 0.9813265468108007, 0.967853022575169, 0.9009355744252658, 0.968346715081398, 0.9698090403046976, 0.9676419707978405, 0.963815971813531, 0.9683178200350467, 0.8489374642792361, 0.8600630006361628, 0.8837641918904697, 0.8665137902493254, 0.9773762401576986, 0.9685067582564942, 0.9665834685896694, 0.8441415942187263, 0.8432577596172739, 0.868386071313918, 0.9816591346912512, 0.975387494365466, 0.9824658961792729, 0.9825777023178072, 0.9825600704425849, 0.981579113103703, 0.9823979043661242, 0.9797701062936712, 0.9822359741675926, 0.9790489684940209, 0.9819268561411173, 0.9824067497884764, 0.9779867512084615, 0.9827191701059634, 0.9787493150694625, 0.9818461269197809, 0.8873239436619719, 0.9742499140814642, 0.9824347602925924, 0.9801455060183074, 0.9802673959383235, 0.9806552382237355, 0.9830194427100865, 0.9811928040248323, 0.9796651995845718, 0.982539136276351, 0.9776480305018469, 0.9812528939273463, 0.9826498809642028, 0.9821547731903977, 0.9809246697885896, 0.9796846595137471, 0.981391413241385, 0.9833039704624221]}, {\"categories\": [\"0\", \"1\", \"2\", \"3\", \"4\", \"5\", \"6\", \"7\", \"8\", \"9\", \"10\", \"11\", \"12\", \"13\", \"14\", \"15\", \"16\", \"17\", \"18\", \"19\", \"20\", \"21\", \"22\", \"23\", \"24\", \"25\", \"26\", \"27\", \"28\", \"29\", \"30\", \"31\", \"32\", \"33\", \"34\", \"35\", \"36\", \"37\", \"38\", \"39\", \"40\", \"41\", \"42\", \"43\", \"44\", \"45\", \"46\", \"47\", \"48\", \"49\", \"50\", \"51\", \"52\"], \"mode\": \"lines\", \"name\": \"AUC_micro_max\", \"stepped\": true, \"type\": \"scatter\", \"data\": [0.9826734687571428, 0.9826734687571428, 0.9826734687571428, 0.9826734687571428, 0.9826734687571428, 0.9826734687571428, 0.9826734687571428, 0.9826734687571428, 0.9826734687571428, 0.9826734687571428, 0.9826734687571428, 0.9826734687571428, 0.9826734687571428, 0.9826734687571428, 0.9826734687571428, 0.9826734687571428, 0.9826734687571428, 0.9826734687571428, 0.9826734687571428, 0.9826734687571428, 0.9826734687571428, 0.9826734687571428, 0.9826734687571428, 0.9826734687571428, 0.9826734687571428, 0.9826734687571428, 0.9826734687571428, 0.9826734687571428, 0.9826734687571428, 0.9826734687571428, 0.9826734687571428, 0.9826734687571428, 0.9827191701059634, 0.9827191701059634, 0.9827191701059634, 0.9827191701059634, 0.9827191701059634, 0.9827191701059634, 0.9827191701059634, 0.9827191701059634, 0.9827191701059634, 0.9830194427100865, 0.9830194427100865, 0.9830194427100865, 0.9830194427100865, 0.9830194427100865, 0.9830194427100865, 0.9830194427100865, 0.9830194427100865, 0.9830194427100865, 0.9830194427100865, 0.9830194427100865, 0.9833039704624221]}], \"recall_score_weighted\": [{\"categories\": [\"0\", \"1\", \"2\", \"3\", \"4\", \"5\", \"6\", \"7\", \"8\", \"9\", \"10\", \"11\", \"12\", \"13\", \"14\", \"15\", \"16\", \"17\", \"18\", \"19\", \"20\", \"21\", \"22\", \"23\", \"24\", \"25\", \"26\", \"27\", \"28\", \"29\", \"30\", \"31\", \"32\", \"33\", \"34\", \"35\", \"36\", \"37\", \"38\", \"39\", \"40\", \"41\", \"42\", \"43\", \"44\", \"45\", \"46\", \"47\", \"48\", \"49\", \"50\", \"51\", \"52\"], \"mode\": \"markers\", \"name\": \"recall_score_weighted\", \"stepped\": false, \"type\": \"scatter\", \"data\": [0.9237493929091792, 0.9184069936862554, 0.8953375424963574, 0.8302574065080136, 0.8873239436619719, 0.8989800874210782, 0.8994657600777076, 0.8873239436619719, 0.8873239436619719, 0.740165128703254, 0.7948033025740651, 0.7814473045167557, 0.791403593977659, 0.9096648858669257, 0.8970373967945605, 0.8873239436619719, 0.7287518212724624, 0.7746478873239436, 0.7595920349684313, 0.921321029626032, 0.9028654686741137, 0.9169499757163672, 0.9184069936862554, 0.9215638659543468, 0.9174356483729966, 0.9186498300145702, 0.917921321029626, 0.9215638659543468, 0.9130645944633318, 0.9215638659543468, 0.9230208839242351, 0.9094220495386109, 0.9210781932977173, 0.9157357940747936, 0.921321029626032, 0.8873239436619719, 0.9048081593006314, 0.9193783389995144, 0.916221466731423, 0.9164643030597377, 0.916221466731423, 0.9215638659543468, 0.917921321029626, 0.9193783389995144, 0.917921321029626, 0.9028654686741137, 0.9169499757163672, 0.9237493929091792, 0.9188926663428849, 0.921321029626032, 0.9167071393880525, 0.9186498300145702, 0.9242350655658087]}, {\"categories\": [\"0\", \"1\", \"2\", \"3\", \"4\", \"5\", \"6\", \"7\", \"8\", \"9\", \"10\", \"11\", \"12\", \"13\", \"14\", \"15\", \"16\", \"17\", \"18\", \"19\", \"20\", \"21\", \"22\", \"23\", \"24\", \"25\", \"26\", \"27\", \"28\", \"29\", \"30\", \"31\", \"32\", \"33\", \"34\", \"35\", \"36\", \"37\", \"38\", \"39\", \"40\", \"41\", \"42\", \"43\", \"44\", \"45\", \"46\", \"47\", \"48\", \"49\", \"50\", \"51\", \"52\"], \"mode\": \"lines\", \"name\": \"recall_score_weighted_max\", \"stepped\": true, \"type\": \"scatter\", \"data\": [0.9237493929091792, 0.9237493929091792, 0.9237493929091792, 0.9237493929091792, 0.9237493929091792, 0.9237493929091792, 0.9237493929091792, 0.9237493929091792, 0.9237493929091792, 0.9237493929091792, 0.9237493929091792, 0.9237493929091792, 0.9237493929091792, 0.9237493929091792, 0.9237493929091792, 0.9237493929091792, 0.9237493929091792, 0.9237493929091792, 0.9237493929091792, 0.9237493929091792, 0.9237493929091792, 0.9237493929091792, 0.9237493929091792, 0.9237493929091792, 0.9237493929091792, 0.9237493929091792, 0.9237493929091792, 0.9237493929091792, 0.9237493929091792, 0.9237493929091792, 0.9237493929091792, 0.9237493929091792, 0.9237493929091792, 0.9237493929091792, 0.9237493929091792, 0.9237493929091792, 0.9237493929091792, 0.9237493929091792, 0.9237493929091792, 0.9237493929091792, 0.9237493929091792, 0.9237493929091792, 0.9237493929091792, 0.9237493929091792, 0.9237493929091792, 0.9237493929091792, 0.9237493929091792, 0.9237493929091792, 0.9237493929091792, 0.9237493929091792, 0.9237493929091792, 0.9237493929091792, 0.9242350655658087]}], \"precision_score_macro\": [{\"categories\": [\"0\", \"1\", \"2\", \"3\", \"4\", \"5\", \"6\", \"7\", \"8\", \"9\", \"10\", \"11\", \"12\", \"13\", \"14\", \"15\", \"16\", \"17\", \"18\", \"19\", \"20\", \"21\", \"22\", \"23\", \"24\", \"25\", \"26\", \"27\", \"28\", \"29\", \"30\", \"31\", \"32\", \"33\", \"34\", \"35\", \"36\", \"37\", \"38\", \"39\", \"40\", \"41\", \"42\", \"43\", \"44\", \"45\", \"46\", \"47\", \"48\", \"49\", \"50\", \"51\", \"52\"], \"mode\": \"markers\", \"name\": \"precision_score_macro\", \"stepped\": false, \"type\": \"scatter\", \"data\": [0.8212770320032137, 0.8107727384619079, 0.8663889738741405, 0.6780459523325827, 0.44366197183098594, 0.7881036217303823, 0.8198188453507402, 0.44366197183098594, 0.44366197183098594, 0.6068394674394954, 0.6360777490557894, 0.6559218238520748, 0.6390487403803883, 0.8204234703915011, 0.8464415395787945, 0.44366197183098594, 0.6045745391777491, 0.6213791608730839, 0.642881284213007, 0.8120539082387551, 0.8565118240006133, 0.8008804958099396, 0.80612063867534, 0.8129176484188265, 0.8055150185838955, 0.8028303529516141, 0.8193124830577392, 0.8129176484188265, 0.809338010868756, 0.8157278941711872, 0.8178293190562818, 0.7938214306964908, 0.8115175253385558, 0.8328527693029186, 0.8133965340924795, 0.44366197183098594, 0.8450109649122808, 0.8107740344399896, 0.8100894528812149, 0.8172941775888121, 0.8062664359136213, 0.8135905334474289, 0.8031404754044239, 0.8086840084307768, 0.8040451760846277, 0.868929222608984, 0.8123751277195311, 0.820890880717947, 0.8079039696686756, 0.8137443146793729, 0.8070689145223306, 0.8028303529516141, 0.8239248224542342]}, {\"categories\": [\"0\", \"1\", \"2\", \"3\", \"4\", \"5\", \"6\", \"7\", \"8\", \"9\", \"10\", \"11\", \"12\", \"13\", \"14\", \"15\", \"16\", \"17\", \"18\", \"19\", \"20\", \"21\", \"22\", \"23\", \"24\", \"25\", \"26\", \"27\", \"28\", \"29\", \"30\", \"31\", \"32\", \"33\", \"34\", \"35\", \"36\", \"37\", \"38\", \"39\", \"40\", \"41\", \"42\", \"43\", \"44\", \"45\", \"46\", \"47\", \"48\", \"49\", \"50\", \"51\", \"52\"], \"mode\": \"lines\", \"name\": \"precision_score_macro_max\", \"stepped\": true, \"type\": \"scatter\", \"data\": [0.8212770320032137, 0.8212770320032137, 0.8663889738741405, 0.8663889738741405, 0.8663889738741405, 0.8663889738741405, 0.8663889738741405, 0.8663889738741405, 0.8663889738741405, 0.8663889738741405, 0.8663889738741405, 0.8663889738741405, 0.8663889738741405, 0.8663889738741405, 0.8663889738741405, 0.8663889738741405, 0.8663889738741405, 0.8663889738741405, 0.8663889738741405, 0.8663889738741405, 0.8663889738741405, 0.8663889738741405, 0.8663889738741405, 0.8663889738741405, 0.8663889738741405, 0.8663889738741405, 0.8663889738741405, 0.8663889738741405, 0.8663889738741405, 0.8663889738741405, 0.8663889738741405, 0.8663889738741405, 0.8663889738741405, 0.8663889738741405, 0.8663889738741405, 0.8663889738741405, 0.8663889738741405, 0.8663889738741405, 0.8663889738741405, 0.8663889738741405, 0.8663889738741405, 0.8663889738741405, 0.8663889738741405, 0.8663889738741405, 0.8663889738741405, 0.868929222608984, 0.868929222608984, 0.868929222608984, 0.868929222608984, 0.868929222608984, 0.868929222608984, 0.868929222608984, 0.868929222608984]}], \"norm_macro_recall\": [{\"categories\": [\"0\", \"1\", \"2\", \"3\", \"4\", \"5\", \"6\", \"7\", \"8\", \"9\", \"10\", \"11\", \"12\", \"13\", \"14\", \"15\", \"16\", \"17\", \"18\", \"19\", \"20\", \"21\", \"22\", \"23\", \"24\", \"25\", \"26\", \"27\", \"28\", \"29\", \"30\", \"31\", \"32\", \"33\", \"34\", \"35\", \"36\", \"37\", \"38\", \"39\", \"40\", \"41\", \"42\", \"43\", \"44\", \"45\", \"46\", \"47\", \"48\", \"49\", \"50\", \"51\", \"52\"], \"mode\": \"markers\", \"name\": \"norm_macro_recall\", \"stepped\": false, \"type\": \"scatter\", \"data\": [0.5434113300492611, 0.48847153804050336, 0.08617268746579088, 0.6544198139025725, 0.0, 0.19187876299945272, 0.1604406130268199, 0.0, 0.0, 0.4550492610837438, 0.5128626163108922, 0.6652640941434045, 0.5391351943076081, 0.3074028461959495, 0.11254789272030652, 0.0, 0.45723864258347025, 0.47697728516694027, 0.6293445539135194, 0.5425561029009305, 0.17556102900930481, 0.5112889983579638, 0.5129310344827587, 0.5428297755883964, 0.4949028461959497, 0.5395457033388067, 0.4446496989600437, 0.5428297755883964, 0.3921387520525452, 0.5277777777777777, 0.5463533114395185, 0.3786261631089216, 0.5404009304871376, 0.37257115489874115, 0.5350301039956213, 0.0, 0.2078544061302683, 0.5083812260536398, 0.4483784893267653, 0.42607416529830333, 0.465311986863711, 0.5390667761357415, 0.5199096880131364, 0.5196702244116036, 0.5142651888341543, 0.16803503010399568, 0.45296250684181727, 0.5452928297755884, 0.5134783798576903, 0.5331486042692939, 0.47150383141762453, 0.5395457033388067, 0.5401956759715381]}, {\"categories\": [\"0\", \"1\", \"2\", \"3\", \"4\", \"5\", \"6\", \"7\", \"8\", \"9\", \"10\", \"11\", \"12\", \"13\", \"14\", \"15\", \"16\", \"17\", \"18\", \"19\", \"20\", \"21\", \"22\", \"23\", \"24\", \"25\", \"26\", \"27\", \"28\", \"29\", \"30\", \"31\", \"32\", \"33\", \"34\", \"35\", \"36\", \"37\", \"38\", \"39\", \"40\", \"41\", \"42\", \"43\", \"44\", \"45\", \"46\", \"47\", \"48\", \"49\", \"50\", \"51\", \"52\"], \"mode\": \"lines\", \"name\": \"norm_macro_recall_max\", \"stepped\": true, \"type\": \"scatter\", \"data\": [0.5434113300492611, 0.5434113300492611, 0.5434113300492611, 0.6544198139025725, 0.6544198139025725, 0.6544198139025725, 0.6544198139025725, 0.6544198139025725, 0.6544198139025725, 0.6544198139025725, 0.6544198139025725, 0.6652640941434045, 0.6652640941434045, 0.6652640941434045, 0.6652640941434045, 0.6652640941434045, 0.6652640941434045, 0.6652640941434045, 0.6652640941434045, 0.6652640941434045, 0.6652640941434045, 0.6652640941434045, 0.6652640941434045, 0.6652640941434045, 0.6652640941434045, 0.6652640941434045, 0.6652640941434045, 0.6652640941434045, 0.6652640941434045, 0.6652640941434045, 0.6652640941434045, 0.6652640941434045, 0.6652640941434045, 0.6652640941434045, 0.6652640941434045, 0.6652640941434045, 0.6652640941434045, 0.6652640941434045, 0.6652640941434045, 0.6652640941434045, 0.6652640941434045, 0.6652640941434045, 0.6652640941434045, 0.6652640941434045, 0.6652640941434045, 0.6652640941434045, 0.6652640941434045, 0.6652640941434045, 0.6652640941434045, 0.6652640941434045, 0.6652640941434045, 0.6652640941434045, 0.6652640941434045]}], \"matthews_correlation\": [{\"categories\": [\"0\", \"1\", \"2\", \"3\", \"4\", \"5\", \"6\", \"7\", \"8\", \"9\", \"10\", \"11\", \"12\", \"13\", \"14\", \"15\", \"16\", \"17\", \"18\", \"19\", \"20\", \"21\", \"22\", \"23\", \"24\", \"25\", \"26\", \"27\", \"28\", \"29\", \"30\", \"31\", \"32\", \"33\", \"34\", \"35\", \"36\", \"37\", \"38\", \"39\", \"40\", \"41\", \"42\", \"43\", \"44\", \"45\", \"46\", \"47\", \"48\", \"49\", \"50\", \"51\", \"52\"], \"mode\": \"markers\", \"name\": \"matthews_correlation\", \"stepped\": false, \"type\": \"scatter\", \"data\": [0.5909070642243929, 0.5510056942310984, 0.2512875744503422, 0.4827355362754953, 0.0, 0.3325085459151027, 0.3203495953036385, 0.0, 0.0, 0.31182437593274537, 0.373601901500646, 0.455475994761827, 0.3872107169570821, 0.4438447629212967, 0.2792535236317421, 0.0, 0.3092426889755871, 0.3402795986511236, 0.4240791390191829, 0.5819050650218187, 0.3538066779345236, 0.554683490520696, 0.5603905350240401, 0.5828567866446102, 0.5499095421117519, 0.5716481711255932, 0.5328831006249078, 0.5828567866446102, 0.492551360864003, 0.577293974276757, 0.589316724586986, 0.4716958361991046, 0.5802488441281136, 0.49801875601312984, 0.579096848942155, 0.0, 0.37871374208040803, 0.5621239803713022, 0.5273280581176053, 0.51998240714502, 0.5338716021753444, 0.5814572003031573, 0.5614368530683889, 0.5664166098085316, 0.559213465312263, 0.3521165518044964, 0.531966579639871, 0.5915733198782213, 0.5623202494970689, 0.5783983808219623, 0.5381155446677414, 0.5716481711255932, 0.5915788847307272]}, {\"categories\": [\"0\", \"1\", \"2\", \"3\", \"4\", \"5\", \"6\", \"7\", \"8\", \"9\", \"10\", \"11\", \"12\", \"13\", \"14\", \"15\", \"16\", \"17\", \"18\", \"19\", \"20\", \"21\", \"22\", \"23\", \"24\", \"25\", \"26\", \"27\", \"28\", \"29\", \"30\", \"31\", \"32\", \"33\", \"34\", \"35\", \"36\", \"37\", \"38\", \"39\", \"40\", \"41\", \"42\", \"43\", \"44\", \"45\", \"46\", \"47\", \"48\", \"49\", \"50\", \"51\", \"52\"], \"mode\": \"lines\", \"name\": \"matthews_correlation_max\", \"stepped\": true, \"type\": \"scatter\", \"data\": [0.5909070642243929, 0.5909070642243929, 0.5909070642243929, 0.5909070642243929, 0.5909070642243929, 0.5909070642243929, 0.5909070642243929, 0.5909070642243929, 0.5909070642243929, 0.5909070642243929, 0.5909070642243929, 0.5909070642243929, 0.5909070642243929, 0.5909070642243929, 0.5909070642243929, 0.5909070642243929, 0.5909070642243929, 0.5909070642243929, 0.5909070642243929, 0.5909070642243929, 0.5909070642243929, 0.5909070642243929, 0.5909070642243929, 0.5909070642243929, 0.5909070642243929, 0.5909070642243929, 0.5909070642243929, 0.5909070642243929, 0.5909070642243929, 0.5909070642243929, 0.5909070642243929, 0.5909070642243929, 0.5909070642243929, 0.5909070642243929, 0.5909070642243929, 0.5909070642243929, 0.5909070642243929, 0.5909070642243929, 0.5909070642243929, 0.5909070642243929, 0.5909070642243929, 0.5909070642243929, 0.5909070642243929, 0.5909070642243929, 0.5909070642243929, 0.5909070642243929, 0.5909070642243929, 0.5915733198782213, 0.5915733198782213, 0.5915733198782213, 0.5915733198782213, 0.5915733198782213, 0.5915788847307272]}], \"recall_score_micro\": [{\"categories\": [\"0\", \"1\", \"2\", \"3\", \"4\", \"5\", \"6\", \"7\", \"8\", \"9\", \"10\", \"11\", \"12\", \"13\", \"14\", \"15\", \"16\", \"17\", \"18\", \"19\", \"20\", \"21\", \"22\", \"23\", \"24\", \"25\", \"26\", \"27\", \"28\", \"29\", \"30\", \"31\", \"32\", \"33\", \"34\", \"35\", \"36\", \"37\", \"38\", \"39\", \"40\", \"41\", \"42\", \"43\", \"44\", \"45\", \"46\", \"47\", \"48\", \"49\", \"50\", \"51\", \"52\"], \"mode\": \"markers\", \"name\": \"recall_score_micro\", \"stepped\": false, \"type\": \"scatter\", \"data\": [0.9237493929091792, 0.9184069936862554, 0.8953375424963574, 0.8302574065080136, 0.8873239436619719, 0.8989800874210782, 0.8994657600777076, 0.8873239436619719, 0.8873239436619719, 0.740165128703254, 0.7948033025740651, 0.7814473045167557, 0.791403593977659, 0.9096648858669257, 0.8970373967945605, 0.8873239436619719, 0.7287518212724624, 0.7746478873239436, 0.7595920349684313, 0.921321029626032, 0.9028654686741137, 0.9169499757163672, 0.9184069936862554, 0.9215638659543468, 0.9174356483729966, 0.9186498300145702, 0.917921321029626, 0.9215638659543468, 0.9130645944633318, 0.9215638659543468, 0.9230208839242351, 0.9094220495386109, 0.9210781932977173, 0.9157357940747936, 0.921321029626032, 0.8873239436619719, 0.9048081593006314, 0.9193783389995144, 0.916221466731423, 0.9164643030597377, 0.916221466731423, 0.9215638659543468, 0.917921321029626, 0.9193783389995144, 0.917921321029626, 0.9028654686741137, 0.9169499757163672, 0.9237493929091792, 0.9188926663428849, 0.921321029626032, 0.9167071393880525, 0.9186498300145702, 0.9242350655658087]}, {\"categories\": [\"0\", \"1\", \"2\", \"3\", \"4\", \"5\", \"6\", \"7\", \"8\", \"9\", \"10\", \"11\", \"12\", \"13\", \"14\", \"15\", \"16\", \"17\", \"18\", \"19\", \"20\", \"21\", \"22\", \"23\", \"24\", \"25\", \"26\", \"27\", \"28\", \"29\", \"30\", \"31\", \"32\", \"33\", \"34\", \"35\", \"36\", \"37\", \"38\", \"39\", \"40\", \"41\", \"42\", \"43\", \"44\", \"45\", \"46\", \"47\", \"48\", \"49\", \"50\", \"51\", \"52\"], \"mode\": \"lines\", \"name\": \"recall_score_micro_max\", \"stepped\": true, \"type\": \"scatter\", \"data\": [0.9237493929091792, 0.9237493929091792, 0.9237493929091792, 0.9237493929091792, 0.9237493929091792, 0.9237493929091792, 0.9237493929091792, 0.9237493929091792, 0.9237493929091792, 0.9237493929091792, 0.9237493929091792, 0.9237493929091792, 0.9237493929091792, 0.9237493929091792, 0.9237493929091792, 0.9237493929091792, 0.9237493929091792, 0.9237493929091792, 0.9237493929091792, 0.9237493929091792, 0.9237493929091792, 0.9237493929091792, 0.9237493929091792, 0.9237493929091792, 0.9237493929091792, 0.9237493929091792, 0.9237493929091792, 0.9237493929091792, 0.9237493929091792, 0.9237493929091792, 0.9237493929091792, 0.9237493929091792, 0.9237493929091792, 0.9237493929091792, 0.9237493929091792, 0.9237493929091792, 0.9237493929091792, 0.9237493929091792, 0.9237493929091792, 0.9237493929091792, 0.9237493929091792, 0.9237493929091792, 0.9237493929091792, 0.9237493929091792, 0.9237493929091792, 0.9237493929091792, 0.9237493929091792, 0.9237493929091792, 0.9237493929091792, 0.9237493929091792, 0.9237493929091792, 0.9237493929091792, 0.9242350655658087]}], \"log_loss\": [{\"categories\": [\"0\", \"1\", \"2\", \"3\", \"4\", \"5\", \"6\", \"7\", \"8\", \"9\", \"10\", \"11\", \"12\", \"13\", \"14\", \"15\", \"16\", \"17\", \"18\", \"19\", \"20\", \"21\", \"22\", \"23\", \"24\", \"25\", \"26\", \"27\", \"28\", \"29\", \"30\", \"31\", \"32\", \"33\", \"34\", \"35\", \"36\", \"37\", \"38\", \"39\", \"40\", \"41\", \"42\", \"43\", \"44\", \"45\", \"46\", \"47\", \"48\", \"49\", \"50\", \"51\", \"52\"], \"mode\": \"markers\", \"name\": \"log_loss\", \"stepped\": false, \"type\": \"scatter\", \"data\": [0.16640483179348017, 0.17450121844498526, 0.23844546412542456, 0.46300097619631325, 0.24938880785211723, 0.24307318699579852, 0.2503462896195403, 0.26706365194442244, 0.27287488018549266, 0.534446765149447, 0.5404411550736885, 0.45216209176753763, 0.580572466865434, 0.3276233618310966, 0.24645240549051312, 0.25304601129336696, 0.4949435031401504, 0.5504153213839168, 0.5282742074818044, 0.19480661299473537, 0.2264588089147093, 0.16668238432779398, 0.16649756819507233, 0.16886877807363276, 0.17225888623289293, 0.16844436457007003, 0.317882648669954, 0.16897213526706467, 0.1886602888865964, 0.17293641838230203, 0.16870774489965476, 0.18852543495707502, 0.16676596737112645, 0.3234284573507098, 0.17139408194563918, 0.410832651522867, 0.22894126382557717, 0.16941979248204836, 0.1801087682330104, 0.17820449024529028, 0.1773908464290268, 0.165059162406483, 0.1958928182720711, 0.31320150473292674, 0.16674725115091713, 0.21320102901513766, 0.20068147523645496, 0.16718100179119907, 0.17093176525202822, 0.19854085814901223, 0.18115527097706335, 0.18273100570563, 0.1640261276006311]}, {\"categories\": [\"0\", \"1\", \"2\", \"3\", \"4\", \"5\", \"6\", \"7\", \"8\", \"9\", \"10\", \"11\", \"12\", \"13\", \"14\", \"15\", \"16\", \"17\", \"18\", \"19\", \"20\", \"21\", \"22\", \"23\", \"24\", \"25\", \"26\", \"27\", \"28\", \"29\", \"30\", \"31\", \"32\", \"33\", \"34\", \"35\", \"36\", \"37\", \"38\", \"39\", \"40\", \"41\", \"42\", \"43\", \"44\", \"45\", \"46\", \"47\", \"48\", \"49\", \"50\", \"51\", \"52\"], \"mode\": \"lines\", \"name\": \"log_loss_min\", \"stepped\": true, \"type\": \"scatter\", \"data\": [0.16640483179348017, 0.16640483179348017, 0.16640483179348017, 0.16640483179348017, 0.16640483179348017, 0.16640483179348017, 0.16640483179348017, 0.16640483179348017, 0.16640483179348017, 0.16640483179348017, 0.16640483179348017, 0.16640483179348017, 0.16640483179348017, 0.16640483179348017, 0.16640483179348017, 0.16640483179348017, 0.16640483179348017, 0.16640483179348017, 0.16640483179348017, 0.16640483179348017, 0.16640483179348017, 0.16640483179348017, 0.16640483179348017, 0.16640483179348017, 0.16640483179348017, 0.16640483179348017, 0.16640483179348017, 0.16640483179348017, 0.16640483179348017, 0.16640483179348017, 0.16640483179348017, 0.16640483179348017, 0.16640483179348017, 0.16640483179348017, 0.16640483179348017, 0.16640483179348017, 0.16640483179348017, 0.16640483179348017, 0.16640483179348017, 0.16640483179348017, 0.16640483179348017, 0.165059162406483, 0.165059162406483, 0.165059162406483, 0.165059162406483, 0.165059162406483, 0.165059162406483, 0.165059162406483, 0.165059162406483, 0.165059162406483, 0.165059162406483, 0.165059162406483, 0.1640261276006311]}], \"f1_score_weighted\": [{\"categories\": [\"0\", \"1\", \"2\", \"3\", \"4\", \"5\", \"6\", \"7\", \"8\", \"9\", \"10\", \"11\", \"12\", \"13\", \"14\", \"15\", \"16\", \"17\", \"18\", \"19\", \"20\", \"21\", \"22\", \"23\", \"24\", \"25\", \"26\", \"27\", \"28\", \"29\", \"30\", \"31\", \"32\", \"33\", \"34\", \"35\", \"36\", \"37\", \"38\", \"39\", \"40\", \"41\", \"42\", \"43\", \"44\", \"45\", \"46\", \"47\", \"48\", \"49\", \"50\", \"51\", \"52\"], \"mode\": \"markers\", \"name\": \"f1_score_weighted\", \"stepped\": false, \"type\": \"scatter\", \"data\": [0.9205655010653557, 0.9135258743294722, 0.8558153623222131, 0.8545897388247377, 0.8343493798612571, 0.8742730766163579, 0.8702419413013708, 0.8343493798612571, 0.8343493798612571, 0.7843777194350299, 0.82524090352555, 0.8186951709865383, 0.8234846043416, 0.8939868720519841, 0.861362963813377, 0.8343493798612571, 0.7759730707781598, 0.8098712750973671, 0.8016934501867415, 0.918573139893693, 0.8743635522052502, 0.9135779709075884, 0.9148102748329701, 0.9187804591539921, 0.9131076343500684, 0.9163027672536865, 0.9106028367850006, 0.9187804591539921, 0.9033820637919682, 0.9180603981626123, 0.9201153126462928, 0.8996814232668353, 0.9182775517803327, 0.90394763202577, 0.9182167762806523, 0.8343493798612571, 0.8798863869286404, 0.9153468301999277, 0.9095094382373182, 0.9082929481154177, 0.910514357846717, 0.9186032996364433, 0.9147766130965074, 0.9159184346925193, 0.9144940743951917, 0.8732782311377383, 0.9103529808291373, 0.9206534586695401, 0.915222287176362, 0.9181264987545573, 0.9112484351919692, 0.9163027672536865, 0.9208064479012723]}, {\"categories\": [\"0\", \"1\", \"2\", \"3\", \"4\", \"5\", \"6\", \"7\", \"8\", \"9\", \"10\", \"11\", \"12\", \"13\", \"14\", \"15\", \"16\", \"17\", \"18\", \"19\", \"20\", \"21\", \"22\", \"23\", \"24\", \"25\", \"26\", \"27\", \"28\", \"29\", \"30\", \"31\", \"32\", \"33\", \"34\", \"35\", \"36\", \"37\", \"38\", \"39\", \"40\", \"41\", \"42\", \"43\", \"44\", \"45\", \"46\", \"47\", \"48\", \"49\", \"50\", \"51\", \"52\"], \"mode\": \"lines\", \"name\": \"f1_score_weighted_max\", \"stepped\": true, \"type\": \"scatter\", \"data\": [0.9205655010653557, 0.9205655010653557, 0.9205655010653557, 0.9205655010653557, 0.9205655010653557, 0.9205655010653557, 0.9205655010653557, 0.9205655010653557, 0.9205655010653557, 0.9205655010653557, 0.9205655010653557, 0.9205655010653557, 0.9205655010653557, 0.9205655010653557, 0.9205655010653557, 0.9205655010653557, 0.9205655010653557, 0.9205655010653557, 0.9205655010653557, 0.9205655010653557, 0.9205655010653557, 0.9205655010653557, 0.9205655010653557, 0.9205655010653557, 0.9205655010653557, 0.9205655010653557, 0.9205655010653557, 0.9205655010653557, 0.9205655010653557, 0.9205655010653557, 0.9205655010653557, 0.9205655010653557, 0.9205655010653557, 0.9205655010653557, 0.9205655010653557, 0.9205655010653557, 0.9205655010653557, 0.9205655010653557, 0.9205655010653557, 0.9205655010653557, 0.9205655010653557, 0.9205655010653557, 0.9205655010653557, 0.9205655010653557, 0.9205655010653557, 0.9205655010653557, 0.9205655010653557, 0.9206534586695401, 0.9206534586695401, 0.9206534586695401, 0.9206534586695401, 0.9206534586695401, 0.9208064479012723]}], \"precision_score_micro\": [{\"categories\": [\"0\", \"1\", \"2\", \"3\", \"4\", \"5\", \"6\", \"7\", \"8\", \"9\", \"10\", \"11\", \"12\", \"13\", \"14\", \"15\", \"16\", \"17\", \"18\", \"19\", \"20\", \"21\", \"22\", \"23\", \"24\", \"25\", \"26\", \"27\", \"28\", \"29\", \"30\", \"31\", \"32\", \"33\", \"34\", \"35\", \"36\", \"37\", \"38\", \"39\", \"40\", \"41\", \"42\", \"43\", \"44\", \"45\", \"46\", \"47\", \"48\", \"49\", \"50\", \"51\", \"52\"], \"mode\": \"markers\", \"name\": \"precision_score_micro\", \"stepped\": false, \"type\": \"scatter\", \"data\": [0.9237493929091792, 0.9184069936862554, 0.8953375424963574, 0.8302574065080136, 0.8873239436619719, 0.8989800874210782, 0.8994657600777076, 0.8873239436619719, 0.8873239436619719, 0.740165128703254, 0.7948033025740651, 0.7814473045167557, 0.791403593977659, 0.9096648858669257, 0.8970373967945605, 0.8873239436619719, 0.7287518212724624, 0.7746478873239436, 0.7595920349684313, 0.921321029626032, 0.9028654686741137, 0.9169499757163672, 0.9184069936862554, 0.9215638659543468, 0.9174356483729966, 0.9186498300145702, 0.917921321029626, 0.9215638659543468, 0.9130645944633318, 0.9215638659543468, 0.9230208839242351, 0.9094220495386109, 0.9210781932977173, 0.9157357940747936, 0.921321029626032, 0.8873239436619719, 0.9048081593006314, 0.9193783389995144, 0.916221466731423, 0.9164643030597377, 0.916221466731423, 0.9215638659543468, 0.917921321029626, 0.9193783389995144, 0.917921321029626, 0.9028654686741137, 0.9169499757163672, 0.9237493929091792, 0.9188926663428849, 0.921321029626032, 0.9167071393880525, 0.9186498300145702, 0.9242350655658087]}, {\"categories\": [\"0\", \"1\", \"2\", \"3\", \"4\", \"5\", \"6\", \"7\", \"8\", \"9\", \"10\", \"11\", \"12\", \"13\", \"14\", \"15\", \"16\", \"17\", \"18\", \"19\", \"20\", \"21\", \"22\", \"23\", \"24\", \"25\", \"26\", \"27\", \"28\", \"29\", \"30\", \"31\", \"32\", \"33\", \"34\", \"35\", \"36\", \"37\", \"38\", \"39\", \"40\", \"41\", \"42\", \"43\", \"44\", \"45\", \"46\", \"47\", \"48\", \"49\", \"50\", \"51\", \"52\"], \"mode\": \"lines\", \"name\": \"precision_score_micro_max\", \"stepped\": true, \"type\": \"scatter\", \"data\": [0.9237493929091792, 0.9237493929091792, 0.9237493929091792, 0.9237493929091792, 0.9237493929091792, 0.9237493929091792, 0.9237493929091792, 0.9237493929091792, 0.9237493929091792, 0.9237493929091792, 0.9237493929091792, 0.9237493929091792, 0.9237493929091792, 0.9237493929091792, 0.9237493929091792, 0.9237493929091792, 0.9237493929091792, 0.9237493929091792, 0.9237493929091792, 0.9237493929091792, 0.9237493929091792, 0.9237493929091792, 0.9237493929091792, 0.9237493929091792, 0.9237493929091792, 0.9237493929091792, 0.9237493929091792, 0.9237493929091792, 0.9237493929091792, 0.9237493929091792, 0.9237493929091792, 0.9237493929091792, 0.9237493929091792, 0.9237493929091792, 0.9237493929091792, 0.9237493929091792, 0.9237493929091792, 0.9237493929091792, 0.9237493929091792, 0.9237493929091792, 0.9237493929091792, 0.9237493929091792, 0.9237493929091792, 0.9237493929091792, 0.9237493929091792, 0.9237493929091792, 0.9237493929091792, 0.9237493929091792, 0.9237493929091792, 0.9237493929091792, 0.9237493929091792, 0.9237493929091792, 0.9242350655658087]}], \"AUC_weighted\": [{\"categories\": [\"0\", \"1\", \"2\", \"3\", \"4\", \"5\", \"6\", \"7\", \"8\", \"9\", \"10\", \"11\", \"12\", \"13\", \"14\", \"15\", \"16\", \"17\", \"18\", \"19\", \"20\", \"21\", \"22\", \"23\", \"24\", \"25\", \"26\", \"27\", \"28\", \"29\", \"30\", \"31\", \"32\", \"33\", \"34\", \"35\", \"36\", \"37\", \"38\", \"39\", \"40\", \"41\", \"42\", \"43\", \"44\", \"45\", \"46\", \"47\", \"48\", \"49\", \"50\", \"51\", \"52\"], \"mode\": \"markers\", \"name\": \"AUC_weighted\", \"stepped\": false, \"type\": \"scatter\", \"data\": [0.9537056697431252, 0.949479373100806, 0.9020307810995981, 0.9096726780288019, 0.9051942368306815, 0.9104972349621577, 0.8995252604609025, 0.8825360257063586, 0.9050497329332051, 0.8489182261291357, 0.8611329341486893, 0.9042316639299398, 0.8715389842024801, 0.9367267566955438, 0.9047052828265669, 0.8963762551195664, 0.8567323481116583, 0.8211321909857879, 0.8950173286714606, 0.9489048963818583, 0.9360953631353454, 0.9530244370835929, 0.9532338202819772, 0.9537127474850424, 0.9499338231130738, 0.953377144555801, 0.943337072740313, 0.9525301747730405, 0.9425706122718608, 0.9511700687012816, 0.952731890417681, 0.9397005879244283, 0.9540229885057471, 0.9407908550855935, 0.9514354840231773, 0.5, 0.9279851556159524, 0.9529430430515449, 0.9461613866711965, 0.9468679812392655, 0.9482328058056357, 0.9550451324009586, 0.9482159961685823, 0.9414482003661552, 0.9532072787497875, 0.9487344407640185, 0.949768675801672, 0.9538094766245778, 0.952275965875847, 0.9464869627993886, 0.9445426481135457, 0.9503632061227187, 0.9557074910820451]}, {\"categories\": [\"0\", \"1\", \"2\", \"3\", \"4\", \"5\", \"6\", \"7\", \"8\", \"9\", \"10\", \"11\", \"12\", \"13\", \"14\", \"15\", \"16\", \"17\", \"18\", \"19\", \"20\", \"21\", \"22\", \"23\", \"24\", \"25\", \"26\", \"27\", \"28\", \"29\", \"30\", \"31\", \"32\", \"33\", \"34\", \"35\", \"36\", \"37\", \"38\", \"39\", \"40\", \"41\", \"42\", \"43\", \"44\", \"45\", \"46\", \"47\", \"48\", \"49\", \"50\", \"51\", \"52\"], \"mode\": \"lines\", \"name\": \"AUC_weighted_max\", \"stepped\": true, \"type\": \"scatter\", \"data\": [0.9537056697431252, 0.9537056697431252, 0.9537056697431252, 0.9537056697431252, 0.9537056697431252, 0.9537056697431252, 0.9537056697431252, 0.9537056697431252, 0.9537056697431252, 0.9537056697431252, 0.9537056697431252, 0.9537056697431252, 0.9537056697431252, 0.9537056697431252, 0.9537056697431252, 0.9537056697431252, 0.9537056697431252, 0.9537056697431252, 0.9537056697431252, 0.9537056697431252, 0.9537056697431252, 0.9537056697431252, 0.9537056697431252, 0.9537127474850424, 0.9537127474850424, 0.9537127474850424, 0.9537127474850424, 0.9537127474850424, 0.9537127474850424, 0.9537127474850424, 0.9537127474850424, 0.9537127474850424, 0.9540229885057471, 0.9540229885057471, 0.9540229885057471, 0.9540229885057471, 0.9540229885057471, 0.9540229885057471, 0.9540229885057471, 0.9540229885057471, 0.9540229885057471, 0.9550451324009586, 0.9550451324009586, 0.9550451324009586, 0.9550451324009586, 0.9550451324009586, 0.9550451324009586, 0.9550451324009586, 0.9550451324009586, 0.9550451324009586, 0.9550451324009586, 0.9550451324009586, 0.9557074910820451]}]}, \"metricName\": null, \"primaryMetricName\": \"AUC_weighted\", \"showLegend\": false}, \"run_metrics\": [{\"name\": \"experiment_status\", \"run_id\": \"AutoML_56941284-2658-46cd-9230-e0592db0fcef\", \"categories\": [0, 1, 2, 3, 4, 5, 6, 7, 8, 9, 10, 11, 12, 13], \"series\": [{\"data\": [\"DatasetEvaluation\", \"FeaturesGeneration\", \"DatasetFeaturization\", \"DatasetFeaturizationCompleted\", \"DatasetBalancing\", \"ModelSelection\", \"BestRunExplainModel\", \"ModelExplanationDataSetSetup\", \"PickSurrogateModel\", \"EngineeredFeatureExplanations\", \"EngineeredFeatureExplanations\", \"RawFeaturesExplanations\", \"RawFeaturesExplanations\", \"BestRunExplainModel\"]}]}, {\"name\": \"experiment_status_description\", \"run_id\": \"AutoML_56941284-2658-46cd-9230-e0592db0fcef\", \"categories\": [0, 1, 2, 3, 4, 5, 6, 7, 8, 9, 10, 11, 12, 13], \"series\": [{\"data\": [\"Gathering dataset statistics.\", \"Generating features for the dataset.\", \"Beginning to fit featurizers and featurize the dataset.\", \"Completed fit featurizers and featurizing the dataset.\", \"Performing class balancing sweeping\", \"Beginning model selection.\", \"Best run model explanations started\", \"Model explanations data setup completed\", \"Choosing LightGBM as the surrogate model for explanations\", \"Computation of engineered features started\", \"Computation of engineered features completed\", \"Computation of raw features started\", \"Computation of raw features completed\", \"Best run model explanations completed\"]}]}, {\"name\": \"weighted_accuracy\", \"run_id\": \"AutoML_56941284-2658-46cd-9230-e0592db0fcef\", \"categories\": [0], \"series\": [{\"data\": [0.9627598177107827]}]}, {\"name\": \"f1_score_macro\", \"run_id\": \"AutoML_56941284-2658-46cd-9230-e0592db0fcef\", \"categories\": [0], \"series\": [{\"data\": [0.793628653135334]}]}, {\"name\": \"AUC_micro\", \"run_id\": \"AutoML_56941284-2658-46cd-9230-e0592db0fcef\", \"categories\": [0], \"series\": [{\"data\": [0.9833039704624221]}]}, {\"name\": \"log_loss\", \"run_id\": \"AutoML_56941284-2658-46cd-9230-e0592db0fcef\", \"categories\": [0], \"series\": [{\"data\": [0.1640261276006311]}]}, {\"name\": \"recall_score_micro\", \"run_id\": \"AutoML_56941284-2658-46cd-9230-e0592db0fcef\", \"categories\": [0], \"series\": [{\"data\": [0.9242350655658087]}]}, {\"name\": \"precision_score_micro\", \"run_id\": \"AutoML_56941284-2658-46cd-9230-e0592db0fcef\", \"categories\": [0], \"series\": [{\"data\": [0.9242350655658087]}]}, {\"name\": \"average_precision_score_micro\", \"run_id\": \"AutoML_56941284-2658-46cd-9230-e0592db0fcef\", \"categories\": [0], \"series\": [{\"data\": [0.9840071453337049]}]}, {\"name\": \"average_precision_score_macro\", \"run_id\": \"AutoML_56941284-2658-46cd-9230-e0592db0fcef\", \"categories\": [0], \"series\": [{\"data\": [0.8443545488910513]}]}, {\"name\": \"recall_score_macro\", \"run_id\": \"AutoML_56941284-2658-46cd-9230-e0592db0fcef\", \"categories\": [0], \"series\": [{\"data\": [0.770097837985769]}]}, {\"name\": \"AUC_weighted\", \"run_id\": \"AutoML_56941284-2658-46cd-9230-e0592db0fcef\", \"categories\": [0], \"series\": [{\"data\": [0.9557074910820451]}]}, {\"name\": \"balanced_accuracy\", \"run_id\": \"AutoML_56941284-2658-46cd-9230-e0592db0fcef\", \"categories\": [0], \"series\": [{\"data\": [0.770097837985769]}]}, {\"name\": \"precision_score_macro\", \"run_id\": \"AutoML_56941284-2658-46cd-9230-e0592db0fcef\", \"categories\": [0], \"series\": [{\"data\": [0.8239248224542342]}]}, {\"name\": \"AUC_macro\", \"run_id\": \"AutoML_56941284-2658-46cd-9230-e0592db0fcef\", \"categories\": [0], \"series\": [{\"data\": [0.9557074910820451]}]}, {\"name\": \"precision_score_weighted\", \"run_id\": \"AutoML_56941284-2658-46cd-9230-e0592db0fcef\", \"categories\": [0], \"series\": [{\"data\": [0.9191031911413021]}]}, {\"name\": \"f1_score_micro\", \"run_id\": \"AutoML_56941284-2658-46cd-9230-e0592db0fcef\", \"categories\": [0], \"series\": [{\"data\": [0.9242350655658087]}]}, {\"name\": \"norm_macro_recall\", \"run_id\": \"AutoML_56941284-2658-46cd-9230-e0592db0fcef\", \"categories\": [0], \"series\": [{\"data\": [0.5401956759715381]}]}, {\"name\": \"recall_score_weighted\", \"run_id\": \"AutoML_56941284-2658-46cd-9230-e0592db0fcef\", \"categories\": [0], \"series\": [{\"data\": [0.9242350655658087]}]}, {\"name\": \"accuracy\", \"run_id\": \"AutoML_56941284-2658-46cd-9230-e0592db0fcef\", \"categories\": [0], \"series\": [{\"data\": [0.9242350655658087]}]}, {\"name\": \"average_precision_score_weighted\", \"run_id\": \"AutoML_56941284-2658-46cd-9230-e0592db0fcef\", \"categories\": [0], \"series\": [{\"data\": [0.9605121857579841]}]}, {\"name\": \"matthews_correlation\", \"run_id\": \"AutoML_56941284-2658-46cd-9230-e0592db0fcef\", \"categories\": [0], \"series\": [{\"data\": [0.5915788847307272]}]}, {\"name\": \"f1_score_weighted\", \"run_id\": \"AutoML_56941284-2658-46cd-9230-e0592db0fcef\", \"categories\": [0], \"series\": [{\"data\": [0.9208064479012723]}]}], \"run_logs\": \"\\nRun is completed.\", \"graph\": {}, \"widget_settings\": {\"childWidgetDisplay\": \"popup\", \"send_telemetry\": false, \"log_level\": \"INFO\", \"sdk_version\": \"1.32.0\"}, \"loading\": false}"
          },
          "metadata": {}
        }
      ],
      "metadata": {}
    },
    {
      "cell_type": "markdown",
      "source": [
        "### 检索最佳模型的解释\r\n",
        "从最佳_运行中检索解释，其中包括工程特性和原始特性的解释。确保为最佳模型生成解释的运行已完成。"
      ],
      "metadata": {}
    },
    {
      "cell_type": "code",
      "execution_count": 57,
      "source": [
        "# Wait for the best model explanation run to complete\r\n",
        "from azureml.core.run import Run\r\n",
        "model_explainability_run_id = remote_run.id + \"_\" + \"ModelExplain\"\r\n",
        "print(model_explainability_run_id)\r\n",
        "model_explainability_run = Run(experiment=experiment, run_id=model_explainability_run_id)\r\n",
        "model_explainability_run.wait_for_completion()\r\n",
        "\r\n",
        "# Get the best run object\r\n",
        "best_run, fitted_model = remote_run.get_output()"
      ],
      "outputs": [
        {
          "output_type": "stream",
          "name": "stdout",
          "text": [
            "AutoML_56941284-2658-46cd-9230-e0592db0fcef_ModelExplain\n"
          ]
        },
        {
          "output_type": "stream",
          "name": "stderr",
          "text": [
            "WARNING:root:The version of the SDK does not match the version the model was trained on.\n",
            "WARNING:root:The consistency in the result may not be guaranteed.\n",
            "WARNING:root:Package:azureml-automl-core, training version:1.32.0, current version:1.18.0.post2\n",
            "Package:azureml-automl-runtime, training version:1.32.0, current version:1.18.0.post2\n",
            "Package:azureml-dataprep, training version:2.18.0, current version:2.4.5\n",
            "Package:azureml-dataprep-native, training version:36.0.0, current version:24.0.0\n",
            "Package:azureml-dataprep-rslex, training version:1.16.1, current version:1.2.3\n",
            "Package:azureml-dataset-runtime, training version:1.32.0, current version:1.18.0\n",
            "Package:azureml-defaults, training version:1.32.0, current version:1.18.0\n",
            "Package:azureml-interpret, training version:1.32.0, current version:1.18.0\n",
            "Package:azureml-mlflow, training version:1.32.0, current version:1.31.0\n",
            "Package:azureml-telemetry, training version:1.32.0, current version:1.18.0.post1\n",
            "Package:azureml-train-automl-client, training version:1.32.0, current version:1.18.0\n",
            "Package:azureml-train-automl-runtime, training version:1.32.0, current version:1.18.0.post1\n",
            "WARNING:root:Please ensure the version of your local conda dependencies match the version on which your model was trained in order to properly retrieve your model.\n"
          ]
        }
      ],
      "metadata": {}
    },
    {
      "cell_type": "markdown",
      "source": [
        "#### Download engineered feature importance from artifact store -> 从工件库下载工程特征影响的重要性\r\n",
        "您可以使用ExplanationClient从最佳运行的工件库下载工程特性解释。"
      ],
      "metadata": {}
    },
    {
      "cell_type": "code",
      "execution_count": 58,
      "source": [
        "client = ExplanationClient.from_run(best_run)\r\n",
        "engineered_explanations = client.download_model_explanation(raw=False)\r\n",
        "exp_data = engineered_explanations.get_feature_importance_dict()\r\n",
        "exp_data"
      ],
      "outputs": [
        {
          "output_type": "execute_result",
          "data": {
            "text/plain": [
              "{'duration_MeanImputer': 1.0161931693493682,\n",
              " 'nr.employed_MeanImputer': 0.5239865699015908,\n",
              " 'cons.conf.idx_MeanImputer': 0.2174226550040145,\n",
              " 'emp.var.rate_MeanImputer': 0.20101416384082046,\n",
              " 'euribor3m_MeanImputer': 0.19203022291893437,\n",
              " 'cons.price.idx_MeanImputer': 0.054616947985119534,\n",
              " 'age_MeanImputer': 0.04776001485439931,\n",
              " 'pdays_CharGramCountVectorizer_999': 0.034757647546202676,\n",
              " 'poutcome_CharGramCountVectorizer_success': 0.03317393017530207,\n",
              " 'default_CharGramCountVectorizer_no': 0.023340372231114574,\n",
              " 'poutcome_CharGramCountVectorizer_failure': 0.023235888431868492,\n",
              " 'month_CharGramCountVectorizer_oct': 0.020365296456522797,\n",
              " 'job_CharGramCountVectorizer_blue-collar': 0.019141179488508797,\n",
              " 'contact_ModeCatImputer_LabelEncoder': 0.017242977881314955,\n",
              " 'education_CharGramCountVectorizer_university.degree': 0.016936309781585505,\n",
              " 'day_of_week_CharGramCountVectorizer_wed': 0.015680151607357074,\n",
              " 'campaign_CharGramCountVectorizer_2': 0.014592644929293328,\n",
              " 'month_CharGramCountVectorizer_may': 0.012580177602909548,\n",
              " 'previous_CharGramCountVectorizer_0': 0.012361023968151837,\n",
              " 'campaign_CharGramCountVectorizer_1': 0.011307330264199982,\n",
              " 'day_of_week_CharGramCountVectorizer_mon': 0.008493326328289036,\n",
              " 'day_of_week_CharGramCountVectorizer_thu': 0.00792746117236945,\n",
              " 'day_of_week_CharGramCountVectorizer_tue': 0.007078469322468026,\n",
              " 'education_CharGramCountVectorizer_basic.9y': 0.005951555701815713,\n",
              " 'default_CharGramCountVectorizer_unknown': 0.005520181117691369,\n",
              " 'pdays_CharGramCountVectorizer_3': 0.004963672290833531,\n",
              " 'job_CharGramCountVectorizer_services': 0.004781409672782135,\n",
              " 'education_CharGramCountVectorizer_basic.4y': 0.004444019625710573,\n",
              " 'month_CharGramCountVectorizer_mar': 0.004186715861725292,\n",
              " 'campaign_CharGramCountVectorizer_7': 0.001611300506288585,\n",
              " 'job_CharGramCountVectorizer_technician': 0.0015746499789293907,\n",
              " 'month_CharGramCountVectorizer_nov': 0.0014667024415508513,\n",
              " 'education_CharGramCountVectorizer_basic.6y': 0.001345978008429062,\n",
              " 'job_CharGramCountVectorizer_retired': 0.0012877021161487802,\n",
              " 'month_CharGramCountVectorizer_jul': 0.0012036100201533175,\n",
              " 'marital_CharGramCountVectorizer_married': 0.0010186170989200192,\n",
              " 'education_CharGramCountVectorizer_high.school': 0.0009706475490033977,\n",
              " 'day_of_week_CharGramCountVectorizer_fri': 0.0009631689154753762,\n",
              " 'month_CharGramCountVectorizer_jun': 0.000744250629685656,\n",
              " 'month_CharGramCountVectorizer_apr': 0.0006588861051344486,\n",
              " 'marital_CharGramCountVectorizer_single': 0.0006473079100473208,\n",
              " 'pdays_CharGramCountVectorizer_4': 0.0006041227159150331,\n",
              " 'education_CharGramCountVectorizer_professional.course': 0.0005595069622363661,\n",
              " 'previous_CharGramCountVectorizer_1': 0.00040576077174627677,\n",
              " 'campaign_CharGramCountVectorizer_3': 0.00036211811827549793,\n",
              " 'loan_CharGramCountVectorizer_yes': 0.0003605326547340553,\n",
              " 'housing_CharGramCountVectorizer_no': 0.0003119775792825688,\n",
              " 'job_CharGramCountVectorizer_student': 0.0002698909191850372,\n",
              " 'pdays_CharGramCountVectorizer_6': 0.00022718859848820511,\n",
              " 'job_CharGramCountVectorizer_self-employed': 0.00021131150078664533,\n",
              " 'housing_CharGramCountVectorizer_yes': 0.0002035300135578792,\n",
              " 'month_CharGramCountVectorizer_sep': 0.0001751859744671756,\n",
              " 'education_CharGramCountVectorizer_unknown': 0.0001686520440272783,\n",
              " 'marital_CharGramCountVectorizer_divorced': 0.00011234990474117029,\n",
              " 'job_CharGramCountVectorizer_management': 0.00011151225864520128,\n",
              " 'pdays_CharGramCountVectorizer_2': 0.00010338438293091426,\n",
              " 'previous_CharGramCountVectorizer_4': 9.488915029972379e-05,\n",
              " 'job_CharGramCountVectorizer_admin.': 8.813440498420957e-05,\n",
              " 'previous_CharGramCountVectorizer_2': 8.192861804879748e-05,\n",
              " 'job_CharGramCountVectorizer_housemaid': 8.145610588569618e-05,\n",
              " 'loan_CharGramCountVectorizer_no': 4.027198321760437e-05,\n",
              " 'job_CharGramCountVectorizer_unknown': 3.9987766103313344e-05,\n",
              " 'job_CharGramCountVectorizer_unemployed': 2.9812095859792904e-05,\n",
              " 'job_CharGramCountVectorizer_entrepreneur': 2.7523533040360404e-05,\n",
              " 'campaign_CharGramCountVectorizer_6': 2.7389199913208815e-05,\n",
              " 'marital_CharGramCountVectorizer_unknown': 0.0,\n",
              " 'previous_CharGramCountVectorizer_7': 0.0,\n",
              " 'previous_CharGramCountVectorizer_6': 0.0,\n",
              " 'loan_CharGramCountVectorizer_unknown': 0.0,\n",
              " 'previous_CharGramCountVectorizer_5': 0.0,\n",
              " 'education_CharGramCountVectorizer_illiterate': 0.0,\n",
              " 'previous_CharGramCountVectorizer_3': 0.0,\n",
              " 'month_CharGramCountVectorizer_dec': 0.0,\n",
              " 'month_CharGramCountVectorizer_aug': 0.0,\n",
              " 'housing_CharGramCountVectorizer_unknown': 0.0,\n",
              " 'default_CharGramCountVectorizer_yes': 0.0,\n",
              " 'campaign_CharGramCountVectorizer_14': 0.0,\n",
              " 'campaign_CharGramCountVectorizer_10': 0.0,\n",
              " 'pdays_CharGramCountVectorizer_16': 0.0,\n",
              " 'campaign_CharGramCountVectorizer_56': 0.0,\n",
              " 'campaign_CharGramCountVectorizer_8': 0.0,\n",
              " 'campaign_CharGramCountVectorizer_9': 0.0,\n",
              " 'pdays_CharGramCountVectorizer_0': 0.0,\n",
              " 'pdays_CharGramCountVectorizer_1': 0.0,\n",
              " 'pdays_CharGramCountVectorizer_10': 0.0,\n",
              " 'pdays_CharGramCountVectorizer_11': 0.0,\n",
              " 'pdays_CharGramCountVectorizer_12': 0.0,\n",
              " 'pdays_CharGramCountVectorizer_13': 0.0,\n",
              " 'pdays_CharGramCountVectorizer_14': 0.0,\n",
              " 'pdays_CharGramCountVectorizer_15': 0.0,\n",
              " 'pdays_CharGramCountVectorizer_17': 0.0,\n",
              " 'campaign_CharGramCountVectorizer_43': 0.0,\n",
              " 'pdays_CharGramCountVectorizer_18': 0.0,\n",
              " 'pdays_CharGramCountVectorizer_19': 0.0,\n",
              " 'pdays_CharGramCountVectorizer_20': 0.0,\n",
              " 'pdays_CharGramCountVectorizer_21': 0.0,\n",
              " 'pdays_CharGramCountVectorizer_22': 0.0,\n",
              " 'pdays_CharGramCountVectorizer_26': 0.0,\n",
              " 'pdays_CharGramCountVectorizer_27': 0.0,\n",
              " 'pdays_CharGramCountVectorizer_5': 0.0}"
            ]
          },
          "metadata": {},
          "execution_count": 58
        }
      ],
      "metadata": {}
    },
    {
      "cell_type": "markdown",
      "source": [
        "#### Download raw feature importance from artifact store -> 从工件库下载原始特性重要性\r\n",
        "您可以使用ExplanationClient从最佳运行的工件库下载原始特性解释。"
      ],
      "metadata": {}
    },
    {
      "cell_type": "code",
      "execution_count": 59,
      "source": [
        "client = ExplanationClient.from_run(best_run)\r\n",
        "engineered_explanations = client.download_model_explanation(raw=True)\r\n",
        "exp_data = engineered_explanations.get_feature_importance_dict()\r\n",
        "exp_data"
      ],
      "outputs": [
        {
          "output_type": "execute_result",
          "data": {
            "text/plain": [
              "{'duration': 1.0161931693493682,\n",
              " 'nr.employed': 0.5239865699015908,\n",
              " 'cons.conf.idx': 0.2174226550040145,\n",
              " 'emp.var.rate': 0.20101416384082046,\n",
              " 'euribor3m': 0.19203022291893437,\n",
              " 'poutcome': 0.056409818607170564,\n",
              " 'cons.price.idx': 0.054616947985119534,\n",
              " 'age': 0.04776001485439931,\n",
              " 'month': 0.04138082509214909,\n",
              " 'pdays': 0.040656015534370364,\n",
              " 'day_of_week': 0.04014257734595896,\n",
              " 'education': 0.030376669672807895,\n",
              " 'default': 0.028860553348805943,\n",
              " 'campaign': 0.027900783017970603,\n",
              " 'job': 0.02764456984085936,\n",
              " 'contact': 0.017242977881314955,\n",
              " 'previous': 0.012943602508246634,\n",
              " 'marital': 0.0017782749137085102,\n",
              " 'housing': 0.0005155075928404481,\n",
              " 'loan': 0.0004008046379516597}"
            ]
          },
          "metadata": {},
          "execution_count": 59
        }
      ],
      "metadata": {}
    },
    {
      "cell_type": "markdown",
      "source": [
        "### 获取最佳ONNX模型\r\n",
        "\r\n",
        "下面我们从迭代中选择最佳候选方案。`get_output`方法返回最佳运行和拟合模型。该模型包括管道和任何预处理。`get_output`上的重载允许您检索*任何*记录度量或特定*迭代*的最佳运行和拟合模型。\r\n",
        "\r\n",
        "设置参数return_onnx_model=True以检索最佳的ONNX模型，而不是Python模型。"
      ],
      "metadata": {}
    },
    {
      "cell_type": "code",
      "execution_count": 60,
      "source": [
        "best_run, onnx_mdl = remote_run.get_output(return_onnx_model=True)"
      ],
      "outputs": [],
      "metadata": {}
    },
    {
      "cell_type": "markdown",
      "source": [
        "### Save the best ONNX model"
      ],
      "metadata": {}
    },
    {
      "cell_type": "code",
      "execution_count": 61,
      "source": [
        "from azureml.automl.runtime.onnx_convert import OnnxConverter\r\n",
        "onnx_fl_path = \"./best_model.onnx\"\r\n",
        "OnnxConverter.save_onnx_model(onnx_mdl, onnx_fl_path)"
      ],
      "outputs": [],
      "metadata": {}
    },
    {
      "cell_type": "markdown",
      "source": [
        "### Predict with the ONNX model, using onnxruntime package -> 使用ONNX运行时包，来用ONNX模型进行预测"
      ],
      "metadata": {}
    },
    {
      "cell_type": "code",
      "execution_count": 62,
      "source": [
        "import sys\r\n",
        "import json\r\n",
        "from azureml.automl.core.onnx_convert import OnnxConvertConstants\r\n",
        "from azureml.train.automl import constants\r\n",
        "\r\n",
        "if sys.version_info < OnnxConvertConstants.OnnxIncompatiblePythonVersion:\r\n",
        "    python_version_compatible = True\r\n",
        "else:\r\n",
        "    python_version_compatible = False\r\n",
        "\r\n",
        "import onnxruntime\r\n",
        "from azureml.automl.runtime.onnx_convert import OnnxInferenceHelper\r\n",
        "\r\n",
        "def get_onnx_res(run):\r\n",
        "    res_path = 'onnx_resource.json'\r\n",
        "    run.download_file(name=constants.MODEL_RESOURCE_PATH_ONNX, output_file_path=res_path)\r\n",
        "    with open(res_path) as f:\r\n",
        "        onnx_res = json.load(f)\r\n",
        "    return onnx_res\r\n",
        "\r\n",
        "if python_version_compatible:\r\n",
        "    test_df = test_dataset.to_pandas_dataframe()\r\n",
        "    mdl_bytes = onnx_mdl.SerializeToString()\r\n",
        "    onnx_res = get_onnx_res(best_run)\r\n",
        "\r\n",
        "    onnxrt_helper = OnnxInferenceHelper(mdl_bytes, onnx_res)\r\n",
        "    pred_onnx, pred_prob_onnx = onnxrt_helper.predict(test_df)\r\n",
        "\r\n",
        "    print(pred_onnx)\r\n",
        "    print(pred_prob_onnx)\r\n",
        "else:\r\n",
        "    print('Please use Python version 3.6 or 3.7 to run the inference helper.')"
      ],
      "outputs": [
        {
          "output_type": "stream",
          "name": "stdout",
          "text": [
            "['yes' 'no' 'no' ... 'yes' 'no' 'no']\n",
            "[[0.24757645 0.75242364]\n",
            " [0.9726738  0.02732623]\n",
            " [0.889619   0.11038105]\n",
            " ...\n",
            " [0.38156956 0.6184305 ]\n",
            " [0.99136186 0.00863812]\n",
            " [0.99007356 0.00992649]]\n"
          ]
        }
      ],
      "metadata": {}
    },
    {
      "cell_type": "markdown",
      "source": [
        "## Deploy\r\n",
        "\r\n",
        "### 获取最佳模型\r\n",
        "\r\n",
        "下面我们从迭代中选择最佳管道。`get_output`方法返回最佳运行和拟合模型。`get_output`上的重载允许您检索*任何*记录度量或特定*迭代*的最佳运行和拟合模型。"
      ],
      "metadata": {}
    },
    {
      "cell_type": "markdown",
      "source": [
        "#### Widget for Monitoring Runs -> 用于监视运行的小部件\r\n",
        "\r\n",
        "小部件将在运行第一次迭代时首先报告“加载”状态。完成第一次迭代后，将显示一个自动更新的图表。该小部件将每分钟刷新一次，因此您应该在子项运行完成时看到图形更新。\r\n",
        "\r\n",
        "**提示：**小部件在底部显示一个链接。使用此链接打开web界面，以浏览各个运行详细信息"
      ],
      "metadata": {}
    },
    {
      "cell_type": "code",
      "execution_count": 66,
      "source": [
        "best_run, fitted_model = remote_run.get_output()"
      ],
      "outputs": [
        {
          "output_type": "stream",
          "name": "stderr",
          "text": [
            "WARNING:root:The version of the SDK does not match the version the model was trained on.\n",
            "WARNING:root:The consistency in the result may not be guaranteed.\n",
            "WARNING:root:Package:azureml-automl-core, training version:1.32.0, current version:1.18.0.post2\n",
            "Package:azureml-automl-runtime, training version:1.32.0, current version:1.18.0.post2\n",
            "Package:azureml-dataprep, training version:2.18.0, current version:2.4.5\n",
            "Package:azureml-dataprep-native, training version:36.0.0, current version:24.0.0\n",
            "Package:azureml-dataprep-rslex, training version:1.16.1, current version:1.2.3\n",
            "Package:azureml-dataset-runtime, training version:1.32.0, current version:1.18.0\n",
            "Package:azureml-defaults, training version:1.32.0, current version:1.18.0\n",
            "Package:azureml-interpret, training version:1.32.0, current version:1.18.0\n",
            "Package:azureml-mlflow, training version:1.32.0, current version:1.31.0\n",
            "Package:azureml-telemetry, training version:1.32.0, current version:1.18.0.post1\n",
            "Package:azureml-train-automl-client, training version:1.32.0, current version:1.18.0\n",
            "Package:azureml-train-automl-runtime, training version:1.32.0, current version:1.18.0.post1\n",
            "WARNING:root:Please ensure the version of your local conda dependencies match the version on which your model was trained in order to properly retrieve your model.\n"
          ]
        }
      ],
      "metadata": {}
    },
    {
      "cell_type": "code",
      "execution_count": 65,
      "source": [
        "model_name = best_run.properties['model_name']\r\n",
        "\r\n",
        "script_file_name = 'inference/score.py'\r\n",
        "\r\n",
        "best_run.download_file('outputs/scoring_file_v_1_0_0.py', 'inference/score.py')"
      ],
      "outputs": [],
      "metadata": {}
    },
    {
      "cell_type": "markdown",
      "source": [
        "### Register the Fitted Model for Deployment -> 注册最佳的模型，为部署准备\r\n",
        "如果在`register_model`调用中既没有指定`metric`也没有指定`iteration`，则会注册具有最佳主度量的迭代。"
      ],
      "metadata": {}
    },
    {
      "cell_type": "code",
      "execution_count": 67,
      "source": [
        "description = 'AutoML Model trained on bank marketing data to predict if a client will subscribe to a term deposit'\r\n",
        "tags = None\r\n",
        "model = remote_run.register_model(model_name = model_name, description = description, tags = tags)\r\n",
        "\r\n",
        "print(remote_run.model_id) # This will be written to the script file later in the notebook. -> 这将在稍后的笔记本中写入脚本文件。"
      ],
      "outputs": [
        {
          "output_type": "stream",
          "name": "stdout",
          "text": [
            "AutoML56941284252\n"
          ]
        }
      ],
      "metadata": {}
    },
    {
      "cell_type": "markdown",
      "source": [
        "### Deploy the model as a Web Service on Azure Container Instance"
      ],
      "metadata": {}
    },
    {
      "cell_type": "code",
      "execution_count": 68,
      "source": [
        "from azureml.core.model import InferenceConfig\r\n",
        "from azureml.core.webservice import AciWebservice\r\n",
        "from azureml.core.webservice import Webservice\r\n",
        "from azureml.core.model import Model\r\n",
        "from azureml.core.environment import Environment\r\n",
        "\r\n",
        "inference_config = InferenceConfig(entry_script=script_file_name)\r\n",
        "\r\n",
        "aciconfig = AciWebservice.deploy_configuration(cpu_cores = 1, \r\n",
        "                                               memory_gb = 1, \r\n",
        "                                               tags = {'area': \"bmData\", 'type': \"automl_classification\"}, \r\n",
        "                                               description = 'sample service for Automl Classification')\r\n",
        "\r\n",
        "aci_service_name = 'automl-sample-bankmarketing-all'\r\n",
        "print(aci_service_name)\r\n",
        "aci_service = Model.deploy(ws, aci_service_name, [model], inference_config, aciconfig)\r\n",
        "aci_service.wait_for_deployment(True)\r\n",
        "print(aci_service.state)"
      ],
      "outputs": [
        {
          "output_type": "stream",
          "name": "stdout",
          "text": [
            "automl-sample-bankmarketing-all\n"
          ]
        },
        {
          "output_type": "error",
          "ename": "WebserviceException",
          "evalue": "WebserviceException:\n\tMessage: Service automl-sample-bankmarketing-all with the same name already exists, please use a different service name or delete the existing service.\n\tInnerException None\n\tErrorResponse \n{\n    \"error\": {\n        \"message\": \"Service automl-sample-bankmarketing-all with the same name already exists, please use a different service name or delete the existing service.\"\n    }\n}",
          "traceback": [
            "\u001b[0;31m---------------------------------------------------------------------------\u001b[0m",
            "\u001b[0;31mWebserviceException\u001b[0m                       Traceback (most recent call last)",
            "\u001b[0;32m<ipython-input-68-53a2e26abca3>\u001b[0m in \u001b[0;36m<module>\u001b[0;34m\u001b[0m\n\u001b[1;32m     14\u001b[0m \u001b[0maci_service_name\u001b[0m \u001b[0;34m=\u001b[0m \u001b[0;34m'automl-sample-bankmarketing-all'\u001b[0m\u001b[0;34m\u001b[0m\u001b[0;34m\u001b[0m\u001b[0m\n\u001b[1;32m     15\u001b[0m \u001b[0mprint\u001b[0m\u001b[0;34m(\u001b[0m\u001b[0maci_service_name\u001b[0m\u001b[0;34m)\u001b[0m\u001b[0;34m\u001b[0m\u001b[0;34m\u001b[0m\u001b[0m\n\u001b[0;32m---> 16\u001b[0;31m \u001b[0maci_service\u001b[0m \u001b[0;34m=\u001b[0m \u001b[0mModel\u001b[0m\u001b[0;34m.\u001b[0m\u001b[0mdeploy\u001b[0m\u001b[0;34m(\u001b[0m\u001b[0mws\u001b[0m\u001b[0;34m,\u001b[0m \u001b[0maci_service_name\u001b[0m\u001b[0;34m,\u001b[0m \u001b[0;34m[\u001b[0m\u001b[0mmodel\u001b[0m\u001b[0;34m]\u001b[0m\u001b[0;34m,\u001b[0m \u001b[0minference_config\u001b[0m\u001b[0;34m,\u001b[0m \u001b[0maciconfig\u001b[0m\u001b[0;34m)\u001b[0m\u001b[0;34m\u001b[0m\u001b[0;34m\u001b[0m\u001b[0m\n\u001b[0m\u001b[1;32m     17\u001b[0m \u001b[0maci_service\u001b[0m\u001b[0;34m.\u001b[0m\u001b[0mwait_for_deployment\u001b[0m\u001b[0;34m(\u001b[0m\u001b[0;32mTrue\u001b[0m\u001b[0;34m)\u001b[0m\u001b[0;34m\u001b[0m\u001b[0;34m\u001b[0m\u001b[0m\n\u001b[1;32m     18\u001b[0m \u001b[0mprint\u001b[0m\u001b[0;34m(\u001b[0m\u001b[0maci_service\u001b[0m\u001b[0;34m.\u001b[0m\u001b[0mstate\u001b[0m\u001b[0;34m)\u001b[0m\u001b[0;34m\u001b[0m\u001b[0;34m\u001b[0m\u001b[0m\n",
            "\u001b[0;32m/anaconda/envs/azureml_py38/lib/python3.8/site-packages/azureml/core/model.py\u001b[0m in \u001b[0;36mdeploy\u001b[0;34m(workspace, name, models, inference_config, deployment_config, deployment_target, overwrite, show_output)\u001b[0m\n\u001b[1;32m   1667\u001b[0m \u001b[0;34m\u001b[0m\u001b[0m\n\u001b[1;32m   1668\u001b[0m         \u001b[0;32mif\u001b[0m \u001b[0muse_env_path\u001b[0m\u001b[0;34m:\u001b[0m\u001b[0;34m\u001b[0m\u001b[0;34m\u001b[0m\u001b[0m\n\u001b[0;32m-> 1669\u001b[0;31m             return Model._deploy_with_environment(workspace, name, models, inference_config, deployment_config,\n\u001b[0m\u001b[1;32m   1670\u001b[0m                                                   deployment_target, overwrite, show_output)\n\u001b[1;32m   1671\u001b[0m \u001b[0;34m\u001b[0m\u001b[0m\n",
            "\u001b[0;32m/anaconda/envs/azureml_py38/lib/python3.8/site-packages/azureml/core/model.py\u001b[0m in \u001b[0;36m_deploy_with_environment\u001b[0;34m(workspace, name, models, inference_config, deployment_config, deployment_target, overwrite, show_output)\u001b[0m\n\u001b[1;32m   1874\u001b[0m             \u001b[0minference_config\u001b[0m\u001b[0;34m.\u001b[0m\u001b[0m_build_environment_image_request\u001b[0m\u001b[0;34m(\u001b[0m\u001b[0mworkspace\u001b[0m\u001b[0;34m,\u001b[0m \u001b[0;34m[\u001b[0m\u001b[0mmodel\u001b[0m\u001b[0;34m.\u001b[0m\u001b[0mid\u001b[0m \u001b[0;32mfor\u001b[0m \u001b[0mmodel\u001b[0m \u001b[0;32min\u001b[0m \u001b[0mmodels\u001b[0m\u001b[0;34m]\u001b[0m\u001b[0;34m,\u001b[0m \u001b[0mshow_output\u001b[0m\u001b[0;34m)\u001b[0m\u001b[0;34m\u001b[0m\u001b[0;34m\u001b[0m\u001b[0m\n\u001b[1;32m   1875\u001b[0m \u001b[0;34m\u001b[0m\u001b[0m\n\u001b[0;32m-> 1876\u001b[0;31m         return Model._deploy_with_environment_image_request(workspace, name, environment_image_request,\n\u001b[0m\u001b[1;32m   1877\u001b[0m                                                             \u001b[0mdeployment_config\u001b[0m\u001b[0;34m,\u001b[0m \u001b[0mdeployment_target\u001b[0m\u001b[0;34m,\u001b[0m \u001b[0moverwrite\u001b[0m\u001b[0;34m,\u001b[0m\u001b[0;34m\u001b[0m\u001b[0;34m\u001b[0m\u001b[0m\n\u001b[1;32m   1878\u001b[0m                                                             show_output)\n",
            "\u001b[0;32m/anaconda/envs/azureml_py38/lib/python3.8/site-packages/azureml/core/model.py\u001b[0m in \u001b[0;36m_deploy_with_environment_image_request\u001b[0;34m(workspace, name, environment_image_request, deployment_config, deployment_target, overwrite, show_output)\u001b[0m\n\u001b[1;32m   1924\u001b[0m             \u001b[0mwebservice_payload\u001b[0m\u001b[0;34m[\u001b[0m\u001b[0;34m'computeName'\u001b[0m\u001b[0;34m]\u001b[0m \u001b[0;34m=\u001b[0m \u001b[0mdeployment_target\u001b[0m\u001b[0;34m.\u001b[0m\u001b[0mname\u001b[0m\u001b[0;34m\u001b[0m\u001b[0;34m\u001b[0m\u001b[0m\n\u001b[1;32m   1925\u001b[0m \u001b[0;34m\u001b[0m\u001b[0m\n\u001b[0;32m-> 1926\u001b[0;31m         return Webservice._deploy_webservice(workspace, name, webservice_payload, overwrite, webservice_class,\n\u001b[0m\u001b[1;32m   1927\u001b[0m                                              show_output)\n\u001b[1;32m   1928\u001b[0m \u001b[0;34m\u001b[0m\u001b[0m\n",
            "\u001b[0;32m/anaconda/envs/azureml_py38/lib/python3.8/site-packages/azureml/core/webservice/webservice.py\u001b[0m in \u001b[0;36m_deploy_webservice\u001b[0;34m(workspace, name, webservice_payload, overwrite, webservice_class, show_output)\u001b[0m\n\u001b[1;32m    825\u001b[0m         \"\"\"\n\u001b[1;32m    826\u001b[0m         \u001b[0;31m# TODO Remove check_for_existing_webservice() later, this check has already included in common validation.\u001b[0m\u001b[0;34m\u001b[0m\u001b[0;34m\u001b[0m\u001b[0;34m\u001b[0m\u001b[0m\n\u001b[0;32m--> 827\u001b[0;31m         \u001b[0mWebservice\u001b[0m\u001b[0;34m.\u001b[0m\u001b[0mcheck_for_existing_webservice\u001b[0m\u001b[0;34m(\u001b[0m\u001b[0mworkspace\u001b[0m\u001b[0;34m,\u001b[0m \u001b[0mname\u001b[0m\u001b[0;34m,\u001b[0m \u001b[0moverwrite\u001b[0m\u001b[0;34m)\u001b[0m\u001b[0;34m\u001b[0m\u001b[0;34m\u001b[0m\u001b[0m\n\u001b[0m\u001b[1;32m    828\u001b[0m         Webservice._check_for_webservice(workspace, name, Webservice._get_deploy_compute_type(webservice_payload),\n\u001b[1;32m    829\u001b[0m                                          webservice_payload, SERVICE_REQUEST_OPERATION_CREATE)\n",
            "\u001b[0;32m/anaconda/envs/azureml_py38/lib/python3.8/site-packages/azureml/core/webservice/webservice.py\u001b[0m in \u001b[0;36mcheck_for_existing_webservice\u001b[0;34m(workspace, name, overwrite, request_func, check_func)\u001b[0m\n\u001b[1;32m    666\u001b[0m                 \u001b[0;32mreturn\u001b[0m \u001b[0mWebservice\u001b[0m\u001b[0;34m.\u001b[0m\u001b[0m_check_validate_error\u001b[0m\u001b[0;34m(\u001b[0m\u001b[0mcontent\u001b[0m\u001b[0;34m)\u001b[0m\u001b[0;34m\u001b[0m\u001b[0;34m\u001b[0m\u001b[0m\n\u001b[1;32m    667\u001b[0m \u001b[0;34m\u001b[0m\u001b[0m\n\u001b[0;32m--> 668\u001b[0;31m         \u001b[0mWebservice\u001b[0m\u001b[0;34m.\u001b[0m\u001b[0m_run_validate_framework\u001b[0m\u001b[0;34m(\u001b[0m\u001b[0mrequest_func\u001b[0m\u001b[0;34m,\u001b[0m \u001b[0mcheck_func\u001b[0m\u001b[0;34m)\u001b[0m\u001b[0;34m\u001b[0m\u001b[0;34m\u001b[0m\u001b[0m\n\u001b[0m\u001b[1;32m    669\u001b[0m \u001b[0;34m\u001b[0m\u001b[0m\n\u001b[1;32m    670\u001b[0m     \u001b[0;34m@\u001b[0m\u001b[0mstaticmethod\u001b[0m\u001b[0;34m\u001b[0m\u001b[0;34m\u001b[0m\u001b[0m\n",
            "\u001b[0;32m/anaconda/envs/azureml_py38/lib/python3.8/site-packages/azureml/core/webservice/webservice.py\u001b[0m in \u001b[0;36m_run_validate_framework\u001b[0;34m(request_func, check_func)\u001b[0m\n\u001b[1;32m    637\u001b[0m             \u001b[0;32mreturn\u001b[0m\u001b[0;34m\u001b[0m\u001b[0;34m\u001b[0m\u001b[0m\n\u001b[1;32m    638\u001b[0m \u001b[0;34m\u001b[0m\u001b[0m\n\u001b[0;32m--> 639\u001b[0;31m         \u001b[0;32mraise\u001b[0m \u001b[0mWebserviceException\u001b[0m\u001b[0;34m(\u001b[0m\u001b[0merror\u001b[0m\u001b[0;34m)\u001b[0m\u001b[0;34m\u001b[0m\u001b[0;34m\u001b[0m\u001b[0m\n\u001b[0m\u001b[1;32m    640\u001b[0m \u001b[0;34m\u001b[0m\u001b[0m\n\u001b[1;32m    641\u001b[0m     \u001b[0;34m@\u001b[0m\u001b[0mstaticmethod\u001b[0m\u001b[0;34m\u001b[0m\u001b[0;34m\u001b[0m\u001b[0m\n",
            "\u001b[0;31mWebserviceException\u001b[0m: WebserviceException:\n\tMessage: Service automl-sample-bankmarketing-all with the same name already exists, please use a different service name or delete the existing service.\n\tInnerException None\n\tErrorResponse \n{\n    \"error\": {\n        \"message\": \"Service automl-sample-bankmarketing-all with the same name already exists, please use a different service name or delete the existing service.\"\n    }\n}"
          ]
        }
      ],
      "metadata": {}
    },
    {
      "cell_type": "markdown",
      "source": [
        "### Get Logs from a Deployed Web Service -> 从部署的Web服务获取日志\r\n",
        "\r\n",
        "从部署的Web服务获取日志"
      ],
      "metadata": {}
    },
    {
      "cell_type": "code",
      "execution_count": null,
      "source": [
        "#aci_service.get_logs()"
      ],
      "outputs": [],
      "metadata": {}
    },
    {
      "cell_type": "markdown",
      "source": [
        "## Test\r\n",
        "\r\n",
        "现在模型已经训练好，通过训练好的模型运行测试数据以获得预测值。这将调用ACI web服务来进行预测。\r\n",
        "\r\n",
        "请注意，传递给ACI web服务的JSON是一个数据行数组。每一行应该是一个值数组，其顺序与用于培训的值相同，或者是一个字典，其中键与用于培训的列名相同。下面的示例使用字典行。"
      ],
      "metadata": {}
    },
    {
      "cell_type": "code",
      "execution_count": 69,
      "source": [
        "# Load the bank marketing datasets. -> 加载银行营销数据集。\r\n",
        "from numpy import array"
      ],
      "outputs": [],
      "metadata": {}
    },
    {
      "cell_type": "code",
      "execution_count": 70,
      "source": [
        "X_test = test_dataset.drop_columns(columns=['y'])\r\n",
        "y_test = test_dataset.keep_columns(columns=['y'], validate=True)\r\n",
        "test_dataset.take(5).to_pandas_dataframe()"
      ],
      "outputs": [
        {
          "output_type": "execute_result",
          "data": {
            "text/plain": [
              "   age            job   marital          education default housing loan  \\\n",
              "0  51   retired        married   basic.4y           no      no      no    \n",
              "1  53   self-employed  divorced  university.degree  no      no      no    \n",
              "2  32   services       married   basic.9y           no      no      no    \n",
              "3  44   management     married   university.degree  no      yes     no    \n",
              "4  36   admin.         single    university.degree  no      no      no    \n",
              "\n",
              "    contact month day_of_week  ...  campaign  pdays  previous     poutcome  \\\n",
              "0  cellular  jul   wed         ...  1         13     1         success       \n",
              "1  cellular  jul   mon         ...  3         999    0         nonexistent   \n",
              "2  cellular  jul   tue         ...  1         999    0         nonexistent   \n",
              "3  cellular  nov   mon         ...  1         999    0         nonexistent   \n",
              "4  cellular  may   fri         ...  3         999    1         failure       \n",
              "\n",
              "  emp.var.rate  cons.price.idx  cons.conf.idx  euribor3m  nr.employed   y  \n",
              "0 -2.90        92.47           -33.60         1.08       5076.20       no  \n",
              "1 1.40         93.92           -42.70         4.96       5228.10       no  \n",
              "2 1.40         93.92           -42.70         4.96       5228.10       no  \n",
              "3 -0.10        93.20           -42.00         4.19       5195.80       no  \n",
              "4 -1.80        92.89           -46.20         1.31       5099.10       no  \n",
              "\n",
              "[5 rows x 21 columns]"
            ],
            "text/html": [
              "<div>\n",
              "<style scoped>\n",
              "    .dataframe tbody tr th:only-of-type {\n",
              "        vertical-align: middle;\n",
              "    }\n",
              "\n",
              "    .dataframe tbody tr th {\n",
              "        vertical-align: top;\n",
              "    }\n",
              "\n",
              "    .dataframe thead th {\n",
              "        text-align: right;\n",
              "    }\n",
              "</style>\n",
              "<table border=\"1\" class=\"dataframe\">\n",
              "  <thead>\n",
              "    <tr style=\"text-align: right;\">\n",
              "      <th></th>\n",
              "      <th>age</th>\n",
              "      <th>job</th>\n",
              "      <th>marital</th>\n",
              "      <th>education</th>\n",
              "      <th>default</th>\n",
              "      <th>housing</th>\n",
              "      <th>loan</th>\n",
              "      <th>contact</th>\n",
              "      <th>month</th>\n",
              "      <th>day_of_week</th>\n",
              "      <th>...</th>\n",
              "      <th>campaign</th>\n",
              "      <th>pdays</th>\n",
              "      <th>previous</th>\n",
              "      <th>poutcome</th>\n",
              "      <th>emp.var.rate</th>\n",
              "      <th>cons.price.idx</th>\n",
              "      <th>cons.conf.idx</th>\n",
              "      <th>euribor3m</th>\n",
              "      <th>nr.employed</th>\n",
              "      <th>y</th>\n",
              "    </tr>\n",
              "  </thead>\n",
              "  <tbody>\n",
              "    <tr>\n",
              "      <th>0</th>\n",
              "      <td>51</td>\n",
              "      <td>retired</td>\n",
              "      <td>married</td>\n",
              "      <td>basic.4y</td>\n",
              "      <td>no</td>\n",
              "      <td>no</td>\n",
              "      <td>no</td>\n",
              "      <td>cellular</td>\n",
              "      <td>jul</td>\n",
              "      <td>wed</td>\n",
              "      <td>...</td>\n",
              "      <td>1</td>\n",
              "      <td>13</td>\n",
              "      <td>1</td>\n",
              "      <td>success</td>\n",
              "      <td>-2.90</td>\n",
              "      <td>92.47</td>\n",
              "      <td>-33.60</td>\n",
              "      <td>1.08</td>\n",
              "      <td>5076.20</td>\n",
              "      <td>no</td>\n",
              "    </tr>\n",
              "    <tr>\n",
              "      <th>1</th>\n",
              "      <td>53</td>\n",
              "      <td>self-employed</td>\n",
              "      <td>divorced</td>\n",
              "      <td>university.degree</td>\n",
              "      <td>no</td>\n",
              "      <td>no</td>\n",
              "      <td>no</td>\n",
              "      <td>cellular</td>\n",
              "      <td>jul</td>\n",
              "      <td>mon</td>\n",
              "      <td>...</td>\n",
              "      <td>3</td>\n",
              "      <td>999</td>\n",
              "      <td>0</td>\n",
              "      <td>nonexistent</td>\n",
              "      <td>1.40</td>\n",
              "      <td>93.92</td>\n",
              "      <td>-42.70</td>\n",
              "      <td>4.96</td>\n",
              "      <td>5228.10</td>\n",
              "      <td>no</td>\n",
              "    </tr>\n",
              "    <tr>\n",
              "      <th>2</th>\n",
              "      <td>32</td>\n",
              "      <td>services</td>\n",
              "      <td>married</td>\n",
              "      <td>basic.9y</td>\n",
              "      <td>no</td>\n",
              "      <td>no</td>\n",
              "      <td>no</td>\n",
              "      <td>cellular</td>\n",
              "      <td>jul</td>\n",
              "      <td>tue</td>\n",
              "      <td>...</td>\n",
              "      <td>1</td>\n",
              "      <td>999</td>\n",
              "      <td>0</td>\n",
              "      <td>nonexistent</td>\n",
              "      <td>1.40</td>\n",
              "      <td>93.92</td>\n",
              "      <td>-42.70</td>\n",
              "      <td>4.96</td>\n",
              "      <td>5228.10</td>\n",
              "      <td>no</td>\n",
              "    </tr>\n",
              "    <tr>\n",
              "      <th>3</th>\n",
              "      <td>44</td>\n",
              "      <td>management</td>\n",
              "      <td>married</td>\n",
              "      <td>university.degree</td>\n",
              "      <td>no</td>\n",
              "      <td>yes</td>\n",
              "      <td>no</td>\n",
              "      <td>cellular</td>\n",
              "      <td>nov</td>\n",
              "      <td>mon</td>\n",
              "      <td>...</td>\n",
              "      <td>1</td>\n",
              "      <td>999</td>\n",
              "      <td>0</td>\n",
              "      <td>nonexistent</td>\n",
              "      <td>-0.10</td>\n",
              "      <td>93.20</td>\n",
              "      <td>-42.00</td>\n",
              "      <td>4.19</td>\n",
              "      <td>5195.80</td>\n",
              "      <td>no</td>\n",
              "    </tr>\n",
              "    <tr>\n",
              "      <th>4</th>\n",
              "      <td>36</td>\n",
              "      <td>admin.</td>\n",
              "      <td>single</td>\n",
              "      <td>university.degree</td>\n",
              "      <td>no</td>\n",
              "      <td>no</td>\n",
              "      <td>no</td>\n",
              "      <td>cellular</td>\n",
              "      <td>may</td>\n",
              "      <td>fri</td>\n",
              "      <td>...</td>\n",
              "      <td>3</td>\n",
              "      <td>999</td>\n",
              "      <td>1</td>\n",
              "      <td>failure</td>\n",
              "      <td>-1.80</td>\n",
              "      <td>92.89</td>\n",
              "      <td>-46.20</td>\n",
              "      <td>1.31</td>\n",
              "      <td>5099.10</td>\n",
              "      <td>no</td>\n",
              "    </tr>\n",
              "  </tbody>\n",
              "</table>\n",
              "<p>5 rows × 21 columns</p>\n",
              "</div>"
            ]
          },
          "metadata": {},
          "execution_count": 70
        }
      ],
      "metadata": {}
    },
    {
      "cell_type": "code",
      "execution_count": 71,
      "source": [
        "X_test = X_test.to_pandas_dataframe()\r\n",
        "y_test = y_test.to_pandas_dataframe()"
      ],
      "outputs": [],
      "metadata": {}
    },
    {
      "cell_type": "code",
      "execution_count": 72,
      "source": [
        "import json\r\n",
        "import requests\r\n",
        "\r\n",
        "X_test_json = X_test.to_json(orient='records')\r\n",
        "data = \"{\\\"data\\\": \" + X_test_json +\"}\"\r\n",
        "headers = {'Content-Type': 'application/json'}\r\n",
        "\r\n",
        "resp = requests.post(aci_service.scoring_uri, data, headers=headers)\r\n",
        "\r\n",
        "y_pred = json.loads(json.loads(resp.text))['result']"
      ],
      "outputs": [],
      "metadata": {}
    },
    {
      "cell_type": "code",
      "execution_count": 73,
      "source": [
        "actual = array(y_test)\r\n",
        "actual = actual[:,0]\r\n",
        "print(len(y_pred), \" \", len(actual))"
      ],
      "outputs": [
        {
          "output_type": "stream",
          "name": "stdout",
          "text": [
            "4120   4120\n"
          ]
        }
      ],
      "metadata": {}
    },
    {
      "cell_type": "markdown",
      "source": [
        "### Calculate metrics for the prediction -> 计算预测的指标\r\n",
        "\r\n",
        "现在将数据可视化为混淆矩阵，将预测值与实际值进行比较。\r\n"
      ],
      "metadata": {}
    },
    {
      "cell_type": "code",
      "execution_count": 75,
      "source": [
        "%matplotlib notebook\r\n",
        "from sklearn.metrics import confusion_matrix\r\n",
        "import numpy as np\r\n",
        "import itertools\r\n",
        "\r\n",
        "cf =confusion_matrix(actual,y_pred)\r\n",
        "plt.imshow(cf,cmap=plt.cm.Blues,interpolation='nearest')\r\n",
        "plt.colorbar()\r\n",
        "plt.title('Confusion Matrix')\r\n",
        "plt.xlabel('Predicted')\r\n",
        "plt.ylabel('Actual')\r\n",
        "class_labels = ['no','yes']\r\n",
        "tick_marks = np.arange(len(class_labels))\r\n",
        "plt.xticks(tick_marks,class_labels)\r\n",
        "plt.yticks([-0.5,0,1,1.5],['','no','yes',''])\r\n",
        "# plotting text value inside cells\r\n",
        "thresh = cf.max() / 2.\r\n",
        "for i,j in itertools.product(range(cf.shape[0]),range(cf.shape[1])):\r\n",
        "    plt.text(j,i,format(cf[i,j],'d'),horizontalalignment='center',color='white' if cf[i,j] >thresh else 'black')\r\n",
        "plt.show()"
      ],
      "outputs": [
        {
          "output_type": "display_data",
          "data": {
            "text/plain": [
              "<IPython.core.display.Javascript object>"
            ],
            "application/javascript": "/* Put everything inside the global mpl namespace */\n/* global mpl */\nwindow.mpl = {};\n\nmpl.get_websocket_type = function () {\n    if (typeof WebSocket !== 'undefined') {\n        return WebSocket;\n    } else if (typeof MozWebSocket !== 'undefined') {\n        return MozWebSocket;\n    } else {\n        alert(\n            'Your browser does not have WebSocket support. ' +\n                'Please try Chrome, Safari or Firefox ≥ 6. ' +\n                'Firefox 4 and 5 are also supported but you ' +\n                'have to enable WebSockets in about:config.'\n        );\n    }\n};\n\nmpl.figure = function (figure_id, websocket, ondownload, parent_element) {\n    this.id = figure_id;\n\n    this.ws = websocket;\n\n    this.supports_binary = this.ws.binaryType !== undefined;\n\n    if (!this.supports_binary) {\n        var warnings = document.getElementById('mpl-warnings');\n        if (warnings) {\n            warnings.style.display = 'block';\n            warnings.textContent =\n                'This browser does not support binary websocket messages. ' +\n                'Performance may be slow.';\n        }\n    }\n\n    this.imageObj = new Image();\n\n    this.context = undefined;\n    this.message = undefined;\n    this.canvas = undefined;\n    this.rubberband_canvas = undefined;\n    this.rubberband_context = undefined;\n    this.format_dropdown = undefined;\n\n    this.image_mode = 'full';\n\n    this.root = document.createElement('div');\n    this.root.setAttribute('style', 'display: inline-block');\n    this._root_extra_style(this.root);\n\n    parent_element.appendChild(this.root);\n\n    this._init_header(this);\n    this._init_canvas(this);\n    this._init_toolbar(this);\n\n    var fig = this;\n\n    this.waiting = false;\n\n    this.ws.onopen = function () {\n        fig.send_message('supports_binary', { value: fig.supports_binary });\n        fig.send_message('send_image_mode', {});\n        if (fig.ratio !== 1) {\n            fig.send_message('set_dpi_ratio', { dpi_ratio: fig.ratio });\n        }\n        fig.send_message('refresh', {});\n    };\n\n    this.imageObj.onload = function () {\n        if (fig.image_mode === 'full') {\n            // Full images could contain transparency (where diff images\n            // almost always do), so we need to clear the canvas so that\n            // there is no ghosting.\n            fig.context.clearRect(0, 0, fig.canvas.width, fig.canvas.height);\n        }\n        fig.context.drawImage(fig.imageObj, 0, 0);\n    };\n\n    this.imageObj.onunload = function () {\n        fig.ws.close();\n    };\n\n    this.ws.onmessage = this._make_on_message_function(this);\n\n    this.ondownload = ondownload;\n};\n\nmpl.figure.prototype._init_header = function () {\n    var titlebar = document.createElement('div');\n    titlebar.classList =\n        'ui-dialog-titlebar ui-widget-header ui-corner-all ui-helper-clearfix';\n    var titletext = document.createElement('div');\n    titletext.classList = 'ui-dialog-title';\n    titletext.setAttribute(\n        'style',\n        'width: 100%; text-align: center; padding: 3px;'\n    );\n    titlebar.appendChild(titletext);\n    this.root.appendChild(titlebar);\n    this.header = titletext;\n};\n\nmpl.figure.prototype._canvas_extra_style = function (_canvas_div) {};\n\nmpl.figure.prototype._root_extra_style = function (_canvas_div) {};\n\nmpl.figure.prototype._init_canvas = function () {\n    var fig = this;\n\n    var canvas_div = (this.canvas_div = document.createElement('div'));\n    canvas_div.setAttribute(\n        'style',\n        'border: 1px solid #ddd;' +\n            'box-sizing: content-box;' +\n            'clear: both;' +\n            'min-height: 1px;' +\n            'min-width: 1px;' +\n            'outline: 0;' +\n            'overflow: hidden;' +\n            'position: relative;' +\n            'resize: both;'\n    );\n\n    function on_keyboard_event_closure(name) {\n        return function (event) {\n            return fig.key_event(event, name);\n        };\n    }\n\n    canvas_div.addEventListener(\n        'keydown',\n        on_keyboard_event_closure('key_press')\n    );\n    canvas_div.addEventListener(\n        'keyup',\n        on_keyboard_event_closure('key_release')\n    );\n\n    this._canvas_extra_style(canvas_div);\n    this.root.appendChild(canvas_div);\n\n    var canvas = (this.canvas = document.createElement('canvas'));\n    canvas.classList.add('mpl-canvas');\n    canvas.setAttribute('style', 'box-sizing: content-box;');\n\n    this.context = canvas.getContext('2d');\n\n    var backingStore =\n        this.context.backingStorePixelRatio ||\n        this.context.webkitBackingStorePixelRatio ||\n        this.context.mozBackingStorePixelRatio ||\n        this.context.msBackingStorePixelRatio ||\n        this.context.oBackingStorePixelRatio ||\n        this.context.backingStorePixelRatio ||\n        1;\n\n    this.ratio = (window.devicePixelRatio || 1) / backingStore;\n\n    var rubberband_canvas = (this.rubberband_canvas = document.createElement(\n        'canvas'\n    ));\n    rubberband_canvas.setAttribute(\n        'style',\n        'box-sizing: content-box; position: absolute; left: 0; top: 0; z-index: 1;'\n    );\n\n    // Apply a ponyfill if ResizeObserver is not implemented by browser.\n    if (this.ResizeObserver === undefined) {\n        if (window.ResizeObserver !== undefined) {\n            this.ResizeObserver = window.ResizeObserver;\n        } else {\n            var obs = _JSXTOOLS_RESIZE_OBSERVER({});\n            this.ResizeObserver = obs.ResizeObserver;\n        }\n    }\n\n    this.resizeObserverInstance = new this.ResizeObserver(function (entries) {\n        var nentries = entries.length;\n        for (var i = 0; i < nentries; i++) {\n            var entry = entries[i];\n            var width, height;\n            if (entry.contentBoxSize) {\n                if (entry.contentBoxSize instanceof Array) {\n                    // Chrome 84 implements new version of spec.\n                    width = entry.contentBoxSize[0].inlineSize;\n                    height = entry.contentBoxSize[0].blockSize;\n                } else {\n                    // Firefox implements old version of spec.\n                    width = entry.contentBoxSize.inlineSize;\n                    height = entry.contentBoxSize.blockSize;\n                }\n            } else {\n                // Chrome <84 implements even older version of spec.\n                width = entry.contentRect.width;\n                height = entry.contentRect.height;\n            }\n\n            // Keep the size of the canvas and rubber band canvas in sync with\n            // the canvas container.\n            if (entry.devicePixelContentBoxSize) {\n                // Chrome 84 implements new version of spec.\n                canvas.setAttribute(\n                    'width',\n                    entry.devicePixelContentBoxSize[0].inlineSize\n                );\n                canvas.setAttribute(\n                    'height',\n                    entry.devicePixelContentBoxSize[0].blockSize\n                );\n            } else {\n                canvas.setAttribute('width', width * fig.ratio);\n                canvas.setAttribute('height', height * fig.ratio);\n            }\n            canvas.setAttribute(\n                'style',\n                'width: ' + width + 'px; height: ' + height + 'px;'\n            );\n\n            rubberband_canvas.setAttribute('width', width);\n            rubberband_canvas.setAttribute('height', height);\n\n            // And update the size in Python. We ignore the initial 0/0 size\n            // that occurs as the element is placed into the DOM, which should\n            // otherwise not happen due to the minimum size styling.\n            if (fig.ws.readyState == 1 && width != 0 && height != 0) {\n                fig.request_resize(width, height);\n            }\n        }\n    });\n    this.resizeObserverInstance.observe(canvas_div);\n\n    function on_mouse_event_closure(name) {\n        return function (event) {\n            return fig.mouse_event(event, name);\n        };\n    }\n\n    rubberband_canvas.addEventListener(\n        'mousedown',\n        on_mouse_event_closure('button_press')\n    );\n    rubberband_canvas.addEventListener(\n        'mouseup',\n        on_mouse_event_closure('button_release')\n    );\n    rubberband_canvas.addEventListener(\n        'dblclick',\n        on_mouse_event_closure('dblclick')\n    );\n    // Throttle sequential mouse events to 1 every 20ms.\n    rubberband_canvas.addEventListener(\n        'mousemove',\n        on_mouse_event_closure('motion_notify')\n    );\n\n    rubberband_canvas.addEventListener(\n        'mouseenter',\n        on_mouse_event_closure('figure_enter')\n    );\n    rubberband_canvas.addEventListener(\n        'mouseleave',\n        on_mouse_event_closure('figure_leave')\n    );\n\n    canvas_div.addEventListener('wheel', function (event) {\n        if (event.deltaY < 0) {\n            event.step = 1;\n        } else {\n            event.step = -1;\n        }\n        on_mouse_event_closure('scroll')(event);\n    });\n\n    canvas_div.appendChild(canvas);\n    canvas_div.appendChild(rubberband_canvas);\n\n    this.rubberband_context = rubberband_canvas.getContext('2d');\n    this.rubberband_context.strokeStyle = '#000000';\n\n    this._resize_canvas = function (width, height, forward) {\n        if (forward) {\n            canvas_div.style.width = width + 'px';\n            canvas_div.style.height = height + 'px';\n        }\n    };\n\n    // Disable right mouse context menu.\n    this.rubberband_canvas.addEventListener('contextmenu', function (_e) {\n        event.preventDefault();\n        return false;\n    });\n\n    function set_focus() {\n        canvas.focus();\n        canvas_div.focus();\n    }\n\n    window.setTimeout(set_focus, 100);\n};\n\nmpl.figure.prototype._init_toolbar = function () {\n    var fig = this;\n\n    var toolbar = document.createElement('div');\n    toolbar.classList = 'mpl-toolbar';\n    this.root.appendChild(toolbar);\n\n    function on_click_closure(name) {\n        return function (_event) {\n            return fig.toolbar_button_onclick(name);\n        };\n    }\n\n    function on_mouseover_closure(tooltip) {\n        return function (event) {\n            if (!event.currentTarget.disabled) {\n                return fig.toolbar_button_onmouseover(tooltip);\n            }\n        };\n    }\n\n    fig.buttons = {};\n    var buttonGroup = document.createElement('div');\n    buttonGroup.classList = 'mpl-button-group';\n    for (var toolbar_ind in mpl.toolbar_items) {\n        var name = mpl.toolbar_items[toolbar_ind][0];\n        var tooltip = mpl.toolbar_items[toolbar_ind][1];\n        var image = mpl.toolbar_items[toolbar_ind][2];\n        var method_name = mpl.toolbar_items[toolbar_ind][3];\n\n        if (!name) {\n            /* Instead of a spacer, we start a new button group. */\n            if (buttonGroup.hasChildNodes()) {\n                toolbar.appendChild(buttonGroup);\n            }\n            buttonGroup = document.createElement('div');\n            buttonGroup.classList = 'mpl-button-group';\n            continue;\n        }\n\n        var button = (fig.buttons[name] = document.createElement('button'));\n        button.classList = 'mpl-widget';\n        button.setAttribute('role', 'button');\n        button.setAttribute('aria-disabled', 'false');\n        button.addEventListener('click', on_click_closure(method_name));\n        button.addEventListener('mouseover', on_mouseover_closure(tooltip));\n\n        var icon_img = document.createElement('img');\n        icon_img.src = '_images/' + image + '.png';\n        icon_img.srcset = '_images/' + image + '_large.png 2x';\n        icon_img.alt = tooltip;\n        button.appendChild(icon_img);\n\n        buttonGroup.appendChild(button);\n    }\n\n    if (buttonGroup.hasChildNodes()) {\n        toolbar.appendChild(buttonGroup);\n    }\n\n    var fmt_picker = document.createElement('select');\n    fmt_picker.classList = 'mpl-widget';\n    toolbar.appendChild(fmt_picker);\n    this.format_dropdown = fmt_picker;\n\n    for (var ind in mpl.extensions) {\n        var fmt = mpl.extensions[ind];\n        var option = document.createElement('option');\n        option.selected = fmt === mpl.default_extension;\n        option.innerHTML = fmt;\n        fmt_picker.appendChild(option);\n    }\n\n    var status_bar = document.createElement('span');\n    status_bar.classList = 'mpl-message';\n    toolbar.appendChild(status_bar);\n    this.message = status_bar;\n};\n\nmpl.figure.prototype.request_resize = function (x_pixels, y_pixels) {\n    // Request matplotlib to resize the figure. Matplotlib will then trigger a resize in the client,\n    // which will in turn request a refresh of the image.\n    this.send_message('resize', { width: x_pixels, height: y_pixels });\n};\n\nmpl.figure.prototype.send_message = function (type, properties) {\n    properties['type'] = type;\n    properties['figure_id'] = this.id;\n    this.ws.send(JSON.stringify(properties));\n};\n\nmpl.figure.prototype.send_draw_message = function () {\n    if (!this.waiting) {\n        this.waiting = true;\n        this.ws.send(JSON.stringify({ type: 'draw', figure_id: this.id }));\n    }\n};\n\nmpl.figure.prototype.handle_save = function (fig, _msg) {\n    var format_dropdown = fig.format_dropdown;\n    var format = format_dropdown.options[format_dropdown.selectedIndex].value;\n    fig.ondownload(fig, format);\n};\n\nmpl.figure.prototype.handle_resize = function (fig, msg) {\n    var size = msg['size'];\n    if (size[0] !== fig.canvas.width || size[1] !== fig.canvas.height) {\n        fig._resize_canvas(size[0], size[1], msg['forward']);\n        fig.send_message('refresh', {});\n    }\n};\n\nmpl.figure.prototype.handle_rubberband = function (fig, msg) {\n    var x0 = msg['x0'] / fig.ratio;\n    var y0 = (fig.canvas.height - msg['y0']) / fig.ratio;\n    var x1 = msg['x1'] / fig.ratio;\n    var y1 = (fig.canvas.height - msg['y1']) / fig.ratio;\n    x0 = Math.floor(x0) + 0.5;\n    y0 = Math.floor(y0) + 0.5;\n    x1 = Math.floor(x1) + 0.5;\n    y1 = Math.floor(y1) + 0.5;\n    var min_x = Math.min(x0, x1);\n    var min_y = Math.min(y0, y1);\n    var width = Math.abs(x1 - x0);\n    var height = Math.abs(y1 - y0);\n\n    fig.rubberband_context.clearRect(\n        0,\n        0,\n        fig.canvas.width / fig.ratio,\n        fig.canvas.height / fig.ratio\n    );\n\n    fig.rubberband_context.strokeRect(min_x, min_y, width, height);\n};\n\nmpl.figure.prototype.handle_figure_label = function (fig, msg) {\n    // Updates the figure title.\n    fig.header.textContent = msg['label'];\n};\n\nmpl.figure.prototype.handle_cursor = function (fig, msg) {\n    var cursor = msg['cursor'];\n    switch (cursor) {\n        case 0:\n            cursor = 'pointer';\n            break;\n        case 1:\n            cursor = 'default';\n            break;\n        case 2:\n            cursor = 'crosshair';\n            break;\n        case 3:\n            cursor = 'move';\n            break;\n    }\n    fig.rubberband_canvas.style.cursor = cursor;\n};\n\nmpl.figure.prototype.handle_message = function (fig, msg) {\n    fig.message.textContent = msg['message'];\n};\n\nmpl.figure.prototype.handle_draw = function (fig, _msg) {\n    // Request the server to send over a new figure.\n    fig.send_draw_message();\n};\n\nmpl.figure.prototype.handle_image_mode = function (fig, msg) {\n    fig.image_mode = msg['mode'];\n};\n\nmpl.figure.prototype.handle_history_buttons = function (fig, msg) {\n    for (var key in msg) {\n        if (!(key in fig.buttons)) {\n            continue;\n        }\n        fig.buttons[key].disabled = !msg[key];\n        fig.buttons[key].setAttribute('aria-disabled', !msg[key]);\n    }\n};\n\nmpl.figure.prototype.handle_navigate_mode = function (fig, msg) {\n    if (msg['mode'] === 'PAN') {\n        fig.buttons['Pan'].classList.add('active');\n        fig.buttons['Zoom'].classList.remove('active');\n    } else if (msg['mode'] === 'ZOOM') {\n        fig.buttons['Pan'].classList.remove('active');\n        fig.buttons['Zoom'].classList.add('active');\n    } else {\n        fig.buttons['Pan'].classList.remove('active');\n        fig.buttons['Zoom'].classList.remove('active');\n    }\n};\n\nmpl.figure.prototype.updated_canvas_event = function () {\n    // Called whenever the canvas gets updated.\n    this.send_message('ack', {});\n};\n\n// A function to construct a web socket function for onmessage handling.\n// Called in the figure constructor.\nmpl.figure.prototype._make_on_message_function = function (fig) {\n    return function socket_on_message(evt) {\n        if (evt.data instanceof Blob) {\n            var img = evt.data;\n            if (img.type !== 'image/png') {\n                /* FIXME: We get \"Resource interpreted as Image but\n                 * transferred with MIME type text/plain:\" errors on\n                 * Chrome.  But how to set the MIME type?  It doesn't seem\n                 * to be part of the websocket stream */\n                img.type = 'image/png';\n            }\n\n            /* Free the memory for the previous frames */\n            if (fig.imageObj.src) {\n                (window.URL || window.webkitURL).revokeObjectURL(\n                    fig.imageObj.src\n                );\n            }\n\n            fig.imageObj.src = (window.URL || window.webkitURL).createObjectURL(\n                img\n            );\n            fig.updated_canvas_event();\n            fig.waiting = false;\n            return;\n        } else if (\n            typeof evt.data === 'string' &&\n            evt.data.slice(0, 21) === 'data:image/png;base64'\n        ) {\n            fig.imageObj.src = evt.data;\n            fig.updated_canvas_event();\n            fig.waiting = false;\n            return;\n        }\n\n        var msg = JSON.parse(evt.data);\n        var msg_type = msg['type'];\n\n        // Call the  \"handle_{type}\" callback, which takes\n        // the figure and JSON message as its only arguments.\n        try {\n            var callback = fig['handle_' + msg_type];\n        } catch (e) {\n            console.log(\n                \"No handler for the '\" + msg_type + \"' message type: \",\n                msg\n            );\n            return;\n        }\n\n        if (callback) {\n            try {\n                // console.log(\"Handling '\" + msg_type + \"' message: \", msg);\n                callback(fig, msg);\n            } catch (e) {\n                console.log(\n                    \"Exception inside the 'handler_\" + msg_type + \"' callback:\",\n                    e,\n                    e.stack,\n                    msg\n                );\n            }\n        }\n    };\n};\n\n// from http://stackoverflow.com/questions/1114465/getting-mouse-location-in-canvas\nmpl.findpos = function (e) {\n    //this section is from http://www.quirksmode.org/js/events_properties.html\n    var targ;\n    if (!e) {\n        e = window.event;\n    }\n    if (e.target) {\n        targ = e.target;\n    } else if (e.srcElement) {\n        targ = e.srcElement;\n    }\n    if (targ.nodeType === 3) {\n        // defeat Safari bug\n        targ = targ.parentNode;\n    }\n\n    // pageX,Y are the mouse positions relative to the document\n    var boundingRect = targ.getBoundingClientRect();\n    var x = e.pageX - (boundingRect.left + document.body.scrollLeft);\n    var y = e.pageY - (boundingRect.top + document.body.scrollTop);\n\n    return { x: x, y: y };\n};\n\n/*\n * return a copy of an object with only non-object keys\n * we need this to avoid circular references\n * http://stackoverflow.com/a/24161582/3208463\n */\nfunction simpleKeys(original) {\n    return Object.keys(original).reduce(function (obj, key) {\n        if (typeof original[key] !== 'object') {\n            obj[key] = original[key];\n        }\n        return obj;\n    }, {});\n}\n\nmpl.figure.prototype.mouse_event = function (event, name) {\n    var canvas_pos = mpl.findpos(event);\n\n    if (name === 'button_press') {\n        this.canvas.focus();\n        this.canvas_div.focus();\n    }\n\n    var x = canvas_pos.x * this.ratio;\n    var y = canvas_pos.y * this.ratio;\n\n    this.send_message(name, {\n        x: x,\n        y: y,\n        button: event.button,\n        step: event.step,\n        guiEvent: simpleKeys(event),\n    });\n\n    /* This prevents the web browser from automatically changing to\n     * the text insertion cursor when the button is pressed.  We want\n     * to control all of the cursor setting manually through the\n     * 'cursor' event from matplotlib */\n    event.preventDefault();\n    return false;\n};\n\nmpl.figure.prototype._key_event_extra = function (_event, _name) {\n    // Handle any extra behaviour associated with a key event\n};\n\nmpl.figure.prototype.key_event = function (event, name) {\n    // Prevent repeat events\n    if (name === 'key_press') {\n        if (event.key === this._key) {\n            return;\n        } else {\n            this._key = event.key;\n        }\n    }\n    if (name === 'key_release') {\n        this._key = null;\n    }\n\n    var value = '';\n    if (event.ctrlKey && event.key !== 'Control') {\n        value += 'ctrl+';\n    }\n    else if (event.altKey && event.key !== 'Alt') {\n        value += 'alt+';\n    }\n    else if (event.shiftKey && event.key !== 'Shift') {\n        value += 'shift+';\n    }\n\n    value += 'k' + event.key;\n\n    this._key_event_extra(event, name);\n\n    this.send_message(name, { key: value, guiEvent: simpleKeys(event) });\n    return false;\n};\n\nmpl.figure.prototype.toolbar_button_onclick = function (name) {\n    if (name === 'download') {\n        this.handle_save(this, null);\n    } else {\n        this.send_message('toolbar_button', { name: name });\n    }\n};\n\nmpl.figure.prototype.toolbar_button_onmouseover = function (tooltip) {\n    this.message.textContent = tooltip;\n};\n\n///////////////// REMAINING CONTENT GENERATED BY embed_js.py /////////////////\n// prettier-ignore\nvar _JSXTOOLS_RESIZE_OBSERVER=function(A){var t,i=new WeakMap,n=new WeakMap,a=new WeakMap,r=new WeakMap,o=new Set;function s(e){if(!(this instanceof s))throw new TypeError(\"Constructor requires 'new' operator\");i.set(this,e)}function h(){throw new TypeError(\"Function is not a constructor\")}function c(e,t,i,n){e=0 in arguments?Number(arguments[0]):0,t=1 in arguments?Number(arguments[1]):0,i=2 in arguments?Number(arguments[2]):0,n=3 in arguments?Number(arguments[3]):0,this.right=(this.x=this.left=e)+(this.width=i),this.bottom=(this.y=this.top=t)+(this.height=n),Object.freeze(this)}function d(){t=requestAnimationFrame(d);var s=new WeakMap,p=new Set;o.forEach((function(t){r.get(t).forEach((function(i){var r=t instanceof window.SVGElement,o=a.get(t),d=r?0:parseFloat(o.paddingTop),f=r?0:parseFloat(o.paddingRight),l=r?0:parseFloat(o.paddingBottom),u=r?0:parseFloat(o.paddingLeft),g=r?0:parseFloat(o.borderTopWidth),m=r?0:parseFloat(o.borderRightWidth),w=r?0:parseFloat(o.borderBottomWidth),b=u+f,F=d+l,v=(r?0:parseFloat(o.borderLeftWidth))+m,W=g+w,y=r?0:t.offsetHeight-W-t.clientHeight,E=r?0:t.offsetWidth-v-t.clientWidth,R=b+v,z=F+W,M=r?t.width:parseFloat(o.width)-R-E,O=r?t.height:parseFloat(o.height)-z-y;if(n.has(t)){var k=n.get(t);if(k[0]===M&&k[1]===O)return}n.set(t,[M,O]);var S=Object.create(h.prototype);S.target=t,S.contentRect=new c(u,d,M,O),s.has(i)||(s.set(i,[]),p.add(i)),s.get(i).push(S)}))})),p.forEach((function(e){i.get(e).call(e,s.get(e),e)}))}return s.prototype.observe=function(i){if(i instanceof window.Element){r.has(i)||(r.set(i,new Set),o.add(i),a.set(i,window.getComputedStyle(i)));var n=r.get(i);n.has(this)||n.add(this),cancelAnimationFrame(t),t=requestAnimationFrame(d)}},s.prototype.unobserve=function(i){if(i instanceof window.Element&&r.has(i)){var n=r.get(i);n.has(this)&&(n.delete(this),n.size||(r.delete(i),o.delete(i))),n.size||r.delete(i),o.size||cancelAnimationFrame(t)}},A.DOMRectReadOnly=c,A.ResizeObserver=s,A.ResizeObserverEntry=h,A}; // eslint-disable-line\nmpl.toolbar_items = [[\"Home\", \"Reset original view\", \"fa fa-home icon-home\", \"home\"], [\"Back\", \"Back to previous view\", \"fa fa-arrow-left icon-arrow-left\", \"back\"], [\"Forward\", \"Forward to next view\", \"fa fa-arrow-right icon-arrow-right\", \"forward\"], [\"\", \"\", \"\", \"\"], [\"Pan\", \"Left button pans, Right button zooms\\nx/y fixes axis, CTRL fixes aspect\", \"fa fa-arrows icon-move\", \"pan\"], [\"Zoom\", \"Zoom to rectangle\\nx/y fixes axis, CTRL fixes aspect\", \"fa fa-square-o icon-check-empty\", \"zoom\"], [\"\", \"\", \"\", \"\"], [\"Download\", \"Download plot\", \"fa fa-floppy-o icon-save\", \"download\"]];\n\nmpl.extensions = [\"eps\", \"jpeg\", \"pgf\", \"pdf\", \"png\", \"ps\", \"raw\", \"svg\", \"tif\"];\n\nmpl.default_extension = \"png\";/* global mpl */\n\nvar comm_websocket_adapter = function (comm) {\n    // Create a \"websocket\"-like object which calls the given IPython comm\n    // object with the appropriate methods. Currently this is a non binary\n    // socket, so there is still some room for performance tuning.\n    var ws = {};\n\n    ws.binaryType = comm.kernel.ws.binaryType;\n    ws.readyState = comm.kernel.ws.readyState;\n    function updateReadyState(_event) {\n        if (comm.kernel.ws) {\n            ws.readyState = comm.kernel.ws.readyState;\n        } else {\n            ws.readyState = 3; // Closed state.\n        }\n    }\n    comm.kernel.ws.addEventListener('open', updateReadyState);\n    comm.kernel.ws.addEventListener('close', updateReadyState);\n    comm.kernel.ws.addEventListener('error', updateReadyState);\n\n    ws.close = function () {\n        comm.close();\n    };\n    ws.send = function (m) {\n        //console.log('sending', m);\n        comm.send(m);\n    };\n    // Register the callback with on_msg.\n    comm.on_msg(function (msg) {\n        //console.log('receiving', msg['content']['data'], msg);\n        var data = msg['content']['data'];\n        if (data['blob'] !== undefined) {\n            data = {\n                data: new Blob(msg['buffers'], { type: data['blob'] }),\n            };\n        }\n        // Pass the mpl event to the overridden (by mpl) onmessage function.\n        ws.onmessage(data);\n    });\n    return ws;\n};\n\nmpl.mpl_figure_comm = function (comm, msg) {\n    // This is the function which gets called when the mpl process\n    // starts-up an IPython Comm through the \"matplotlib\" channel.\n\n    var id = msg.content.data.id;\n    // Get hold of the div created by the display call when the Comm\n    // socket was opened in Python.\n    var element = document.getElementById(id);\n    var ws_proxy = comm_websocket_adapter(comm);\n\n    function ondownload(figure, _format) {\n        window.open(figure.canvas.toDataURL());\n    }\n\n    var fig = new mpl.figure(id, ws_proxy, ondownload, element);\n\n    // Call onopen now - mpl needs it, as it is assuming we've passed it a real\n    // web socket which is closed, not our websocket->open comm proxy.\n    ws_proxy.onopen();\n\n    fig.parent_element = element;\n    fig.cell_info = mpl.find_output_cell(\"<div id='\" + id + \"'></div>\");\n    if (!fig.cell_info) {\n        console.error('Failed to find cell for figure', id, fig);\n        return;\n    }\n    fig.cell_info[0].output_area.element.on(\n        'cleared',\n        { fig: fig },\n        fig._remove_fig_handler\n    );\n};\n\nmpl.figure.prototype.handle_close = function (fig, msg) {\n    var width = fig.canvas.width / fig.ratio;\n    fig.cell_info[0].output_area.element.off(\n        'cleared',\n        fig._remove_fig_handler\n    );\n    fig.resizeObserverInstance.unobserve(fig.canvas_div);\n\n    // Update the output cell to use the data from the current canvas.\n    fig.push_to_output();\n    var dataURL = fig.canvas.toDataURL();\n    // Re-enable the keyboard manager in IPython - without this line, in FF,\n    // the notebook keyboard shortcuts fail.\n    IPython.keyboard_manager.enable();\n    fig.parent_element.innerHTML =\n        '<img src=\"' + dataURL + '\" width=\"' + width + '\">';\n    fig.close_ws(fig, msg);\n};\n\nmpl.figure.prototype.close_ws = function (fig, msg) {\n    fig.send_message('closing', msg);\n    // fig.ws.close()\n};\n\nmpl.figure.prototype.push_to_output = function (_remove_interactive) {\n    // Turn the data on the canvas into data in the output cell.\n    var width = this.canvas.width / this.ratio;\n    var dataURL = this.canvas.toDataURL();\n    this.cell_info[1]['text/html'] =\n        '<img src=\"' + dataURL + '\" width=\"' + width + '\">';\n};\n\nmpl.figure.prototype.updated_canvas_event = function () {\n    // Tell IPython that the notebook contents must change.\n    IPython.notebook.set_dirty(true);\n    this.send_message('ack', {});\n    var fig = this;\n    // Wait a second, then push the new image to the DOM so\n    // that it is saved nicely (might be nice to debounce this).\n    setTimeout(function () {\n        fig.push_to_output();\n    }, 1000);\n};\n\nmpl.figure.prototype._init_toolbar = function () {\n    var fig = this;\n\n    var toolbar = document.createElement('div');\n    toolbar.classList = 'btn-toolbar';\n    this.root.appendChild(toolbar);\n\n    function on_click_closure(name) {\n        return function (_event) {\n            return fig.toolbar_button_onclick(name);\n        };\n    }\n\n    function on_mouseover_closure(tooltip) {\n        return function (event) {\n            if (!event.currentTarget.disabled) {\n                return fig.toolbar_button_onmouseover(tooltip);\n            }\n        };\n    }\n\n    fig.buttons = {};\n    var buttonGroup = document.createElement('div');\n    buttonGroup.classList = 'btn-group';\n    var button;\n    for (var toolbar_ind in mpl.toolbar_items) {\n        var name = mpl.toolbar_items[toolbar_ind][0];\n        var tooltip = mpl.toolbar_items[toolbar_ind][1];\n        var image = mpl.toolbar_items[toolbar_ind][2];\n        var method_name = mpl.toolbar_items[toolbar_ind][3];\n\n        if (!name) {\n            /* Instead of a spacer, we start a new button group. */\n            if (buttonGroup.hasChildNodes()) {\n                toolbar.appendChild(buttonGroup);\n            }\n            buttonGroup = document.createElement('div');\n            buttonGroup.classList = 'btn-group';\n            continue;\n        }\n\n        button = fig.buttons[name] = document.createElement('button');\n        button.classList = 'btn btn-default';\n        button.href = '#';\n        button.title = name;\n        button.innerHTML = '<i class=\"fa ' + image + ' fa-lg\"></i>';\n        button.addEventListener('click', on_click_closure(method_name));\n        button.addEventListener('mouseover', on_mouseover_closure(tooltip));\n        buttonGroup.appendChild(button);\n    }\n\n    if (buttonGroup.hasChildNodes()) {\n        toolbar.appendChild(buttonGroup);\n    }\n\n    // Add the status bar.\n    var status_bar = document.createElement('span');\n    status_bar.classList = 'mpl-message pull-right';\n    toolbar.appendChild(status_bar);\n    this.message = status_bar;\n\n    // Add the close button to the window.\n    var buttongrp = document.createElement('div');\n    buttongrp.classList = 'btn-group inline pull-right';\n    button = document.createElement('button');\n    button.classList = 'btn btn-mini btn-primary';\n    button.href = '#';\n    button.title = 'Stop Interaction';\n    button.innerHTML = '<i class=\"fa fa-power-off icon-remove icon-large\"></i>';\n    button.addEventListener('click', function (_evt) {\n        fig.handle_close(fig, {});\n    });\n    button.addEventListener(\n        'mouseover',\n        on_mouseover_closure('Stop Interaction')\n    );\n    buttongrp.appendChild(button);\n    var titlebar = this.root.querySelector('.ui-dialog-titlebar');\n    titlebar.insertBefore(buttongrp, titlebar.firstChild);\n};\n\nmpl.figure.prototype._remove_fig_handler = function (event) {\n    var fig = event.data.fig;\n    if (event.target !== this) {\n        // Ignore bubbled events from children.\n        return;\n    }\n    fig.close_ws(fig, {});\n};\n\nmpl.figure.prototype._root_extra_style = function (el) {\n    el.style.boxSizing = 'content-box'; // override notebook setting of border-box.\n};\n\nmpl.figure.prototype._canvas_extra_style = function (el) {\n    // this is important to make the div 'focusable\n    el.setAttribute('tabindex', 0);\n    // reach out to IPython and tell the keyboard manager to turn it's self\n    // off when our div gets focus\n\n    // location in version 3\n    if (IPython.notebook.keyboard_manager) {\n        IPython.notebook.keyboard_manager.register_events(el);\n    } else {\n        // location in version 2\n        IPython.keyboard_manager.register_events(el);\n    }\n};\n\nmpl.figure.prototype._key_event_extra = function (event, _name) {\n    var manager = IPython.notebook.keyboard_manager;\n    if (!manager) {\n        manager = IPython.keyboard_manager;\n    }\n\n    // Check for shift+enter\n    if (event.shiftKey && event.which === 13) {\n        this.canvas_div.blur();\n        // select the cell after this one\n        var index = IPython.notebook.find_cell_index(this.cell_info[0]);\n        IPython.notebook.select(index + 1);\n    }\n};\n\nmpl.figure.prototype.handle_save = function (fig, _msg) {\n    fig.ondownload(fig, null);\n};\n\nmpl.find_output_cell = function (html_output) {\n    // Return the cell and output element which can be found *uniquely* in the notebook.\n    // Note - this is a bit hacky, but it is done because the \"notebook_saving.Notebook\"\n    // IPython event is triggered only after the cells have been serialised, which for\n    // our purposes (turning an active figure into a static one), is too late.\n    var cells = IPython.notebook.get_cells();\n    var ncells = cells.length;\n    for (var i = 0; i < ncells; i++) {\n        var cell = cells[i];\n        if (cell.cell_type === 'code') {\n            for (var j = 0; j < cell.output_area.outputs.length; j++) {\n                var data = cell.output_area.outputs[j];\n                if (data.data) {\n                    // IPython >= 3 moved mimebundle to data attribute of output\n                    data = data.data;\n                }\n                if (data['text/html'] === html_output) {\n                    return [cell, data, j];\n                }\n            }\n        }\n    }\n};\n\n// Register the function which deals with the matplotlib target/channel.\n// The kernel may be null if the page has been refreshed.\nif (IPython.notebook.kernel !== null) {\n    IPython.notebook.kernel.comm_manager.register_target(\n        'matplotlib',\n        mpl.mpl_figure_comm\n    );\n}\n"
          },
          "metadata": {}
        },
        {
          "output_type": "display_data",
          "data": {
            "text/plain": [
              "<IPython.core.display.HTML object>"
            ],
            "text/html": [
              "<div id='96f65839-4803-45a7-b6f1-dc1ff7d9ea7b'></div>"
            ]
          },
          "metadata": {}
        }
      ],
      "metadata": {}
    },
    {
      "cell_type": "markdown",
      "source": [
        "### Delete a Web Service\r\n",
        "\r\n",
        "删除指定的web服务。"
      ],
      "metadata": {}
    },
    {
      "cell_type": "code",
      "execution_count": null,
      "source": [
        "aci_service.delete()"
      ],
      "outputs": [],
      "metadata": {}
    },
    {
      "cell_type": "markdown",
      "source": [
        "**注意** 这是一个翻译的版本，原始的notebook在这里: https://github.com/Azure/MachineLearningNotebooks/tree/master/how-to-use-azureml/automated-machine-learning/classification-bank-marketing-all-features"
      ],
      "metadata": {}
    },
    {
      "cell_type": "markdown",
      "source": [
        "## Acknowledgements"
      ],
      "metadata": {}
    },
    {
      "cell_type": "markdown",
      "source": [
        "This Bank Marketing dataset is made available under the Creative Commons (CCO: Public Domain) License: https://creativecommons.org/publicdomain/zero/1.0/. Any rights in individual contents of the database are licensed under the Database Contents License: https://creativecommons.org/publicdomain/zero/1.0/ and is available at: https://www.kaggle.com/janiobachmann/bank-marketing-dataset .\n",
        "\n",
        "_**Acknowledgements**_\n",
        "This data set is originally available within the UCI Machine Learning Database: https://archive.ics.uci.edu/ml/datasets/bank+marketing\n",
        "\n",
        "[Moro et al., 2014] S. Moro, P. Cortez and P. Rita. A Data-Driven Approach to Predict the Success of Bank Telemarketing. Decision Support Systems, Elsevier, 62:22-31, June 2014"
      ],
      "metadata": {}
    }
  ],
  "metadata": {
    "authors": [
      {
        "name": "ratanase"
      }
    ],
    "category": "tutorial",
    "compute": [
      "AML"
    ],
    "datasets": [
      "Bankmarketing"
    ],
    "deployment": [
      "ACI"
    ],
    "exclude_from_index": false,
    "framework": [
      "None"
    ],
    "friendly_name": "Automated ML run with basic edition features.",
    "index_order": 5,
    "kernelspec": {
      "name": "python38-azureml",
      "display_name": "Python 3.8 - AzureML",
      "language": "python"
    },
    "tags": [
      "featurization",
      "explainability",
      "remote_run",
      "AutomatedML"
    ],
    "task": "Classification",
    "interpreter": {
      "hash": "72f4582a62926de9b2f652a69f5b3b9dfb8ffef716c254f5d7af0a75c3789cbb"
    },
    "language_info": {
      "name": "python",
      "version": "3.8.1",
      "mimetype": "text/x-python",
      "codemirror_mode": {
        "name": "ipython",
        "version": 3
      },
      "pygments_lexer": "ipython3",
      "nbconvert_exporter": "python",
      "file_extension": ".py"
    }
  },
  "nbformat": 4,
  "nbformat_minor": 2
}